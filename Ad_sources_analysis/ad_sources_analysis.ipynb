{
 "cells": [
  {
   "cell_type": "markdown",
   "metadata": {
    "toc": true
   },
   "source": [
    "<h1>Содержание<span class=\"tocSkip\"></span></h1>\n",
    "<div class=\"toc\"><ul class=\"toc-item\"><li><span><a href=\"#Предобработка-данных\" data-toc-modified-id=\"Предобработка-данных-1\"><span class=\"toc-item-num\">1&nbsp;&nbsp;</span>Предобработка данных</a></span></li><li><span><a href=\"#Дополнительные-расчеты\" data-toc-modified-id=\"Дополнительные-расчеты-2\"><span class=\"toc-item-num\">2&nbsp;&nbsp;</span>Дополнительные расчеты</a></span></li><li><span><a href=\"#Исследовательский-анализ-данных\" data-toc-modified-id=\"Исследовательский-анализ-данных-3\"><span class=\"toc-item-num\">3&nbsp;&nbsp;</span>Исследовательский анализ данных</a></span><ul class=\"toc-item\"><li><span><a href=\"#Данные-о-событиях-в-мобильной-игре\" data-toc-modified-id=\"Данные-о-событиях-в-мобильной-игре-3.1\"><span class=\"toc-item-num\">3.1&nbsp;&nbsp;</span>Данные о событиях в мобильной игре</a></span></li><li><span><a href=\"#Данные-рекламных-активностей\" data-toc-modified-id=\"Данные-рекламных-активностей-3.2\"><span class=\"toc-item-num\">3.2&nbsp;&nbsp;</span>Данные рекламных активностей</a></span></li></ul></li><li><span><a href=\"#Анализ-влияния-источника-перехода-в-игру-на-поведение-пользователей\" data-toc-modified-id=\"Анализ-влияния-источника-перехода-в-игру-на-поведение-пользователей-4\"><span class=\"toc-item-num\">4&nbsp;&nbsp;</span>Анализ влияния источника перехода в игру на поведение пользователей</a></span></li><li><span><a href=\"#Проверка-статистических-гипотез\" data-toc-modified-id=\"Проверка-статистических-гипотез-5\"><span class=\"toc-item-num\">5&nbsp;&nbsp;</span>Проверка статистических гипотез</a></span><ul class=\"toc-item\"><li><span><a href=\"#Зависимость-времени-завершения-уровня-от-способа-прохождения\" data-toc-modified-id=\"Зависимость-времени-завершения-уровня-от-способа-прохождения-5.1\"><span class=\"toc-item-num\">5.1&nbsp;&nbsp;</span>Зависимость времени завершения уровня от способа прохождения</a></span></li><li><span><a href=\"#Зависимость-количества-построек-от-способа-прохождения-уровня\" data-toc-modified-id=\"Зависимость-количества-построек-от-способа-прохождения-уровня-5.2\"><span class=\"toc-item-num\">5.2&nbsp;&nbsp;</span>Зависимость количества построек от способа прохождения уровня</a></span></li></ul></li><li><span><a href=\"#Общие-выводы\" data-toc-modified-id=\"Общие-выводы-6\"><span class=\"toc-item-num\">6&nbsp;&nbsp;</span>Общие выводы</a></span></li></ul></div>"
   ]
  },
  {
   "cell_type": "markdown",
   "metadata": {},
   "source": [
    "# Анализ рекламных источников мобильной игры"
   ]
  },
  {
   "cell_type": "markdown",
   "metadata": {},
   "source": [
    "Цель исследования: Выявить особенности поведения пользователей в зависимости от источника перехода в игру.\n",
    "\n",
    "Задачи:\n",
    "* Провести исследовательский анализ данных;\n",
    "* Проанализировать влияние источника перехода в игру на поведение пользователей;\n",
    "* Выдвинуть и проверить статистические гипотезы.\n",
    "\n",
    "Для решения задач проекта будут использованы данные о событиях, совершенных в мобильной игре на первом уровне когортой пользователей, которые начали пользоваться приложением с 4 по 10 мая включительно; а также, данные с информацией о рекламных активностях. "
   ]
  },
  {
   "cell_type": "code",
   "execution_count": 1,
   "metadata": {},
   "outputs": [],
   "source": [
    "#импорт библиотек\n",
    "import pandas as pd\n",
    "import datetime as dt\n",
    "import numpy as np\n",
    "from scipy import stats as st\n",
    "import matplotlib.pyplot as plt\n",
    "import seaborn as sns\n",
    "\n",
    "import warnings\n",
    "warnings.filterwarnings('ignore')"
   ]
  },
  {
   "cell_type": "markdown",
   "metadata": {},
   "source": [
    "## Предобработка данных"
   ]
  },
  {
   "cell_type": "code",
   "execution_count": 2,
   "metadata": {},
   "outputs": [],
   "source": [
    "#запись датасетов в переменные\n",
    "game_actions = pd.read_csv('game_actions.csv') #данные событий в игре\n",
    "ad_costs = pd.read_csv('ad_costs.csv') #данные стоимости рекламы\n",
    "user_source = pd.read_csv('user_source.csv') #данные рекламных источников"
   ]
  },
  {
   "cell_type": "code",
   "execution_count": 3,
   "metadata": {},
   "outputs": [],
   "source": [
    "#функция первичного анализа данных\n",
    "def data_review(data):\n",
    "    data.info()\n",
    "    display(data.head(5))\n",
    "    print('Количество строк-дубликатов:', data.duplicated().sum())\n",
    "    for i in list(data.columns):\n",
    "        if data[i].dtypes == 'float64' or data[i].dtypes == 'int64':\n",
    "            display(data[i].describe())\n",
    "        if data[i].dtypes == 'object' and i != 'user_id':\n",
    "            display(data[i].value_counts())           \n",
    "    print('*'*50)"
   ]
  },
  {
   "cell_type": "code",
   "execution_count": 4,
   "metadata": {},
   "outputs": [
    {
     "name": "stdout",
     "output_type": "stream",
     "text": [
      "\u001b[1mgame_actions\n",
      "\u001b[0m\n",
      "<class 'pandas.core.frame.DataFrame'>\n",
      "RangeIndex: 135640 entries, 0 to 135639\n",
      "Data columns (total 5 columns):\n",
      " #   Column          Non-Null Count   Dtype \n",
      "---  ------          --------------   ----- \n",
      " 0   event_datetime  135640 non-null  object\n",
      " 1   event           135640 non-null  object\n",
      " 2   building_type   127957 non-null  object\n",
      " 3   user_id         135640 non-null  object\n",
      " 4   project_type    1866 non-null    object\n",
      "dtypes: object(5)\n",
      "memory usage: 5.2+ MB\n"
     ]
    },
    {
     "data": {
      "text/html": [
       "<div>\n",
       "<style scoped>\n",
       "    .dataframe tbody tr th:only-of-type {\n",
       "        vertical-align: middle;\n",
       "    }\n",
       "\n",
       "    .dataframe tbody tr th {\n",
       "        vertical-align: top;\n",
       "    }\n",
       "\n",
       "    .dataframe thead th {\n",
       "        text-align: right;\n",
       "    }\n",
       "</style>\n",
       "<table border=\"1\" class=\"dataframe\">\n",
       "  <thead>\n",
       "    <tr style=\"text-align: right;\">\n",
       "      <th></th>\n",
       "      <th>event_datetime</th>\n",
       "      <th>event</th>\n",
       "      <th>building_type</th>\n",
       "      <th>user_id</th>\n",
       "      <th>project_type</th>\n",
       "    </tr>\n",
       "  </thead>\n",
       "  <tbody>\n",
       "    <tr>\n",
       "      <th>0</th>\n",
       "      <td>2020-05-04 00:00:01</td>\n",
       "      <td>building</td>\n",
       "      <td>assembly_shop</td>\n",
       "      <td>55e92310-cb8e-4754-b622-597e124b03de</td>\n",
       "      <td>NaN</td>\n",
       "    </tr>\n",
       "    <tr>\n",
       "      <th>1</th>\n",
       "      <td>2020-05-04 00:00:03</td>\n",
       "      <td>building</td>\n",
       "      <td>assembly_shop</td>\n",
       "      <td>c07b1c10-f477-44dc-81dc-ec82254b1347</td>\n",
       "      <td>NaN</td>\n",
       "    </tr>\n",
       "    <tr>\n",
       "      <th>2</th>\n",
       "      <td>2020-05-04 00:00:16</td>\n",
       "      <td>building</td>\n",
       "      <td>assembly_shop</td>\n",
       "      <td>6edd42cc-e753-4ff6-a947-2107cd560710</td>\n",
       "      <td>NaN</td>\n",
       "    </tr>\n",
       "    <tr>\n",
       "      <th>3</th>\n",
       "      <td>2020-05-04 00:00:16</td>\n",
       "      <td>building</td>\n",
       "      <td>assembly_shop</td>\n",
       "      <td>92c69003-d60a-444a-827f-8cc51bf6bf4c</td>\n",
       "      <td>NaN</td>\n",
       "    </tr>\n",
       "    <tr>\n",
       "      <th>4</th>\n",
       "      <td>2020-05-04 00:00:35</td>\n",
       "      <td>building</td>\n",
       "      <td>assembly_shop</td>\n",
       "      <td>cdc6bb92-0ccb-4490-9866-ef142f09139d</td>\n",
       "      <td>NaN</td>\n",
       "    </tr>\n",
       "  </tbody>\n",
       "</table>\n",
       "</div>"
      ],
      "text/plain": [
       "        event_datetime     event  building_type  \\\n",
       "0  2020-05-04 00:00:01  building  assembly_shop   \n",
       "1  2020-05-04 00:00:03  building  assembly_shop   \n",
       "2  2020-05-04 00:00:16  building  assembly_shop   \n",
       "3  2020-05-04 00:00:16  building  assembly_shop   \n",
       "4  2020-05-04 00:00:35  building  assembly_shop   \n",
       "\n",
       "                                user_id project_type  \n",
       "0  55e92310-cb8e-4754-b622-597e124b03de          NaN  \n",
       "1  c07b1c10-f477-44dc-81dc-ec82254b1347          NaN  \n",
       "2  6edd42cc-e753-4ff6-a947-2107cd560710          NaN  \n",
       "3  92c69003-d60a-444a-827f-8cc51bf6bf4c          NaN  \n",
       "4  cdc6bb92-0ccb-4490-9866-ef142f09139d          NaN  "
      ]
     },
     "metadata": {},
     "output_type": "display_data"
    },
    {
     "name": "stdout",
     "output_type": "stream",
     "text": [
      "Количество строк-дубликатов: 1\n"
     ]
    },
    {
     "data": {
      "text/plain": [
       "2020-05-09 12:35:56    4\n",
       "2020-05-09 21:49:07    4\n",
       "2020-05-07 03:10:43    4\n",
       "2020-05-07 17:57:40    4\n",
       "2020-05-10 03:08:18    4\n",
       "                      ..\n",
       "2020-05-08 16:57:22    1\n",
       "2020-05-08 16:57:21    1\n",
       "2020-05-08 16:57:06    1\n",
       "2020-05-08 16:56:40    1\n",
       "2020-06-05 12:32:49    1\n",
       "Name: event_datetime, Length: 128790, dtype: int64"
      ]
     },
     "metadata": {},
     "output_type": "display_data"
    },
    {
     "data": {
      "text/plain": [
       "building            127957\n",
       "finished_stage_1      5817\n",
       "project               1866\n",
       "Name: event, dtype: int64"
      ]
     },
     "metadata": {},
     "output_type": "display_data"
    },
    {
     "data": {
      "text/plain": [
       "spaceport          59325\n",
       "assembly_shop      54494\n",
       "research_center    14138\n",
       "Name: building_type, dtype: int64"
      ]
     },
     "metadata": {},
     "output_type": "display_data"
    },
    {
     "data": {
      "text/plain": [
       "satellite_orbital_assembly    1866\n",
       "Name: project_type, dtype: int64"
      ]
     },
     "metadata": {},
     "output_type": "display_data"
    },
    {
     "name": "stdout",
     "output_type": "stream",
     "text": [
      "**************************************************\n",
      "\u001b[1mad_costs\n",
      "\u001b[0m\n",
      "<class 'pandas.core.frame.DataFrame'>\n",
      "RangeIndex: 28 entries, 0 to 27\n",
      "Data columns (total 3 columns):\n",
      " #   Column  Non-Null Count  Dtype  \n",
      "---  ------  --------------  -----  \n",
      " 0   source  28 non-null     object \n",
      " 1   day     28 non-null     object \n",
      " 2   cost    28 non-null     float64\n",
      "dtypes: float64(1), object(2)\n",
      "memory usage: 800.0+ bytes\n"
     ]
    },
    {
     "data": {
      "text/html": [
       "<div>\n",
       "<style scoped>\n",
       "    .dataframe tbody tr th:only-of-type {\n",
       "        vertical-align: middle;\n",
       "    }\n",
       "\n",
       "    .dataframe tbody tr th {\n",
       "        vertical-align: top;\n",
       "    }\n",
       "\n",
       "    .dataframe thead th {\n",
       "        text-align: right;\n",
       "    }\n",
       "</style>\n",
       "<table border=\"1\" class=\"dataframe\">\n",
       "  <thead>\n",
       "    <tr style=\"text-align: right;\">\n",
       "      <th></th>\n",
       "      <th>source</th>\n",
       "      <th>day</th>\n",
       "      <th>cost</th>\n",
       "    </tr>\n",
       "  </thead>\n",
       "  <tbody>\n",
       "    <tr>\n",
       "      <th>0</th>\n",
       "      <td>facebook_ads</td>\n",
       "      <td>2020-05-03</td>\n",
       "      <td>935.882786</td>\n",
       "    </tr>\n",
       "    <tr>\n",
       "      <th>1</th>\n",
       "      <td>facebook_ads</td>\n",
       "      <td>2020-05-04</td>\n",
       "      <td>548.354480</td>\n",
       "    </tr>\n",
       "    <tr>\n",
       "      <th>2</th>\n",
       "      <td>facebook_ads</td>\n",
       "      <td>2020-05-05</td>\n",
       "      <td>260.185754</td>\n",
       "    </tr>\n",
       "    <tr>\n",
       "      <th>3</th>\n",
       "      <td>facebook_ads</td>\n",
       "      <td>2020-05-06</td>\n",
       "      <td>177.982200</td>\n",
       "    </tr>\n",
       "    <tr>\n",
       "      <th>4</th>\n",
       "      <td>facebook_ads</td>\n",
       "      <td>2020-05-07</td>\n",
       "      <td>111.766796</td>\n",
       "    </tr>\n",
       "  </tbody>\n",
       "</table>\n",
       "</div>"
      ],
      "text/plain": [
       "         source         day        cost\n",
       "0  facebook_ads  2020-05-03  935.882786\n",
       "1  facebook_ads  2020-05-04  548.354480\n",
       "2  facebook_ads  2020-05-05  260.185754\n",
       "3  facebook_ads  2020-05-06  177.982200\n",
       "4  facebook_ads  2020-05-07  111.766796"
      ]
     },
     "metadata": {},
     "output_type": "display_data"
    },
    {
     "name": "stdout",
     "output_type": "stream",
     "text": [
      "Количество строк-дубликатов: 0\n"
     ]
    },
    {
     "data": {
      "text/plain": [
       "facebook_ads               7\n",
       "instagram_new_adverts      7\n",
       "yandex_direct              7\n",
       "youtube_channel_reklama    7\n",
       "Name: source, dtype: int64"
      ]
     },
     "metadata": {},
     "output_type": "display_data"
    },
    {
     "data": {
      "text/plain": [
       "2020-05-03    4\n",
       "2020-05-04    4\n",
       "2020-05-05    4\n",
       "2020-05-06    4\n",
       "2020-05-07    4\n",
       "2020-05-08    4\n",
       "2020-05-09    4\n",
       "Name: day, dtype: int64"
      ]
     },
     "metadata": {},
     "output_type": "display_data"
    },
    {
     "data": {
      "text/plain": [
       "count     28.000000\n",
       "mean     271.556321\n",
       "std      286.867650\n",
       "min       23.314669\n",
       "25%       66.747365\n",
       "50%      160.056443\n",
       "75%      349.034473\n",
       "max      969.139394\n",
       "Name: cost, dtype: float64"
      ]
     },
     "metadata": {},
     "output_type": "display_data"
    },
    {
     "name": "stdout",
     "output_type": "stream",
     "text": [
      "**************************************************\n",
      "\u001b[1muser_source\n",
      "\u001b[0m\n",
      "<class 'pandas.core.frame.DataFrame'>\n",
      "RangeIndex: 13576 entries, 0 to 13575\n",
      "Data columns (total 2 columns):\n",
      " #   Column   Non-Null Count  Dtype \n",
      "---  ------   --------------  ----- \n",
      " 0   user_id  13576 non-null  object\n",
      " 1   source   13576 non-null  object\n",
      "dtypes: object(2)\n",
      "memory usage: 212.2+ KB\n"
     ]
    },
    {
     "data": {
      "text/html": [
       "<div>\n",
       "<style scoped>\n",
       "    .dataframe tbody tr th:only-of-type {\n",
       "        vertical-align: middle;\n",
       "    }\n",
       "\n",
       "    .dataframe tbody tr th {\n",
       "        vertical-align: top;\n",
       "    }\n",
       "\n",
       "    .dataframe thead th {\n",
       "        text-align: right;\n",
       "    }\n",
       "</style>\n",
       "<table border=\"1\" class=\"dataframe\">\n",
       "  <thead>\n",
       "    <tr style=\"text-align: right;\">\n",
       "      <th></th>\n",
       "      <th>user_id</th>\n",
       "      <th>source</th>\n",
       "    </tr>\n",
       "  </thead>\n",
       "  <tbody>\n",
       "    <tr>\n",
       "      <th>0</th>\n",
       "      <td>0001f83c-c6ac-4621-b7f0-8a28b283ac30</td>\n",
       "      <td>facebook_ads</td>\n",
       "    </tr>\n",
       "    <tr>\n",
       "      <th>1</th>\n",
       "      <td>00151b4f-ba38-44a8-a650-d7cf130a0105</td>\n",
       "      <td>yandex_direct</td>\n",
       "    </tr>\n",
       "    <tr>\n",
       "      <th>2</th>\n",
       "      <td>001aaea6-3d14-43f1-8ca8-7f48820f17aa</td>\n",
       "      <td>youtube_channel_reklama</td>\n",
       "    </tr>\n",
       "    <tr>\n",
       "      <th>3</th>\n",
       "      <td>001d39dc-366c-4021-9604-6a3b9ff01e25</td>\n",
       "      <td>instagram_new_adverts</td>\n",
       "    </tr>\n",
       "    <tr>\n",
       "      <th>4</th>\n",
       "      <td>002f508f-67b6-479f-814b-b05f00d4e995</td>\n",
       "      <td>facebook_ads</td>\n",
       "    </tr>\n",
       "  </tbody>\n",
       "</table>\n",
       "</div>"
      ],
      "text/plain": [
       "                                user_id                   source\n",
       "0  0001f83c-c6ac-4621-b7f0-8a28b283ac30             facebook_ads\n",
       "1  00151b4f-ba38-44a8-a650-d7cf130a0105            yandex_direct\n",
       "2  001aaea6-3d14-43f1-8ca8-7f48820f17aa  youtube_channel_reklama\n",
       "3  001d39dc-366c-4021-9604-6a3b9ff01e25    instagram_new_adverts\n",
       "4  002f508f-67b6-479f-814b-b05f00d4e995             facebook_ads"
      ]
     },
     "metadata": {},
     "output_type": "display_data"
    },
    {
     "name": "stdout",
     "output_type": "stream",
     "text": [
      "Количество строк-дубликатов: 0\n"
     ]
    },
    {
     "data": {
      "text/plain": [
       "yandex_direct              4817\n",
       "instagram_new_adverts      3347\n",
       "facebook_ads               2726\n",
       "youtube_channel_reklama    2686\n",
       "Name: source, dtype: int64"
      ]
     },
     "metadata": {},
     "output_type": "display_data"
    },
    {
     "name": "stdout",
     "output_type": "stream",
     "text": [
      "**************************************************\n"
     ]
    }
   ],
   "source": [
    "datasets = {'game_actions':game_actions, 'ad_costs':ad_costs, 'user_source':user_source}\n",
    "\n",
    "for key in datasets.keys():\n",
    "    print('\\033[1m{}'.format(key))\n",
    "    print('\\033[0m')\n",
    "    data_review(datasets.get(key))"
   ]
  },
  {
   "cell_type": "markdown",
   "metadata": {},
   "source": [
    "В наборе данных game_actions обнаружена 1 дублирующая строка, удалим ее."
   ]
  },
  {
   "cell_type": "code",
   "execution_count": 5,
   "metadata": {},
   "outputs": [
    {
     "name": "stdout",
     "output_type": "stream",
     "text": [
      "Обнаружено дубликатов в game_actions: 0\n"
     ]
    }
   ],
   "source": [
    "game_actions = game_actions.drop_duplicates().reset_index(drop=True)\n",
    "print('Обнаружено дубликатов в game_actions:', game_actions.duplicated().sum())"
   ]
  },
  {
   "cell_type": "markdown",
   "metadata": {},
   "source": [
    "Все переменные в таблицах имеют формат object, за исключением стоимости кликов с форматом float. Приведем данные с информацией о дате и времени к формату datetime. В наборе данных game_actions создадим дополнительную переменную только с датой."
   ]
  },
  {
   "cell_type": "code",
   "execution_count": 6,
   "metadata": {},
   "outputs": [],
   "source": [
    "game_actions['event_datetime'] = pd.to_datetime(game_actions['event_datetime'])\n",
    "game_actions['event_date'] = game_actions['event_datetime'].dt.date\n",
    "ad_costs['day'] = pd.to_datetime(ad_costs['day']).dt.date"
   ]
  },
  {
   "cell_type": "markdown",
   "metadata": {},
   "source": [
    "Рассмотрим корректность временных отрезков в датасетах."
   ]
  },
  {
   "cell_type": "code",
   "execution_count": 7,
   "metadata": {},
   "outputs": [
    {
     "name": "stdout",
     "output_type": "stream",
     "text": [
      "Для game_actions\n",
      "Минимальное время события: 2020-05-04 00:00:01\n",
      "Максимальное время события: 2020-06-05 12:32:49\n"
     ]
    }
   ],
   "source": [
    "print('Для game_actions')\n",
    "print('Минимальное время события:', game_actions['event_datetime'].min())\n",
    "print('Максимальное время события:', game_actions['event_datetime'].max())"
   ]
  },
  {
   "cell_type": "code",
   "execution_count": 8,
   "metadata": {},
   "outputs": [
    {
     "name": "stdout",
     "output_type": "stream",
     "text": [
      "Для ad_costs\n",
      "Минимальный день клика по объявлению: 2020-05-03\n",
      "Максимальный день клика по объявлению: 2020-05-09\n"
     ]
    }
   ],
   "source": [
    "print('Для ad_costs')\n",
    "print('Минимальный день клика по объявлению:', ad_costs['day'].min())\n",
    "print('Максимальный день клика по объявлению:', ad_costs['day'].max())"
   ]
  },
  {
   "cell_type": "markdown",
   "metadata": {},
   "source": [
    "Мы имеем три датасета, с событиями, стоимостью рекламы и источниками: \n",
    "\n",
    "- события (building, finished_stage_1, project) зафиксированы с 4 мая 2020 по 5 июня 2020;\n",
    "- событию building соответстуют три building_type: 'assembly_shop', 'spaceport' и 'research_center'; а событию project - project_type 'satellite_orbital_assembly'; \n",
    "- датасет game_actions имеет пропуски в данных в полях building_type и project_type. В первом случае пропущенные значения означают отсутствие события building у пользователя, во втором - события project;\n",
    "- первый день клика по объявлению в данных ad_costs фактически является днем оплаты показа рекламы - 3 мая 2020, крайний день клика по объявлению - 9 мая 2020, где показ рекламы происходит на следующий день, после оплаты;\n",
    "- показы совершались в четырех рекламных источниках: facebook_ads, yandex_direct, youtube_channel_reklama, instagram_new_adverts;\n",
    "- стоимость кликов имеет значительный разброс - при среднем значении 271р. и стандартным отклонением в 286р;\n",
    "- в данных о событиях удалена одна дублирующая строка, пропуски оставлены без заполнения и не влияют на качество данных. Все данные приведены к соответствующим форматам и имеют корректные значения."
   ]
  },
  {
   "cell_type": "markdown",
   "metadata": {},
   "source": [
    "## Дополнительные расчеты"
   ]
  },
  {
   "cell_type": "markdown",
   "metadata": {},
   "source": [
    "Для проведения дальнейшего анализа данных, создадим дополнительные переменные и таблицы."
   ]
  },
  {
   "cell_type": "markdown",
   "metadata": {},
   "source": [
    "Для расчета дней, затраченных на прохождение уровня и лайфтайма игроков, создадим новые переменные с датой и временем первого события и крайнего события игроков."
   ]
  },
  {
   "cell_type": "code",
   "execution_count": 9,
   "metadata": {},
   "outputs": [
    {
     "data": {
      "text/html": [
       "<div>\n",
       "<style scoped>\n",
       "    .dataframe tbody tr th:only-of-type {\n",
       "        vertical-align: middle;\n",
       "    }\n",
       "\n",
       "    .dataframe tbody tr th {\n",
       "        vertical-align: top;\n",
       "    }\n",
       "\n",
       "    .dataframe thead th {\n",
       "        text-align: right;\n",
       "    }\n",
       "</style>\n",
       "<table border=\"1\" class=\"dataframe\">\n",
       "  <thead>\n",
       "    <tr style=\"text-align: right;\">\n",
       "      <th></th>\n",
       "      <th>user_id</th>\n",
       "      <th>first_event</th>\n",
       "      <th>last_event</th>\n",
       "    </tr>\n",
       "  </thead>\n",
       "  <tbody>\n",
       "    <tr>\n",
       "      <th>0</th>\n",
       "      <td>0001f83c-c6ac-4621-b7f0-8a28b283ac30</td>\n",
       "      <td>2020-05-06 01:07:37</td>\n",
       "      <td>2020-05-20 11:26:06</td>\n",
       "    </tr>\n",
       "    <tr>\n",
       "      <th>1</th>\n",
       "      <td>00151b4f-ba38-44a8-a650-d7cf130a0105</td>\n",
       "      <td>2020-05-06 03:09:12</td>\n",
       "      <td>2020-05-18 10:46:52</td>\n",
       "    </tr>\n",
       "    <tr>\n",
       "      <th>2</th>\n",
       "      <td>001aaea6-3d14-43f1-8ca8-7f48820f17aa</td>\n",
       "      <td>2020-05-05 18:08:52</td>\n",
       "      <td>2020-05-14 09:21:27</td>\n",
       "    </tr>\n",
       "    <tr>\n",
       "      <th>3</th>\n",
       "      <td>001d39dc-366c-4021-9604-6a3b9ff01e25</td>\n",
       "      <td>2020-05-05 21:02:05</td>\n",
       "      <td>2020-05-12 07:40:47</td>\n",
       "    </tr>\n",
       "    <tr>\n",
       "      <th>4</th>\n",
       "      <td>002f508f-67b6-479f-814b-b05f00d4e995</td>\n",
       "      <td>2020-05-05 13:49:58</td>\n",
       "      <td>2020-05-22 02:46:45</td>\n",
       "    </tr>\n",
       "  </tbody>\n",
       "</table>\n",
       "</div>"
      ],
      "text/plain": [
       "                                user_id         first_event  \\\n",
       "0  0001f83c-c6ac-4621-b7f0-8a28b283ac30 2020-05-06 01:07:37   \n",
       "1  00151b4f-ba38-44a8-a650-d7cf130a0105 2020-05-06 03:09:12   \n",
       "2  001aaea6-3d14-43f1-8ca8-7f48820f17aa 2020-05-05 18:08:52   \n",
       "3  001d39dc-366c-4021-9604-6a3b9ff01e25 2020-05-05 21:02:05   \n",
       "4  002f508f-67b6-479f-814b-b05f00d4e995 2020-05-05 13:49:58   \n",
       "\n",
       "           last_event  \n",
       "0 2020-05-20 11:26:06  \n",
       "1 2020-05-18 10:46:52  \n",
       "2 2020-05-14 09:21:27  \n",
       "3 2020-05-12 07:40:47  \n",
       "4 2020-05-22 02:46:45  "
      ]
     },
     "execution_count": 9,
     "metadata": {},
     "output_type": "execute_result"
    }
   ],
   "source": [
    "first_last_actions = (\n",
    "    game_actions.sort_values(by=['user_id', 'event_datetime'])\n",
    "    .groupby('user_id')\n",
    "    .agg({'event_datetime':['first', 'last']})\n",
    "    .reset_index()\n",
    ")\n",
    "first_last_actions.columns = ['user_id', 'first_event', 'last_event']\n",
    "first_last_actions.head()"
   ]
  },
  {
   "cell_type": "code",
   "execution_count": 10,
   "metadata": {},
   "outputs": [
    {
     "data": {
      "text/html": [
       "<div>\n",
       "<style scoped>\n",
       "    .dataframe tbody tr th:only-of-type {\n",
       "        vertical-align: middle;\n",
       "    }\n",
       "\n",
       "    .dataframe tbody tr th {\n",
       "        vertical-align: top;\n",
       "    }\n",
       "\n",
       "    .dataframe thead th {\n",
       "        text-align: right;\n",
       "    }\n",
       "</style>\n",
       "<table border=\"1\" class=\"dataframe\">\n",
       "  <thead>\n",
       "    <tr style=\"text-align: right;\">\n",
       "      <th></th>\n",
       "      <th>event_datetime</th>\n",
       "      <th>event</th>\n",
       "      <th>building_type</th>\n",
       "      <th>user_id</th>\n",
       "      <th>project_type</th>\n",
       "      <th>event_date</th>\n",
       "      <th>first_event</th>\n",
       "      <th>last_event</th>\n",
       "    </tr>\n",
       "  </thead>\n",
       "  <tbody>\n",
       "    <tr>\n",
       "      <th>0</th>\n",
       "      <td>2020-05-04 00:00:01</td>\n",
       "      <td>building</td>\n",
       "      <td>assembly_shop</td>\n",
       "      <td>55e92310-cb8e-4754-b622-597e124b03de</td>\n",
       "      <td>NaN</td>\n",
       "      <td>2020-05-04</td>\n",
       "      <td>2020-05-04 00:00:01</td>\n",
       "      <td>2020-05-10 20:27:01</td>\n",
       "    </tr>\n",
       "    <tr>\n",
       "      <th>1</th>\n",
       "      <td>2020-05-04 00:00:03</td>\n",
       "      <td>building</td>\n",
       "      <td>assembly_shop</td>\n",
       "      <td>c07b1c10-f477-44dc-81dc-ec82254b1347</td>\n",
       "      <td>NaN</td>\n",
       "      <td>2020-05-04</td>\n",
       "      <td>2020-05-04 00:00:03</td>\n",
       "      <td>2020-05-15 05:29:13</td>\n",
       "    </tr>\n",
       "    <tr>\n",
       "      <th>2</th>\n",
       "      <td>2020-05-04 00:00:16</td>\n",
       "      <td>building</td>\n",
       "      <td>assembly_shop</td>\n",
       "      <td>6edd42cc-e753-4ff6-a947-2107cd560710</td>\n",
       "      <td>NaN</td>\n",
       "      <td>2020-05-04</td>\n",
       "      <td>2020-05-04 00:00:16</td>\n",
       "      <td>2020-05-16 11:51:58</td>\n",
       "    </tr>\n",
       "    <tr>\n",
       "      <th>3</th>\n",
       "      <td>2020-05-04 00:00:16</td>\n",
       "      <td>building</td>\n",
       "      <td>assembly_shop</td>\n",
       "      <td>92c69003-d60a-444a-827f-8cc51bf6bf4c</td>\n",
       "      <td>NaN</td>\n",
       "      <td>2020-05-04</td>\n",
       "      <td>2020-05-04 00:00:16</td>\n",
       "      <td>2020-05-12 04:29:54</td>\n",
       "    </tr>\n",
       "    <tr>\n",
       "      <th>4</th>\n",
       "      <td>2020-05-04 00:00:35</td>\n",
       "      <td>building</td>\n",
       "      <td>assembly_shop</td>\n",
       "      <td>cdc6bb92-0ccb-4490-9866-ef142f09139d</td>\n",
       "      <td>NaN</td>\n",
       "      <td>2020-05-04</td>\n",
       "      <td>2020-05-04 00:00:35</td>\n",
       "      <td>2020-05-11 14:18:05</td>\n",
       "    </tr>\n",
       "  </tbody>\n",
       "</table>\n",
       "</div>"
      ],
      "text/plain": [
       "       event_datetime     event  building_type  \\\n",
       "0 2020-05-04 00:00:01  building  assembly_shop   \n",
       "1 2020-05-04 00:00:03  building  assembly_shop   \n",
       "2 2020-05-04 00:00:16  building  assembly_shop   \n",
       "3 2020-05-04 00:00:16  building  assembly_shop   \n",
       "4 2020-05-04 00:00:35  building  assembly_shop   \n",
       "\n",
       "                                user_id project_type  event_date  \\\n",
       "0  55e92310-cb8e-4754-b622-597e124b03de          NaN  2020-05-04   \n",
       "1  c07b1c10-f477-44dc-81dc-ec82254b1347          NaN  2020-05-04   \n",
       "2  6edd42cc-e753-4ff6-a947-2107cd560710          NaN  2020-05-04   \n",
       "3  92c69003-d60a-444a-827f-8cc51bf6bf4c          NaN  2020-05-04   \n",
       "4  cdc6bb92-0ccb-4490-9866-ef142f09139d          NaN  2020-05-04   \n",
       "\n",
       "          first_event          last_event  \n",
       "0 2020-05-04 00:00:01 2020-05-10 20:27:01  \n",
       "1 2020-05-04 00:00:03 2020-05-15 05:29:13  \n",
       "2 2020-05-04 00:00:16 2020-05-16 11:51:58  \n",
       "3 2020-05-04 00:00:16 2020-05-12 04:29:54  \n",
       "4 2020-05-04 00:00:35 2020-05-11 14:18:05  "
      ]
     },
     "execution_count": 10,
     "metadata": {},
     "output_type": "execute_result"
    }
   ],
   "source": [
    "#добавление новых переменных к датасету с событиями\n",
    "game_actions = game_actions.merge(first_last_actions, on='user_id', how='left')\n",
    "game_actions.head()"
   ]
  },
  {
   "cell_type": "code",
   "execution_count": 11,
   "metadata": {},
   "outputs": [
    {
     "data": {
      "text/html": [
       "<div>\n",
       "<style scoped>\n",
       "    .dataframe tbody tr th:only-of-type {\n",
       "        vertical-align: middle;\n",
       "    }\n",
       "\n",
       "    .dataframe tbody tr th {\n",
       "        vertical-align: top;\n",
       "    }\n",
       "\n",
       "    .dataframe thead th {\n",
       "        text-align: right;\n",
       "    }\n",
       "</style>\n",
       "<table border=\"1\" class=\"dataframe\">\n",
       "  <thead>\n",
       "    <tr style=\"text-align: right;\">\n",
       "      <th></th>\n",
       "      <th>event_datetime</th>\n",
       "      <th>event</th>\n",
       "      <th>building_type</th>\n",
       "      <th>user_id</th>\n",
       "      <th>project_type</th>\n",
       "      <th>event_date</th>\n",
       "      <th>first_event</th>\n",
       "      <th>last_event</th>\n",
       "      <th>lifetime</th>\n",
       "    </tr>\n",
       "  </thead>\n",
       "  <tbody>\n",
       "    <tr>\n",
       "      <th>0</th>\n",
       "      <td>2020-05-04 00:00:01</td>\n",
       "      <td>building</td>\n",
       "      <td>assembly_shop</td>\n",
       "      <td>55e92310-cb8e-4754-b622-597e124b03de</td>\n",
       "      <td>NaN</td>\n",
       "      <td>2020-05-04</td>\n",
       "      <td>2020-05-04 00:00:01</td>\n",
       "      <td>2020-05-10 20:27:01</td>\n",
       "      <td>6</td>\n",
       "    </tr>\n",
       "    <tr>\n",
       "      <th>1</th>\n",
       "      <td>2020-05-04 00:00:03</td>\n",
       "      <td>building</td>\n",
       "      <td>assembly_shop</td>\n",
       "      <td>c07b1c10-f477-44dc-81dc-ec82254b1347</td>\n",
       "      <td>NaN</td>\n",
       "      <td>2020-05-04</td>\n",
       "      <td>2020-05-04 00:00:03</td>\n",
       "      <td>2020-05-15 05:29:13</td>\n",
       "      <td>11</td>\n",
       "    </tr>\n",
       "    <tr>\n",
       "      <th>2</th>\n",
       "      <td>2020-05-04 00:00:16</td>\n",
       "      <td>building</td>\n",
       "      <td>assembly_shop</td>\n",
       "      <td>6edd42cc-e753-4ff6-a947-2107cd560710</td>\n",
       "      <td>NaN</td>\n",
       "      <td>2020-05-04</td>\n",
       "      <td>2020-05-04 00:00:16</td>\n",
       "      <td>2020-05-16 11:51:58</td>\n",
       "      <td>12</td>\n",
       "    </tr>\n",
       "    <tr>\n",
       "      <th>3</th>\n",
       "      <td>2020-05-04 00:00:16</td>\n",
       "      <td>building</td>\n",
       "      <td>assembly_shop</td>\n",
       "      <td>92c69003-d60a-444a-827f-8cc51bf6bf4c</td>\n",
       "      <td>NaN</td>\n",
       "      <td>2020-05-04</td>\n",
       "      <td>2020-05-04 00:00:16</td>\n",
       "      <td>2020-05-12 04:29:54</td>\n",
       "      <td>8</td>\n",
       "    </tr>\n",
       "    <tr>\n",
       "      <th>4</th>\n",
       "      <td>2020-05-04 00:00:35</td>\n",
       "      <td>building</td>\n",
       "      <td>assembly_shop</td>\n",
       "      <td>cdc6bb92-0ccb-4490-9866-ef142f09139d</td>\n",
       "      <td>NaN</td>\n",
       "      <td>2020-05-04</td>\n",
       "      <td>2020-05-04 00:00:35</td>\n",
       "      <td>2020-05-11 14:18:05</td>\n",
       "      <td>7</td>\n",
       "    </tr>\n",
       "  </tbody>\n",
       "</table>\n",
       "</div>"
      ],
      "text/plain": [
       "       event_datetime     event  building_type  \\\n",
       "0 2020-05-04 00:00:01  building  assembly_shop   \n",
       "1 2020-05-04 00:00:03  building  assembly_shop   \n",
       "2 2020-05-04 00:00:16  building  assembly_shop   \n",
       "3 2020-05-04 00:00:16  building  assembly_shop   \n",
       "4 2020-05-04 00:00:35  building  assembly_shop   \n",
       "\n",
       "                                user_id project_type  event_date  \\\n",
       "0  55e92310-cb8e-4754-b622-597e124b03de          NaN  2020-05-04   \n",
       "1  c07b1c10-f477-44dc-81dc-ec82254b1347          NaN  2020-05-04   \n",
       "2  6edd42cc-e753-4ff6-a947-2107cd560710          NaN  2020-05-04   \n",
       "3  92c69003-d60a-444a-827f-8cc51bf6bf4c          NaN  2020-05-04   \n",
       "4  cdc6bb92-0ccb-4490-9866-ef142f09139d          NaN  2020-05-04   \n",
       "\n",
       "          first_event          last_event  lifetime  \n",
       "0 2020-05-04 00:00:01 2020-05-10 20:27:01         6  \n",
       "1 2020-05-04 00:00:03 2020-05-15 05:29:13        11  \n",
       "2 2020-05-04 00:00:16 2020-05-16 11:51:58        12  \n",
       "3 2020-05-04 00:00:16 2020-05-12 04:29:54         8  \n",
       "4 2020-05-04 00:00:35 2020-05-11 14:18:05         7  "
      ]
     },
     "execution_count": 11,
     "metadata": {},
     "output_type": "execute_result"
    }
   ],
   "source": [
    "#расчет лайфтайма\n",
    "game_actions['lifetime'] = (game_actions['last_event'] - game_actions['first_event']).dt.days\n",
    "game_actions.head()"
   ]
  },
  {
   "cell_type": "markdown",
   "metadata": {},
   "source": [
    "Также, создадим таблицу с пользовательскими профилями, которая будет содержать информацию об источнике перехода в игру, количестве построек, лайфтайм, флаг завершения уровня и использованная стратегия прохождения уровня."
   ]
  },
  {
   "cell_type": "code",
   "execution_count": 12,
   "metadata": {},
   "outputs": [],
   "source": [
    "#игроки, которые прошли уровень \n",
    "users_finished_stage = game_actions.query('event == \"finished_stage_1\"')['user_id']"
   ]
  },
  {
   "cell_type": "code",
   "execution_count": 13,
   "metadata": {},
   "outputs": [],
   "source": [
    "#игроки, которые прошли уровень сделав проект\n",
    "wins_with_project = game_actions.query('event == \"project\" and user_id in @users_finished_stage')['user_id']"
   ]
  },
  {
   "cell_type": "code",
   "execution_count": 14,
   "metadata": {},
   "outputs": [],
   "source": [
    "#игроки, которые прошли уровень победив другого игрока\n",
    "wins_with_fight = game_actions.query('event == \"finished_stage_1\" and user_id not in @wins_with_project')['user_id']"
   ]
  },
  {
   "cell_type": "code",
   "execution_count": 15,
   "metadata": {},
   "outputs": [
    {
     "data": {
      "text/plain": [
       "0"
      ]
     },
     "execution_count": 15,
     "metadata": {},
     "output_type": "execute_result"
    }
   ],
   "source": [
    "#проверка пересечения списков игроков\n",
    "len(set(wins_with_project).intersection(set(wins_with_fight)))"
   ]
  },
  {
   "cell_type": "code",
   "execution_count": 16,
   "metadata": {},
   "outputs": [],
   "source": [
    "profiles = (\n",
    "    user_source.merge(game_actions.groupby('user_id')\n",
    "                      .agg({'building_type':'count', 'lifetime':'first'})\n",
    "                      .reset_index()\n",
    "                      .rename(columns={'building_type':'building_number'}), on='user_id', how='left')\n",
    ")\n",
    "\n",
    "profiles['finished_stage'] = profiles['user_id'].isin(users_finished_stage)\n",
    "\n",
    "#функция заполнения профилей игроков выбранной стратегией прохождения уровня\n",
    "def filling_strategy(row):\n",
    "    if row['user_id'] in list(wins_with_project):\n",
    "        return 'project'\n",
    "    elif row['user_id'] in list(wins_with_fight):\n",
    "        return 'fight' \n",
    "\n",
    "profiles['strategy'] = profiles.apply(filling_strategy, axis=1)"
   ]
  },
  {
   "cell_type": "code",
   "execution_count": 17,
   "metadata": {},
   "outputs": [
    {
     "name": "stdout",
     "output_type": "stream",
     "text": [
      "<class 'pandas.core.frame.DataFrame'>\n",
      "Int64Index: 13576 entries, 0 to 13575\n",
      "Data columns (total 6 columns):\n",
      " #   Column           Non-Null Count  Dtype \n",
      "---  ------           --------------  ----- \n",
      " 0   user_id          13576 non-null  object\n",
      " 1   source           13576 non-null  object\n",
      " 2   building_number  13576 non-null  int64 \n",
      " 3   lifetime         13576 non-null  int64 \n",
      " 4   finished_stage   13576 non-null  bool  \n",
      " 5   strategy         5817 non-null   object\n",
      "dtypes: bool(1), int64(2), object(3)\n",
      "memory usage: 649.6+ KB\n"
     ]
    },
    {
     "data": {
      "text/html": [
       "<div>\n",
       "<style scoped>\n",
       "    .dataframe tbody tr th:only-of-type {\n",
       "        vertical-align: middle;\n",
       "    }\n",
       "\n",
       "    .dataframe tbody tr th {\n",
       "        vertical-align: top;\n",
       "    }\n",
       "\n",
       "    .dataframe thead th {\n",
       "        text-align: right;\n",
       "    }\n",
       "</style>\n",
       "<table border=\"1\" class=\"dataframe\">\n",
       "  <thead>\n",
       "    <tr style=\"text-align: right;\">\n",
       "      <th></th>\n",
       "      <th>user_id</th>\n",
       "      <th>source</th>\n",
       "      <th>building_number</th>\n",
       "      <th>lifetime</th>\n",
       "      <th>finished_stage</th>\n",
       "      <th>strategy</th>\n",
       "    </tr>\n",
       "  </thead>\n",
       "  <tbody>\n",
       "    <tr>\n",
       "      <th>0</th>\n",
       "      <td>0001f83c-c6ac-4621-b7f0-8a28b283ac30</td>\n",
       "      <td>facebook_ads</td>\n",
       "      <td>13</td>\n",
       "      <td>14</td>\n",
       "      <td>False</td>\n",
       "      <td>None</td>\n",
       "    </tr>\n",
       "    <tr>\n",
       "      <th>1</th>\n",
       "      <td>00151b4f-ba38-44a8-a650-d7cf130a0105</td>\n",
       "      <td>yandex_direct</td>\n",
       "      <td>9</td>\n",
       "      <td>12</td>\n",
       "      <td>False</td>\n",
       "      <td>None</td>\n",
       "    </tr>\n",
       "    <tr>\n",
       "      <th>2</th>\n",
       "      <td>001aaea6-3d14-43f1-8ca8-7f48820f17aa</td>\n",
       "      <td>youtube_channel_reklama</td>\n",
       "      <td>4</td>\n",
       "      <td>8</td>\n",
       "      <td>False</td>\n",
       "      <td>None</td>\n",
       "    </tr>\n",
       "    <tr>\n",
       "      <th>3</th>\n",
       "      <td>001d39dc-366c-4021-9604-6a3b9ff01e25</td>\n",
       "      <td>instagram_new_adverts</td>\n",
       "      <td>8</td>\n",
       "      <td>6</td>\n",
       "      <td>True</td>\n",
       "      <td>fight</td>\n",
       "    </tr>\n",
       "    <tr>\n",
       "      <th>4</th>\n",
       "      <td>002f508f-67b6-479f-814b-b05f00d4e995</td>\n",
       "      <td>facebook_ads</td>\n",
       "      <td>12</td>\n",
       "      <td>16</td>\n",
       "      <td>False</td>\n",
       "      <td>None</td>\n",
       "    </tr>\n",
       "  </tbody>\n",
       "</table>\n",
       "</div>"
      ],
      "text/plain": [
       "                                user_id                   source  \\\n",
       "0  0001f83c-c6ac-4621-b7f0-8a28b283ac30             facebook_ads   \n",
       "1  00151b4f-ba38-44a8-a650-d7cf130a0105            yandex_direct   \n",
       "2  001aaea6-3d14-43f1-8ca8-7f48820f17aa  youtube_channel_reklama   \n",
       "3  001d39dc-366c-4021-9604-6a3b9ff01e25    instagram_new_adverts   \n",
       "4  002f508f-67b6-479f-814b-b05f00d4e995             facebook_ads   \n",
       "\n",
       "   building_number  lifetime  finished_stage strategy  \n",
       "0               13        14           False     None  \n",
       "1                9        12           False     None  \n",
       "2                4         8           False     None  \n",
       "3                8         6            True    fight  \n",
       "4               12        16           False     None  "
      ]
     },
     "execution_count": 17,
     "metadata": {},
     "output_type": "execute_result"
    }
   ],
   "source": [
    "profiles.info()\n",
    "profiles.head()"
   ]
  },
  {
   "cell_type": "markdown",
   "metadata": {},
   "source": [
    "Созданый датафрэйм содержит 13 576 строк с информацией по каждому пользователю.Переменная finished_stage принимает значение True при появлении у игрока события finished_stage и False при отсутствии события. Переменная strategy принимает два значения для пользователей, которые завершили уровень, fight - победой над первым врагом и project - реализовав проект."
   ]
  },
  {
   "cell_type": "markdown",
   "metadata": {},
   "source": [
    "## Исследовательский анализ данных"
   ]
  },
  {
   "cell_type": "markdown",
   "metadata": {},
   "source": [
    "### Данные о событиях в мобильной игре"
   ]
  },
  {
   "cell_type": "markdown",
   "metadata": {},
   "source": [
    "Анализ распределения событий по времени."
   ]
  },
  {
   "cell_type": "code",
   "execution_count": 18,
   "metadata": {},
   "outputs": [
    {
     "data": {
      "image/png": "[encoded data removed]",
      "text/plain": [
       "<Figure size 1000x600 with 1 Axes>"
      ]
     },
     "metadata": {},
     "output_type": "display_data"
    }
   ],
   "source": [
    "events_per_day = game_actions.pivot_table(index='event_date', columns='event', values='user_id', aggfunc='count')\n",
    "events_per_day['total'] = events_per_day.apply(lambda x: x.sum(), axis=1)\n",
    "\n",
    "events_per_day.plot(figsize=(10, 6), grid=True)\n",
    "plt.axhline(y=events_per_day['total'].mean(), color='gray', linestyle='--', label='mean total')\n",
    "plt.title('Распределение событий по дням')\n",
    "plt.xlabel('Дата события')\n",
    "plt.ylabel('Количество событий')\n",
    "plt.xticks(rotation=45)\n",
    "plt.xticks(np.arange(min(events_per_day.index), max(events_per_day.index), 2))\n",
    "plt.legend()\n",
    "plt.show()"
   ]
  },
  {
   "cell_type": "markdown",
   "metadata": {},
   "source": [
    "Строительство - наиболее частое событие, так как на одного игрока приходится несколько построек за уровень, а события project и finished_stage_1 наступают один раз. Пик активности строительства приходится на 10 мая, прошедших уровень было больше 16 мая. После 26 мая отмечается минимальная активность пользователей."
   ]
  },
  {
   "cell_type": "code",
   "execution_count": 19,
   "metadata": {},
   "outputs": [
    {
     "data": {
      "image/png": "[encoded data removed]",
      "text/plain": [
       "<Figure size 1000x600 with 1 Axes>"
      ]
     },
     "metadata": {},
     "output_type": "display_data"
    }
   ],
   "source": [
    "buildings_per_day = game_actions.pivot_table(\n",
    "    index='event_date', columns='building_type', values='user_id', aggfunc='count'\n",
    ")\n",
    "buildings_per_day['total'] = buildings_per_day.apply(lambda x: x.sum(), axis=1)\n",
    "\n",
    "buildings_per_day.plot(figsize=(10, 6), grid=True)\n",
    "plt.axhline(y=buildings_per_day['total'].mean(), color='gray', linestyle='--', label='mean total')\n",
    "plt.title('Распределение построенных зданий по дням')\n",
    "plt.xlabel('Дата постройки')\n",
    "plt.ylabel('Количество построек')\n",
    "plt.xticks(rotation=45)\n",
    "plt.xticks(np.arange(min(buildings_per_day.index), max(buildings_per_day.index), 2))\n",
    "plt.legend()\n",
    "plt.show()"
   ]
  },
  {
   "cell_type": "markdown",
   "metadata": {},
   "source": [
    "Постройки типа assembly_shop встречаются только в период с 4 мая по 10 мая, в дни прихода пользователей в игру. Так как в остальной период данные постройки не встречаются, можно предположить, что именно с них начинается игра. После 10 мая наиболее популярны постройки типа spaceport, менее популярны - research center."
   ]
  },
  {
   "cell_type": "code",
   "execution_count": 20,
   "metadata": {},
   "outputs": [
    {
     "data": {
      "image/png": "[encoded data removed]",
      "text/plain": [
       "<Figure size 1000x600 with 1 Axes>"
      ]
     },
     "metadata": {},
     "output_type": "display_data"
    }
   ],
   "source": [
    "unique_users_per_day = game_actions.pivot_table(index='event_date', values='user_id', aggfunc='nunique')\n",
    "\n",
    "unique_users_per_day.plot(figsize=(10, 6), grid=True)\n",
    "plt.axhline(y=unique_users_per_day['user_id'].mean(), color='gray', linestyle='--', label='mean DAU')\n",
    "plt.title('Распределение количества уникальных игроков')\n",
    "plt.xlabel('Дата активности')\n",
    "plt.ylabel('Количество игроков')\n",
    "plt.xticks(rotation=45)\n",
    "plt.xticks(np.arange(min(unique_users_per_day.index), max(unique_users_per_day.index), 2))\n",
    "plt.legend()\n",
    "plt.show()"
   ]
  },
  {
   "cell_type": "markdown",
   "metadata": {},
   "source": [
    "Количество уникальных пользователей имеет стремительный рост в дни показов рекламы. Затем, количество уникальных пользователей в день снижается, что может быть связано как с прохождением уровня, так и с покиданием игры."
   ]
  },
  {
   "cell_type": "markdown",
   "metadata": {},
   "source": [
    "Оценим частотное распределение игровых событий."
   ]
  },
  {
   "cell_type": "code",
   "execution_count": 21,
   "metadata": {},
   "outputs": [
    {
     "data": {
      "image/png": "[encoded data removed]",
      "text/plain": [
       "<Figure size 1700x700 with 2 Axes>"
      ]
     },
     "metadata": {},
     "output_type": "display_data"
    }
   ],
   "source": [
    "fig, axes = plt.subplots(1, 2, figsize=(17, 7))\n",
    "\n",
    "ax1 = (\n",
    "    game_actions.groupby('event')\n",
    "    .agg({'user_id':'count'})\n",
    "    .sort_values('user_id', ascending=False)\n",
    "    .plot(kind='bar', ax=axes[0])\n",
    ")\n",
    "ax1.set_title('Частота игровых событий')\n",
    "ax1.set_ylabel('Количество пользователей')\n",
    "ax1.set_xlabel('События')\n",
    "ax1.tick_params(axis='x', labelrotation=45)\n",
    "\n",
    "ax2 = (\n",
    "    game_actions.groupby('event')\n",
    "    .agg({'user_id':'count'})\n",
    "    .sort_values('user_id')\n",
    "    .plot(kind='pie', y='user_id', autopct='%1.0f%%', ax=axes[1])\n",
    ")\n",
    "ax2.set_title('Доля событий от всех')\n",
    "ax2.legend(loc='lower left')\n",
    "\n",
    "plt.show()"
   ]
  },
  {
   "cell_type": "markdown",
   "metadata": {},
   "source": [
    "Строительство - наиболее встречающееся событие, так как случается неоднократно и у каждого пользователя. На строительство приходится 94% от всех событий за уровень. Завершение уровня и реализация проекта встречаются значительно реже, так как происходят однократно и не у каждого пользователя. Завершение уровня случается чаще, чем реализация проекта, так как второе является одним из способов достижения первого."
   ]
  },
  {
   "cell_type": "code",
   "execution_count": 22,
   "metadata": {},
   "outputs": [
    {
     "data": {
      "image/png": "[encoded data removed]",
      "text/plain": [
       "<Figure size 1700x700 with 2 Axes>"
      ]
     },
     "metadata": {},
     "output_type": "display_data"
    }
   ],
   "source": [
    "fig, axes = plt.subplots(1, 2, figsize=(17, 7))\n",
    "\n",
    "ax1 = (\n",
    "    game_actions.groupby('building_type')\n",
    "    .agg({'user_id':'count'})\n",
    "    .sort_values('user_id', ascending=False)\n",
    "    .plot(kind='bar', ax=axes[0])\n",
    ")\n",
    "ax1.set_title('Частота типов построек')\n",
    "ax1.set_ylabel('Количество пользователей')\n",
    "ax1.set_xlabel('Постройки')\n",
    "ax1.tick_params(axis='x', labelrotation=45)\n",
    "\n",
    "ax2 = (\n",
    "    game_actions.groupby('building_type')\n",
    "    .agg({'user_id':'count'})\n",
    "    .sort_values('user_id')\n",
    "    .plot(kind='pie', y='user_id', autopct='%1.0f%%', ax=axes[1])\n",
    ")\n",
    "ax2.set_title('Доля построек от всех')\n",
    "ax2.legend(loc='lower left')\n",
    "\n",
    "plt.show()"
   ]
  },
  {
   "cell_type": "markdown",
   "metadata": {},
   "source": [
    "Наиболее частые виды построек у игроков spaceport и assembly shop. Реже всего строят research centre, они составляют только 11% от всех построек за уровень. "
   ]
  },
  {
   "cell_type": "code",
   "execution_count": 23,
   "metadata": {},
   "outputs": [
    {
     "name": "stdout",
     "output_type": "stream",
     "text": [
      "Доля игроков, завершивших уровень: 42.8%\n"
     ]
    }
   ],
   "source": [
    "print('Доля игроков, завершивших уровень: {:.1%}'.format(\n",
    "    game_actions.query('event == \"finished_stage_1\"')['user_id'].nunique() / game_actions['user_id'].nunique())\n",
    "     )"
   ]
  },
  {
   "cell_type": "code",
   "execution_count": 24,
   "metadata": {},
   "outputs": [
    {
     "name": "stdout",
     "output_type": "stream",
     "text": [
      "Среднее число событий на игрока: 10.0\n",
      "Среднее число построек на игрока: 9.4\n"
     ]
    }
   ],
   "source": [
    "print('Среднее число событий на игрока: {:.1f}'.format(\n",
    "    game_actions.groupby('user_id').agg({'event':'count'})['event'].mean())\n",
    "     )\n",
    "print('Среднее число построек на игрока: {:.1f}'.format(\n",
    "    game_actions.groupby('user_id').agg({'building_type':'count'})['building_type'].mean())\n",
    "     )"
   ]
  },
  {
   "cell_type": "code",
   "execution_count": 25,
   "metadata": {},
   "outputs": [
    {
     "name": "stdout",
     "output_type": "stream",
     "text": [
      "Среднее число дней в игре: 10.2\n",
      "Среднее число дней затраченных на прохождение уровня: 11.4\n",
      "Среднее число дней в игре у не завершивших уровень: 9.3\n"
     ]
    }
   ],
   "source": [
    "print('Среднее число дней в игре: {:.1f}'.format(\n",
    "    profiles['lifetime'].mean())\n",
    "     )\n",
    "print('Среднее число дней затраченных на прохождение уровня: {:.1f}'.format(\n",
    "    profiles.query('finished_stage == True')['lifetime'].mean())\n",
    "     )\n",
    "print('Среднее число дней в игре у не завершивших уровень: {:.1f}'.format(\n",
    "    profiles.query('finished_stage == False')['lifetime'].mean())\n",
    "     )"
   ]
  },
  {
   "cell_type": "markdown",
   "metadata": {},
   "source": [
    "Наибольшее число активных пользователей в игре приходится на седьмой день с начала показа рекламы. С запуска показов наблюдается стремительный рост активности в игре, а после завершения идет на спад, что может быть связано как с прохождением уровня, так и с покиданием игры. \n",
    "\n",
    "Самое частое событие в игре - строительство, составляет 94% от всех событий за уровень. Наиболее частые виды построек у игроков spaceport и assembly shop. \n",
    "\n",
    "Всего уровень завершили 42% пользователей. В данном случае учитываются только игроки перешедшие на следующий уровень. Игроки, реализовавшие проект, и не нажавшие кнопку перехода на следующий уровень, не учитывались, так как после проекта могли продолжать создавать постройки, а значит проводили больше времени на первом уровне, чем им потребовалось для выполнения условия его прохождения. На одного игрока в среднем приходится 10 событий, из которых 9 построек за лайфтайм в 10 дней. Пользователи, которые еще не прошли уровень, в среднем пробыли в игре 9 дней. Завершается уровень, как правило, на 11 день с прихода в игру. "
   ]
  },
  {
   "cell_type": "markdown",
   "metadata": {},
   "source": [
    "### Данные рекламных активностей"
   ]
  },
  {
   "cell_type": "markdown",
   "metadata": {},
   "source": [
    "Анализ источников рекламы."
   ]
  },
  {
   "cell_type": "code",
   "execution_count": 26,
   "metadata": {},
   "outputs": [
    {
     "data": {
      "image/png": "[encoded data removed]",
      "text/plain": [
       "<Figure size 1700x700 with 2 Axes>"
      ]
     },
     "metadata": {},
     "output_type": "display_data"
    }
   ],
   "source": [
    "fig, axes = plt.subplots(1, 2, figsize=(17, 7))\n",
    "\n",
    "ax1 = (\n",
    "    user_source.groupby('source')\n",
    "    .agg({'user_id':'count'})\n",
    "    .sort_values('user_id', ascending=False)\n",
    "    .plot(kind='bar', ax=axes[0])\n",
    ")\n",
    "ax1.set_title('Распределение количества привлеченных пользователей')\n",
    "ax1.set_ylabel('Количество пользователей')\n",
    "ax1.set_xlabel('Источники рекламы')\n",
    "ax1.tick_params(axis='x', labelrotation=45)\n",
    "\n",
    "ax2 = (\n",
    "    user_source.groupby('source')\n",
    "    .agg({'user_id':'count'})\n",
    "    .sort_values('user_id')\n",
    "    .plot(kind='pie', y='user_id', autopct='%1.0f%%', ax=axes[1])\n",
    ")\n",
    "ax2.set_title('Доли источников по количеству привлеченных пользователей')\n",
    "ax2.legend(loc='lower left')\n",
    "\n",
    "plt.show()"
   ]
  },
  {
   "cell_type": "markdown",
   "metadata": {},
   "source": [
    "Наиболее эффективным источником по количеству привлеченных пользователей, является yandex direct - 35% всех игроков перешли по данному каналу. Другие каналы составляют 25% (instagram new adverts) и 20% (facebook ads и youtube channel reklama) всего трафика."
   ]
  },
  {
   "cell_type": "code",
   "execution_count": 27,
   "metadata": {},
   "outputs": [
    {
     "data": {
      "image/png": "[encoded data removed]",
      "text/plain": [
       "<Figure size 1000x600 with 1 Axes>"
      ]
     },
     "metadata": {},
     "output_type": "display_data"
    }
   ],
   "source": [
    "costs_per_day = ad_costs.pivot_table(index='day', columns='source', values='cost', aggfunc='sum')\n",
    "costs_per_day['total'] = costs_per_day.apply(lambda x: x.sum(), axis=1)\n",
    "\n",
    "costs_per_day.plot(figsize=(10, 6), grid=True)\n",
    "plt.title('Динамика расходов на источники рекламы')\n",
    "plt.xlabel('Дата покупки рекламы')\n",
    "plt.ylabel('Стоимость кликов')\n",
    "plt.xticks(rotation=45)\n",
    "plt.show()"
   ]
  },
  {
   "cell_type": "markdown",
   "metadata": {},
   "source": [
    "Наибольшие траты приходятся на первый день - 3 мая. Затем траты на рекламу во всех источниках только снижаются.  \n",
    "Стоимости рекламы через facebook, instagram и yandex практически идентичны. Самые низкие траты на привлечение игроков через youtube."
   ]
  },
  {
   "cell_type": "code",
   "execution_count": 28,
   "metadata": {},
   "outputs": [
    {
     "name": "stdout",
     "output_type": "stream",
     "text": [
      "Средняя стоимость привлечения одного игрока: 0.56 р.\n"
     ]
    }
   ],
   "source": [
    "print('Средняя стоимость привлечения одного игрока: {:.2f} р.'.format(\n",
    "    ad_costs['cost'].sum() / len(profiles))\n",
    "     )"
   ]
  },
  {
   "cell_type": "code",
   "execution_count": 29,
   "metadata": {},
   "outputs": [
    {
     "data": {
      "text/html": [
       "<div>\n",
       "<style scoped>\n",
       "    .dataframe tbody tr th:only-of-type {\n",
       "        vertical-align: middle;\n",
       "    }\n",
       "\n",
       "    .dataframe tbody tr th {\n",
       "        vertical-align: top;\n",
       "    }\n",
       "\n",
       "    .dataframe thead th {\n",
       "        text-align: right;\n",
       "    }\n",
       "</style>\n",
       "<table border=\"1\" class=\"dataframe\">\n",
       "  <thead>\n",
       "    <tr style=\"text-align: right;\">\n",
       "      <th></th>\n",
       "      <th>source</th>\n",
       "      <th>cost</th>\n",
       "      <th>user_id</th>\n",
       "      <th>cost_per_user</th>\n",
       "    </tr>\n",
       "  </thead>\n",
       "  <tbody>\n",
       "    <tr>\n",
       "      <th>2</th>\n",
       "      <td>yandex_direct</td>\n",
       "      <td>2233.11</td>\n",
       "      <td>4817</td>\n",
       "      <td>0.46</td>\n",
       "    </tr>\n",
       "    <tr>\n",
       "      <th>1</th>\n",
       "      <td>instagram_new_adverts</td>\n",
       "      <td>2161.44</td>\n",
       "      <td>3347</td>\n",
       "      <td>0.65</td>\n",
       "    </tr>\n",
       "    <tr>\n",
       "      <th>0</th>\n",
       "      <td>facebook_ads</td>\n",
       "      <td>2140.90</td>\n",
       "      <td>2726</td>\n",
       "      <td>0.79</td>\n",
       "    </tr>\n",
       "    <tr>\n",
       "      <th>3</th>\n",
       "      <td>youtube_channel_reklama</td>\n",
       "      <td>1068.12</td>\n",
       "      <td>2686</td>\n",
       "      <td>0.40</td>\n",
       "    </tr>\n",
       "  </tbody>\n",
       "</table>\n",
       "</div>"
      ],
      "text/plain": [
       "                    source     cost  user_id  cost_per_user\n",
       "2            yandex_direct  2233.11     4817           0.46\n",
       "1    instagram_new_adverts  2161.44     3347           0.65\n",
       "0             facebook_ads  2140.90     2726           0.79\n",
       "3  youtube_channel_reklama  1068.12     2686           0.40"
      ]
     },
     "execution_count": 29,
     "metadata": {},
     "output_type": "execute_result"
    }
   ],
   "source": [
    "#расчет показателя CAC по источникам рекламы\n",
    "cac_by_source = ad_costs.groupby('source').agg({'cost':'sum'}).reset_index().merge(\n",
    "    user_source.groupby('source').agg({'user_id':'count'}).reset_index(), on='source', how='left')\n",
    "\n",
    "cac_by_source['cost_per_user'] = cac_by_source['cost'] / cac_by_source['user_id']\n",
    "cac_by_source = cac_by_source.round({'cost':2, 'cost_per_user':2}).sort_values('cost', ascending=False)\n",
    "cac_by_source"
   ]
  },
  {
   "cell_type": "markdown",
   "metadata": {},
   "source": [
    "При близких значениях суммы затрат на рекламу в yandex direct, instagram new adverts и facebook_ads, через yandex пришло больше всего пользователей (4 817), а через facebook - меньше (2 726). Затраты на рекламу в youtube самые низкие, при этом, количество привлеченных пользователей сопоставимо с facebook."
   ]
  },
  {
   "cell_type": "markdown",
   "metadata": {},
   "source": [
    "Анализ рекламных активностей показывает:\n",
    "\n",
    "- больше всего пользователей пришло через yandex direct - 35%;\n",
    "- наибольшие расходы на маркетинг были в первый день покупки рекламы, затем расходы непрерывно снижаются по всем источникам;\n",
    "- затраты по всем источникам сопоставимы, за исключением youtube, который обошелся дешевле всего, при этом количество привлеченных пользователей не значительно ниже, чем через facebook, а стоимость нового пользователя наименьшая по всем источникам;\n",
    "- наиболее эффективным каналом привлечения можно назвать yandex (наибольший поток с наименьшей ценой пользователя), наименее эффективным - facebook (наиболее высокая стоимость за пользователя среди всех каналов)."
   ]
  },
  {
   "cell_type": "markdown",
   "metadata": {},
   "source": [
    "## Анализ влияния источника перехода в игру на поведение пользователей"
   ]
  },
  {
   "cell_type": "markdown",
   "metadata": {},
   "source": [
    "Рассмотрим показатели пользовательских активностей в разрезе источников перехода в игру."
   ]
  },
  {
   "cell_type": "code",
   "execution_count": 30,
   "metadata": {},
   "outputs": [
    {
     "data": {
      "text/html": [
       "<div>\n",
       "<style scoped>\n",
       "    .dataframe tbody tr th:only-of-type {\n",
       "        vertical-align: middle;\n",
       "    }\n",
       "\n",
       "    .dataframe tbody tr th {\n",
       "        vertical-align: top;\n",
       "    }\n",
       "\n",
       "    .dataframe thead th {\n",
       "        text-align: right;\n",
       "    }\n",
       "</style>\n",
       "<table border=\"1\" class=\"dataframe\">\n",
       "  <thead>\n",
       "    <tr style=\"text-align: right;\">\n",
       "      <th></th>\n",
       "      <th>finished_stage</th>\n",
       "    </tr>\n",
       "    <tr>\n",
       "      <th>source</th>\n",
       "      <th></th>\n",
       "    </tr>\n",
       "  </thead>\n",
       "  <tbody>\n",
       "    <tr>\n",
       "      <th>instagram_new_adverts</th>\n",
       "      <td>0.44</td>\n",
       "    </tr>\n",
       "    <tr>\n",
       "      <th>youtube_channel_reklama</th>\n",
       "      <td>0.43</td>\n",
       "    </tr>\n",
       "    <tr>\n",
       "      <th>yandex_direct</th>\n",
       "      <td>0.42</td>\n",
       "    </tr>\n",
       "    <tr>\n",
       "      <th>facebook_ads</th>\n",
       "      <td>0.42</td>\n",
       "    </tr>\n",
       "  </tbody>\n",
       "</table>\n",
       "</div>"
      ],
      "text/plain": [
       "                         finished_stage\n",
       "source                                 \n",
       "instagram_new_adverts              0.44\n",
       "youtube_channel_reklama            0.43\n",
       "yandex_direct                      0.42\n",
       "facebook_ads                       0.42"
      ]
     },
     "execution_count": 30,
     "metadata": {},
     "output_type": "execute_result"
    }
   ],
   "source": [
    "#доли завершивших уровень по источникам\n",
    "profiles.groupby('source').agg({'finished_stage':'mean'}).sort_values('finished_stage', ascending=False).round(2)"
   ]
  },
  {
   "cell_type": "code",
   "execution_count": 31,
   "metadata": {},
   "outputs": [
    {
     "data": {
      "text/html": [
       "<div>\n",
       "<style scoped>\n",
       "    .dataframe tbody tr th:only-of-type {\n",
       "        vertical-align: middle;\n",
       "    }\n",
       "\n",
       "    .dataframe tbody tr th {\n",
       "        vertical-align: top;\n",
       "    }\n",
       "\n",
       "    .dataframe thead th {\n",
       "        text-align: right;\n",
       "    }\n",
       "</style>\n",
       "<table border=\"1\" class=\"dataframe\">\n",
       "  <thead>\n",
       "    <tr style=\"text-align: right;\">\n",
       "      <th>strategy</th>\n",
       "      <th>fight</th>\n",
       "      <th>project</th>\n",
       "      <th>fight_share</th>\n",
       "    </tr>\n",
       "    <tr>\n",
       "      <th>source</th>\n",
       "      <th></th>\n",
       "      <th></th>\n",
       "      <th></th>\n",
       "    </tr>\n",
       "  </thead>\n",
       "  <tbody>\n",
       "    <tr>\n",
       "      <th>yandex_direct</th>\n",
       "      <td>1422</td>\n",
       "      <td>620</td>\n",
       "      <td>0.70</td>\n",
       "    </tr>\n",
       "    <tr>\n",
       "      <th>instagram_new_adverts</th>\n",
       "      <td>990</td>\n",
       "      <td>476</td>\n",
       "      <td>0.68</td>\n",
       "    </tr>\n",
       "    <tr>\n",
       "      <th>youtube_channel_reklama</th>\n",
       "      <td>780</td>\n",
       "      <td>379</td>\n",
       "      <td>0.67</td>\n",
       "    </tr>\n",
       "    <tr>\n",
       "      <th>facebook_ads</th>\n",
       "      <td>759</td>\n",
       "      <td>391</td>\n",
       "      <td>0.66</td>\n",
       "    </tr>\n",
       "  </tbody>\n",
       "</table>\n",
       "</div>"
      ],
      "text/plain": [
       "strategy                 fight  project  fight_share\n",
       "source                                              \n",
       "yandex_direct             1422      620         0.70\n",
       "instagram_new_adverts      990      476         0.68\n",
       "youtube_channel_reklama    780      379         0.67\n",
       "facebook_ads               759      391         0.66"
      ]
     },
     "execution_count": 31,
     "metadata": {},
     "output_type": "execute_result"
    }
   ],
   "source": [
    "#стратегии прохождения уровня по источникам\n",
    "strategy_by_source = (\n",
    "    profiles.query('finished_stage == True')\n",
    "    .pivot_table(index='source', columns='strategy', values='user_id', aggfunc='count')\n",
    "    .sort_values('fight', ascending=False)\n",
    ")\n",
    "strategy_by_source['fight_share'] = (\n",
    "    strategy_by_source['fight'] / (strategy_by_source['fight'] + strategy_by_source['project'])\n",
    ")\n",
    "strategy_by_source = strategy_by_source.round({'fight_share':2})\n",
    "strategy_by_source"
   ]
  },
  {
   "cell_type": "code",
   "execution_count": 32,
   "metadata": {},
   "outputs": [
    {
     "data": {
      "text/html": [
       "<div>\n",
       "<style scoped>\n",
       "    .dataframe tbody tr th:only-of-type {\n",
       "        vertical-align: middle;\n",
       "    }\n",
       "\n",
       "    .dataframe tbody tr th {\n",
       "        vertical-align: top;\n",
       "    }\n",
       "\n",
       "    .dataframe thead th {\n",
       "        text-align: right;\n",
       "    }\n",
       "</style>\n",
       "<table border=\"1\" class=\"dataframe\">\n",
       "  <thead>\n",
       "    <tr style=\"text-align: right;\">\n",
       "      <th></th>\n",
       "      <th>building_number</th>\n",
       "    </tr>\n",
       "    <tr>\n",
       "      <th>source</th>\n",
       "      <th></th>\n",
       "    </tr>\n",
       "  </thead>\n",
       "  <tbody>\n",
       "    <tr>\n",
       "      <th>facebook_ads</th>\n",
       "      <td>9.59</td>\n",
       "    </tr>\n",
       "    <tr>\n",
       "      <th>instagram_new_adverts</th>\n",
       "      <td>9.51</td>\n",
       "    </tr>\n",
       "    <tr>\n",
       "      <th>yandex_direct</th>\n",
       "      <td>9.35</td>\n",
       "    </tr>\n",
       "    <tr>\n",
       "      <th>youtube_channel_reklama</th>\n",
       "      <td>9.30</td>\n",
       "    </tr>\n",
       "  </tbody>\n",
       "</table>\n",
       "</div>"
      ],
      "text/plain": [
       "                         building_number\n",
       "source                                  \n",
       "facebook_ads                        9.59\n",
       "instagram_new_adverts               9.51\n",
       "yandex_direct                       9.35\n",
       "youtube_channel_reklama             9.30"
      ]
     },
     "execution_count": 32,
     "metadata": {},
     "output_type": "execute_result"
    }
   ],
   "source": [
    "#количество построенных зданий в зависимости от источника\n",
    "profiles.groupby('source').agg({'building_number':'mean'}).sort_values('building_number', ascending=False).round(2)"
   ]
  },
  {
   "cell_type": "code",
   "execution_count": 33,
   "metadata": {},
   "outputs": [
    {
     "data": {
      "text/html": [
       "<div>\n",
       "<style scoped>\n",
       "    .dataframe tbody tr th:only-of-type {\n",
       "        vertical-align: middle;\n",
       "    }\n",
       "\n",
       "    .dataframe tbody tr th {\n",
       "        vertical-align: top;\n",
       "    }\n",
       "\n",
       "    .dataframe thead th {\n",
       "        text-align: right;\n",
       "    }\n",
       "</style>\n",
       "<table border=\"1\" class=\"dataframe\">\n",
       "  <thead>\n",
       "    <tr style=\"text-align: right;\">\n",
       "      <th>building_type</th>\n",
       "      <th>assembly_shop</th>\n",
       "      <th>research_center</th>\n",
       "      <th>spaceport</th>\n",
       "    </tr>\n",
       "    <tr>\n",
       "      <th>source</th>\n",
       "      <th></th>\n",
       "      <th></th>\n",
       "      <th></th>\n",
       "    </tr>\n",
       "  </thead>\n",
       "  <tbody>\n",
       "    <tr>\n",
       "      <th>yandex_direct</th>\n",
       "      <td>19295</td>\n",
       "      <td>4952</td>\n",
       "      <td>20785</td>\n",
       "    </tr>\n",
       "    <tr>\n",
       "      <th>instagram_new_adverts</th>\n",
       "      <td>13431</td>\n",
       "      <td>3537</td>\n",
       "      <td>14847</td>\n",
       "    </tr>\n",
       "    <tr>\n",
       "      <th>facebook_ads</th>\n",
       "      <td>11117</td>\n",
       "      <td>2945</td>\n",
       "      <td>12069</td>\n",
       "    </tr>\n",
       "    <tr>\n",
       "      <th>youtube_channel_reklama</th>\n",
       "      <td>10651</td>\n",
       "      <td>2703</td>\n",
       "      <td>11624</td>\n",
       "    </tr>\n",
       "  </tbody>\n",
       "</table>\n",
       "</div>"
      ],
      "text/plain": [
       "building_type            assembly_shop  research_center  spaceport\n",
       "source                                                            \n",
       "yandex_direct                    19295             4952      20785\n",
       "instagram_new_adverts            13431             3537      14847\n",
       "facebook_ads                     11117             2945      12069\n",
       "youtube_channel_reklama          10651             2703      11624"
      ]
     },
     "execution_count": 33,
     "metadata": {},
     "output_type": "execute_result"
    }
   ],
   "source": [
    "#присоединение информации об источнике перехода к датасету с событиями\n",
    "game_actions = game_actions.merge(user_source, on='user_id', how='left')\n",
    "\n",
    "#распределение типов построек в зависимости от источника\n",
    "(game_actions.pivot_table(index='source', columns='building_type', values='user_id', aggfunc='count')\n",
    " .sort_values('assembly_shop', ascending=False))"
   ]
  },
  {
   "cell_type": "code",
   "execution_count": 34,
   "metadata": {},
   "outputs": [
    {
     "data": {
      "text/html": [
       "<div>\n",
       "<style scoped>\n",
       "    .dataframe tbody tr th:only-of-type {\n",
       "        vertical-align: middle;\n",
       "    }\n",
       "\n",
       "    .dataframe tbody tr th {\n",
       "        vertical-align: top;\n",
       "    }\n",
       "\n",
       "    .dataframe thead th {\n",
       "        text-align: right;\n",
       "    }\n",
       "</style>\n",
       "<table border=\"1\" class=\"dataframe\">\n",
       "  <thead>\n",
       "    <tr style=\"text-align: right;\">\n",
       "      <th></th>\n",
       "      <th>lifetime</th>\n",
       "    </tr>\n",
       "    <tr>\n",
       "      <th>source</th>\n",
       "      <th></th>\n",
       "    </tr>\n",
       "  </thead>\n",
       "  <tbody>\n",
       "    <tr>\n",
       "      <th>instagram_new_adverts</th>\n",
       "      <td>10.29</td>\n",
       "    </tr>\n",
       "    <tr>\n",
       "      <th>facebook_ads</th>\n",
       "      <td>10.22</td>\n",
       "    </tr>\n",
       "    <tr>\n",
       "      <th>yandex_direct</th>\n",
       "      <td>10.12</td>\n",
       "    </tr>\n",
       "    <tr>\n",
       "      <th>youtube_channel_reklama</th>\n",
       "      <td>10.08</td>\n",
       "    </tr>\n",
       "  </tbody>\n",
       "</table>\n",
       "</div>"
      ],
      "text/plain": [
       "                         lifetime\n",
       "source                           \n",
       "instagram_new_adverts       10.29\n",
       "facebook_ads                10.22\n",
       "yandex_direct               10.12\n",
       "youtube_channel_reklama     10.08"
      ]
     },
     "execution_count": 34,
     "metadata": {},
     "output_type": "execute_result"
    }
   ],
   "source": [
    "#средние лайфтаймы игроков по источникам \n",
    "profiles.groupby('source').agg({'lifetime':'mean'}).sort_values('lifetime', ascending=False).round(2)"
   ]
  },
  {
   "cell_type": "markdown",
   "metadata": {},
   "source": [
    "Разница в относительном количестве прошедших уровень не значительно разнится по каналам и варьируется от 42% (yandex, facebook) до 44% (instagram). В целом, игроки чаще выбирают прохождение уровня через победу над другим игроком независимо от источника перехода в игру. Среднее количество построек на игрока варьируется от 9 до 10: наибольшее количество построек приходится на игроков пришедших через facebook (9.59), наименьшее- через youtube (9.30). Наиболее популярным типом постройки является spaceport по всем источникам. Среднее время в игре составляет между 10 до 11 днями: от 10.08 для игроков из youtube до 10.29 для игроков из instagram.\n"
   ]
  },
  {
   "cell_type": "markdown",
   "metadata": {},
   "source": [
    "## Проверка статистических гипотез"
   ]
  },
  {
   "cell_type": "markdown",
   "metadata": {},
   "source": [
    "### Зависимость времени завершения уровня от способа прохождения"
   ]
  },
  {
   "cell_type": "markdown",
   "metadata": {},
   "source": [
    "Проверим гипотезу о том, что время завершения уровня различается в зависимости способа прохождения: через реализацию проекта или через победу над первым игроком.\n",
    "\n",
    "* H0: Время зтраченное на завершение уровня не различается в зависимости способа его прохождения.\n",
    "* H1: Время зтраченное на завершение уровня различается в зависимости способа его прохождения.\n",
    "\n",
    "Для проверки гипотез о равенстве средних двух совокупностей применяется T-test."
   ]
  },
  {
   "cell_type": "code",
   "execution_count": 35,
   "metadata": {},
   "outputs": [
    {
     "data": {
      "image/png": "[encoded data removed]",
      "text/plain": [
       "<Figure size 1000x600 with 1 Axes>"
      ]
     },
     "metadata": {},
     "output_type": "display_data"
    }
   ],
   "source": [
    "plt.figure(figsize=(10, 6))\n",
    "sns.boxplot(data=profiles.query('finished_stage == True'), y='lifetime', x='strategy')\n",
    "plt.title('Распределение времени в игре по стратегиям')\n",
    "plt.xlabel('Стратегия')\n",
    "plt.ylabel('Лайфтаймы')\n",
    "plt.show()"
   ]
  },
  {
   "cell_type": "code",
   "execution_count": 36,
   "metadata": {},
   "outputs": [
    {
     "data": {
      "text/html": [
       "<div>\n",
       "<style scoped>\n",
       "    .dataframe tbody tr th:only-of-type {\n",
       "        vertical-align: middle;\n",
       "    }\n",
       "\n",
       "    .dataframe tbody tr th {\n",
       "        vertical-align: top;\n",
       "    }\n",
       "\n",
       "    .dataframe thead tr th {\n",
       "        text-align: left;\n",
       "    }\n",
       "\n",
       "    .dataframe thead tr:last-of-type th {\n",
       "        text-align: right;\n",
       "    }\n",
       "</style>\n",
       "<table border=\"1\" class=\"dataframe\">\n",
       "  <thead>\n",
       "    <tr>\n",
       "      <th></th>\n",
       "      <th>mean</th>\n",
       "      <th>var</th>\n",
       "      <th>std</th>\n",
       "    </tr>\n",
       "    <tr>\n",
       "      <th></th>\n",
       "      <th>lifetime</th>\n",
       "      <th>lifetime</th>\n",
       "      <th>lifetime</th>\n",
       "    </tr>\n",
       "    <tr>\n",
       "      <th>strategy</th>\n",
       "      <th></th>\n",
       "      <th></th>\n",
       "      <th></th>\n",
       "    </tr>\n",
       "  </thead>\n",
       "  <tbody>\n",
       "    <tr>\n",
       "      <th>fight</th>\n",
       "      <td>10.61</td>\n",
       "      <td>16.86</td>\n",
       "      <td>4.11</td>\n",
       "    </tr>\n",
       "    <tr>\n",
       "      <th>project</th>\n",
       "      <td>12.96</td>\n",
       "      <td>12.44</td>\n",
       "      <td>3.53</td>\n",
       "    </tr>\n",
       "  </tbody>\n",
       "</table>\n",
       "</div>"
      ],
      "text/plain": [
       "             mean      var      std\n",
       "         lifetime lifetime lifetime\n",
       "strategy                           \n",
       "fight       10.61    16.86     4.11\n",
       "project     12.96    12.44     3.53"
      ]
     },
     "execution_count": 36,
     "metadata": {},
     "output_type": "execute_result"
    }
   ],
   "source": [
    "#статистики лайфтаймов\n",
    "profiles_statistics = profiles.pivot_table(index='strategy', values='lifetime', aggfunc=['mean', 'var', 'std'])\n",
    "profiles_statistics = profiles_statistics.round(2)\n",
    "profiles_statistics"
   ]
  },
  {
   "cell_type": "code",
   "execution_count": 37,
   "metadata": {},
   "outputs": [],
   "source": [
    "#выборки для теста\n",
    "sample1_1 = profiles.query('strategy == \"project\"')['lifetime']\n",
    "sample1_2 = profiles.query('strategy == \"fight\"')['lifetime']"
   ]
  },
  {
   "cell_type": "code",
   "execution_count": 38,
   "metadata": {},
   "outputs": [
    {
     "name": "stdout",
     "output_type": "stream",
     "text": [
      "Размер выборки со стратегией project: 1866\n",
      "Размер выборки со стратегией fight: 3951\n"
     ]
    }
   ],
   "source": [
    "print('Размер выборки со стратегией project:', len(sample1_1))\n",
    "print('Размер выборки со стратегией fight:', len(sample1_2))"
   ]
  },
  {
   "cell_type": "code",
   "execution_count": 39,
   "metadata": {},
   "outputs": [
    {
     "name": "stdout",
     "output_type": "stream",
     "text": [
      "p-значение: 2.6237027268065695e-106\n",
      "Отвергаем нулевую гипотезу\n"
     ]
    }
   ],
   "source": [
    "alpha = .05 #принимаемый уровнь значимости\n",
    "results = st.ttest_ind(sample1_1, sample1_2, equal_var = False) #так как дисперсии отличаются, применяем параметр equal_var=False\n",
    "\n",
    "print('p-значение:', results.pvalue)\n",
    "\n",
    "if results.pvalue < alpha:\n",
    "    print(\"Отвергаем нулевую гипотезу\")\n",
    "else:\n",
    "    print(\"Не получилось отвергнуть нулевую гипотезу\") "
   ]
  },
  {
   "cell_type": "markdown",
   "metadata": {},
   "source": [
    "Время завершения уровня через реализацию проекта больше в среднем на 2 дня, чем через победу над другим игроком. Стандартное отклонение составляет 3.5 дней для проекта и 4.1 для поединка. Отметим, что совокупность игроков, выбравших статегию боя более чем в два раза превышает численность выбравших статегию реализации проекта.\n",
    "\n",
    "По результатам теста нулевая гипотеза не принимается в пользу альтернативной. Таким образом, можно утверждать, что длительность прохождения уровня различается в зависимости выбранного способа (на уровне значимости 0.05)"
   ]
  },
  {
   "cell_type": "markdown",
   "metadata": {},
   "source": [
    "### Зависимость количества построек от способа прохождения уровня"
   ]
  },
  {
   "cell_type": "markdown",
   "metadata": {},
   "source": [
    "Проверим гипотезу о том, что количество построек на игрока различается в зависимости способа прохождения.\n",
    "\n",
    "* H0: Количество построек не различается в зависимости способа прохождения уровня.\n",
    "* H1: Количество построек различается в зависимости способа прохождения уровня."
   ]
  },
  {
   "cell_type": "code",
   "execution_count": 40,
   "metadata": {},
   "outputs": [
    {
     "data": {
      "text/html": [
       "<div>\n",
       "<style scoped>\n",
       "    .dataframe tbody tr th:only-of-type {\n",
       "        vertical-align: middle;\n",
       "    }\n",
       "\n",
       "    .dataframe tbody tr th {\n",
       "        vertical-align: top;\n",
       "    }\n",
       "\n",
       "    .dataframe thead tr th {\n",
       "        text-align: left;\n",
       "    }\n",
       "\n",
       "    .dataframe thead tr:last-of-type th {\n",
       "        text-align: right;\n",
       "    }\n",
       "</style>\n",
       "<table border=\"1\" class=\"dataframe\">\n",
       "  <thead>\n",
       "    <tr>\n",
       "      <th></th>\n",
       "      <th>mean</th>\n",
       "      <th>var</th>\n",
       "      <th>std</th>\n",
       "    </tr>\n",
       "    <tr>\n",
       "      <th></th>\n",
       "      <th>building_number</th>\n",
       "      <th>building_number</th>\n",
       "      <th>building_number</th>\n",
       "    </tr>\n",
       "    <tr>\n",
       "      <th>strategy</th>\n",
       "      <th></th>\n",
       "      <th></th>\n",
       "      <th></th>\n",
       "    </tr>\n",
       "  </thead>\n",
       "  <tbody>\n",
       "    <tr>\n",
       "      <th>fight</th>\n",
       "      <td>9.41</td>\n",
       "      <td>9.36</td>\n",
       "      <td>3.06</td>\n",
       "    </tr>\n",
       "    <tr>\n",
       "      <th>project</th>\n",
       "      <td>12.65</td>\n",
       "      <td>4.68</td>\n",
       "      <td>2.16</td>\n",
       "    </tr>\n",
       "  </tbody>\n",
       "</table>\n",
       "</div>"
      ],
      "text/plain": [
       "                    mean             var             std\n",
       "         building_number building_number building_number\n",
       "strategy                                                \n",
       "fight               9.41            9.36            3.06\n",
       "project            12.65            4.68            2.16"
      ]
     },
     "execution_count": 40,
     "metadata": {},
     "output_type": "execute_result"
    }
   ],
   "source": [
    "#статистики распределения построек\n",
    "profiles_statistics2 = profiles.pivot_table(index='strategy', values='building_number', aggfunc=['mean', 'var', 'std'])\n",
    "profiles_statistics2 = profiles_statistics2.round(2)\n",
    "profiles_statistics2"
   ]
  },
  {
   "cell_type": "code",
   "execution_count": 41,
   "metadata": {},
   "outputs": [],
   "source": [
    "#выборки для теста\n",
    "sample2_1 = profiles.query('strategy == \"project\"')['building_number']\n",
    "sample2_2 = profiles.query('strategy == \"fight\"')['building_number']"
   ]
  },
  {
   "cell_type": "code",
   "execution_count": 42,
   "metadata": {},
   "outputs": [
    {
     "name": "stdout",
     "output_type": "stream",
     "text": [
      "p-значение: 0.0\n",
      "Отвергаем нулевую гипотезу\n"
     ]
    }
   ],
   "source": [
    "alpha = .05 #принимаемый уровнь значимости\n",
    "results2 = st.ttest_ind(sample2_1, sample2_2, equal_var = False) #так как дисперсии отличаются, применяем параметр equal_var=False\n",
    "\n",
    "print('p-значение:', results2.pvalue)\n",
    "\n",
    "if results2.pvalue < alpha:\n",
    "    print(\"Отвергаем нулевую гипотезу\")\n",
    "else:\n",
    "    print(\"Не получилось отвергнуть нулевую гипотезу\") "
   ]
  },
  {
   "cell_type": "markdown",
   "metadata": {},
   "source": [
    "Среднее количество построек, также, различается и сопоставимо с днями, затраченными на прохождение уровня, в зависимости от выбранной стратегии. Количество построек за первый уровень больше у игроков, которые выбрали стратегию реализации проекта (12.6), чем у выбравших стратегию поединка (9.4). Стандартное отклонение составляет 2.1 для проекта и 3.0 для поединка.\n",
    "\n",
    "Полученное значение p-value говорит о том, что вероятность случайно получить различия равна 0. Соответственно, стоит отвергнуть нулевую гипотезу об отсутствии различий в числе построек в зависимости способа прохождения уровня."
   ]
  },
  {
   "cell_type": "markdown",
   "metadata": {},
   "source": [
    "По итогам статистической проверки гипотез на выбранном уровне критерия значимости 5%, нулевые гипотезы были отвергнуты, что позволяет сделать вывод о том, что время прохождения уровня и количество построек различаются в зависимости способа прохождения уровня. На завершение уровня через реализацию проекта в среднем необходимо больше времени, что, соответственно, позволяет строить больше зданий. Таким образом, стратегия победы через проект более предпочтительна при монетизации игры через показы рекламы на экране выбора постройки."
   ]
  },
  {
   "cell_type": "markdown",
   "metadata": {},
   "source": [
    "## Общие выводы"
   ]
  },
  {
   "cell_type": "markdown",
   "metadata": {},
   "source": [
    "За период показов рекламы с 4 по 10 мая 2020 в игру пришло 13 576 новых пользователей, из которых 42% завершили первый уровень. Большая доля игроков пришла через yandex - 35%, через instagram - 25%, через facebook и youtube по 20%. Самые низкие затраты на рекламу в youtube, расходы на остальные рекламные источники сопоставимы друг с другом. При этом, стоимость привлечения однго пользователя через youtube наиболее низкая (0.40), затем через yandex (0.46), instagram (0.65) и самая дорогая через facebook (0.79). \n",
    "\n",
    "Анализ рекламных источников не выявил значительных различий в поведении игроков. В целом, независимо от источника популярней способ прохождения через победу над другим игроком: для пользователей из yandex доля составляет 69%, из facebook - 66%, для пользователей из других источников - 67%. Среднее количество построек на игрока 9.4, по источникам разброс составляет от 9.3 - youtube, до 9.6 - facebook. Лайфтаймы игроков, также, различаются не значительно - от 10.1 для игроков из youtube до 10.3 для игроков из instagram."
   ]
  },
  {
   "cell_type": "markdown",
   "metadata": {},
   "source": [
    "Рекомендации по итогам исследования: \n",
    "* пересмотреть маркетинговые расходы в пользу более эффективных источников (от facebook к yandex и youtube);\n",
    "* целесообразно продвижение менее популярной стратегии прохождения уровня через реализацию проекта, так как время в игре и количество построек при реализации проекта выше, чем при поединке с другим игроком."
   ]
  },
  {
   "cell_type": "code",
   "execution_count": null,
   "metadata": {},
   "outputs": [],
   "source": []
  }
 ],
 "metadata": {
  "ExecuteTimeLog": [
   {
    "duration": 3,
    "start_time": "2022-09-18T13:43:50.795Z"
   },
   {
    "duration": 1255,
    "start_time": "2022-09-18T13:48:25.458Z"
   },
   {
    "duration": 479,
    "start_time": "2022-09-18T13:49:32.751Z"
   },
   {
    "duration": 61,
    "start_time": "2022-09-18T13:50:02.712Z"
   },
   {
    "duration": 77,
    "start_time": "2022-09-18T13:50:37.563Z"
   },
   {
    "duration": 255,
    "start_time": "2022-09-18T13:51:02.567Z"
   },
   {
    "duration": 80,
    "start_time": "2022-09-18T13:53:19.610Z"
   },
   {
    "duration": 42,
    "start_time": "2022-09-18T13:56:34.354Z"
   },
   {
    "duration": 70,
    "start_time": "2022-09-18T13:57:02.575Z"
   },
   {
    "duration": 57,
    "start_time": "2022-09-18T13:57:15.545Z"
   },
   {
    "duration": 56,
    "start_time": "2022-09-18T13:57:55.196Z"
   },
   {
    "duration": 73,
    "start_time": "2022-09-18T14:00:07.446Z"
   },
   {
    "duration": 3,
    "start_time": "2022-09-18T14:04:01.858Z"
   },
   {
    "duration": 50,
    "start_time": "2022-09-18T14:04:08.851Z"
   },
   {
    "duration": 132,
    "start_time": "2022-09-18T14:05:01.065Z"
   },
   {
    "duration": 136,
    "start_time": "2022-09-18T14:06:06.294Z"
   },
   {
    "duration": 68,
    "start_time": "2022-09-18T16:07:01.339Z"
   },
   {
    "duration": 17,
    "start_time": "2022-09-18T16:12:34.756Z"
   },
   {
    "duration": 119,
    "start_time": "2022-09-18T16:14:25.052Z"
   },
   {
    "duration": 25,
    "start_time": "2022-09-18T16:14:36.079Z"
   },
   {
    "duration": 1112,
    "start_time": "2022-09-18T16:14:57.935Z"
   },
   {
    "duration": 249,
    "start_time": "2022-09-18T16:14:59.049Z"
   },
   {
    "duration": 64,
    "start_time": "2022-09-18T16:14:59.300Z"
   },
   {
    "duration": 99,
    "start_time": "2022-09-18T16:14:59.366Z"
   },
   {
    "duration": 170,
    "start_time": "2022-09-18T16:14:59.467Z"
   },
   {
    "duration": 25,
    "start_time": "2022-09-18T16:14:59.639Z"
   },
   {
    "duration": 11,
    "start_time": "2022-09-18T16:14:59.665Z"
   },
   {
    "duration": 17,
    "start_time": "2022-09-18T16:15:55.193Z"
   },
   {
    "duration": 24,
    "start_time": "2022-09-18T16:30:32.946Z"
   },
   {
    "duration": 90,
    "start_time": "2022-09-18T16:38:19.391Z"
   },
   {
    "duration": 17,
    "start_time": "2022-09-18T16:38:20.792Z"
   },
   {
    "duration": 9,
    "start_time": "2022-09-18T16:38:37.040Z"
   },
   {
    "duration": 42,
    "start_time": "2022-09-18T16:38:41.680Z"
   },
   {
    "duration": 43,
    "start_time": "2022-09-18T16:39:07.393Z"
   },
   {
    "duration": 31,
    "start_time": "2022-09-18T16:39:08.091Z"
   },
   {
    "duration": 1190,
    "start_time": "2022-09-18T16:41:36.297Z"
   },
   {
    "duration": 244,
    "start_time": "2022-09-18T16:41:37.489Z"
   },
   {
    "duration": 60,
    "start_time": "2022-09-18T16:41:37.735Z"
   },
   {
    "duration": 83,
    "start_time": "2022-09-18T16:41:37.797Z"
   },
   {
    "duration": 155,
    "start_time": "2022-09-18T16:41:37.881Z"
   },
   {
    "duration": 12,
    "start_time": "2022-09-18T16:41:38.038Z"
   },
   {
    "duration": 24,
    "start_time": "2022-09-18T16:41:38.051Z"
   },
   {
    "duration": 59,
    "start_time": "2022-09-18T16:41:38.076Z"
   },
   {
    "duration": 29,
    "start_time": "2022-09-18T16:41:38.138Z"
   },
   {
    "duration": 76,
    "start_time": "2022-09-18T16:41:38.169Z"
   },
   {
    "duration": 89,
    "start_time": "2022-09-18T16:43:07.756Z"
   },
   {
    "duration": 44,
    "start_time": "2022-09-18T16:43:16.560Z"
   },
   {
    "duration": 13,
    "start_time": "2022-09-18T16:44:55.263Z"
   },
   {
    "duration": 60,
    "start_time": "2022-09-18T16:55:55.102Z"
   },
   {
    "duration": 10,
    "start_time": "2022-09-18T16:56:08.124Z"
   },
   {
    "duration": 12,
    "start_time": "2022-09-18T16:57:25.982Z"
   },
   {
    "duration": 5,
    "start_time": "2022-09-18T16:57:51.975Z"
   },
   {
    "duration": 5,
    "start_time": "2022-09-18T16:57:56.528Z"
   },
   {
    "duration": 5,
    "start_time": "2022-09-18T16:59:37.776Z"
   },
   {
    "duration": 17,
    "start_time": "2022-09-18T17:00:32.831Z"
   },
   {
    "duration": 14,
    "start_time": "2022-09-18T17:00:57.301Z"
   },
   {
    "duration": 22,
    "start_time": "2022-09-18T17:02:41.938Z"
   },
   {
    "duration": 9,
    "start_time": "2022-09-18T17:03:40.189Z"
   },
   {
    "duration": 8,
    "start_time": "2022-09-18T17:11:10.954Z"
   },
   {
    "duration": 9,
    "start_time": "2022-09-18T17:11:17.180Z"
   },
   {
    "duration": 9,
    "start_time": "2022-09-18T17:12:07.855Z"
   },
   {
    "duration": 4,
    "start_time": "2022-09-18T17:13:02.483Z"
   },
   {
    "duration": 12,
    "start_time": "2022-09-18T17:25:57.083Z"
   },
   {
    "duration": 380,
    "start_time": "2022-09-18T17:27:52.790Z"
   },
   {
    "duration": 109,
    "start_time": "2022-09-18T17:35:31.279Z"
   },
   {
    "duration": 282,
    "start_time": "2022-09-18T17:35:49.891Z"
   },
   {
    "duration": 296,
    "start_time": "2022-09-18T17:43:44.693Z"
   },
   {
    "duration": 266,
    "start_time": "2022-09-18T17:47:49.891Z"
   },
   {
    "duration": 272,
    "start_time": "2022-09-18T17:48:28.386Z"
   },
   {
    "duration": 89,
    "start_time": "2022-09-18T18:02:27.409Z"
   },
   {
    "duration": 337,
    "start_time": "2022-09-18T18:04:09.643Z"
   },
   {
    "duration": 295,
    "start_time": "2022-09-18T18:04:40.592Z"
   },
   {
    "duration": 257,
    "start_time": "2022-09-18T18:04:58.942Z"
   },
   {
    "duration": 369,
    "start_time": "2022-09-18T20:06:04.408Z"
   },
   {
    "duration": 11,
    "start_time": "2022-09-18T20:30:54.161Z"
   },
   {
    "duration": 20,
    "start_time": "2022-09-18T20:31:15.818Z"
   },
   {
    "duration": 30,
    "start_time": "2022-09-18T20:31:35.165Z"
   },
   {
    "duration": 21,
    "start_time": "2022-09-18T20:31:52.400Z"
   },
   {
    "duration": 108,
    "start_time": "2022-09-18T20:32:06.699Z"
   },
   {
    "duration": 27,
    "start_time": "2022-09-18T20:37:20.771Z"
   },
   {
    "duration": 20,
    "start_time": "2022-09-18T20:37:53.845Z"
   },
   {
    "duration": 252,
    "start_time": "2022-09-18T21:07:43.746Z"
   },
   {
    "duration": 242,
    "start_time": "2022-09-18T21:10:31.763Z"
   },
   {
    "duration": 249,
    "start_time": "2022-09-18T21:11:08.015Z"
   },
   {
    "duration": 246,
    "start_time": "2022-09-18T21:11:20.429Z"
   },
   {
    "duration": 245,
    "start_time": "2022-09-18T21:12:09.406Z"
   },
   {
    "duration": 24,
    "start_time": "2022-09-18T21:12:37.827Z"
   },
   {
    "duration": 23,
    "start_time": "2022-09-18T21:15:45.015Z"
   },
   {
    "duration": 25,
    "start_time": "2022-09-18T21:16:44.068Z"
   },
   {
    "duration": 300,
    "start_time": "2022-09-18T21:19:48.025Z"
   },
   {
    "duration": 270,
    "start_time": "2022-09-18T21:22:23.333Z"
   },
   {
    "duration": 407,
    "start_time": "2022-09-18T21:22:54.074Z"
   },
   {
    "duration": 339,
    "start_time": "2022-09-18T21:24:06.925Z"
   },
   {
    "duration": 13,
    "start_time": "2022-09-18T21:26:11.746Z"
   },
   {
    "duration": 28,
    "start_time": "2022-09-18T21:28:23.024Z"
   },
   {
    "duration": 13,
    "start_time": "2022-09-18T21:28:35.526Z"
   },
   {
    "duration": 14,
    "start_time": "2022-09-18T21:28:52.755Z"
   },
   {
    "duration": 23,
    "start_time": "2022-09-18T21:35:37.373Z"
   },
   {
    "duration": 22,
    "start_time": "2022-09-18T21:36:25.655Z"
   },
   {
    "duration": 10,
    "start_time": "2022-09-18T21:37:52.346Z"
   },
   {
    "duration": 10,
    "start_time": "2022-09-18T21:38:07.428Z"
   },
   {
    "duration": 30,
    "start_time": "2022-09-18T21:39:17.622Z"
   },
   {
    "duration": 31,
    "start_time": "2022-09-18T21:41:45.154Z"
   },
   {
    "duration": 35,
    "start_time": "2022-09-18T21:44:26.636Z"
   },
   {
    "duration": 39,
    "start_time": "2022-09-18T21:45:29.714Z"
   },
   {
    "duration": 36,
    "start_time": "2022-09-18T21:46:14.581Z"
   },
   {
    "duration": 61,
    "start_time": "2022-09-18T21:50:16.672Z"
   },
   {
    "duration": 13,
    "start_time": "2022-09-18T21:50:23.338Z"
   },
   {
    "duration": 16,
    "start_time": "2022-09-18T22:05:50.743Z"
   },
   {
    "duration": 10,
    "start_time": "2022-09-18T22:06:59.160Z"
   },
   {
    "duration": 71,
    "start_time": "2022-09-18T22:07:10.587Z"
   },
   {
    "duration": 10,
    "start_time": "2022-09-18T22:07:24.811Z"
   },
   {
    "duration": 86,
    "start_time": "2022-09-18T22:11:05.334Z"
   },
   {
    "duration": 145,
    "start_time": "2022-09-18T22:14:21.246Z"
   },
   {
    "duration": 124,
    "start_time": "2022-09-18T22:21:53.957Z"
   },
   {
    "duration": 28,
    "start_time": "2022-09-18T22:34:58.926Z"
   },
   {
    "duration": 336,
    "start_time": "2022-09-18T22:41:42.222Z"
   },
   {
    "duration": 129,
    "start_time": "2022-09-18T22:41:56.794Z"
   },
   {
    "duration": 43,
    "start_time": "2022-09-18T22:46:55.129Z"
   },
   {
    "duration": 22,
    "start_time": "2022-09-18T22:47:49.325Z"
   },
   {
    "duration": 3,
    "start_time": "2022-09-18T22:51:55.412Z"
   },
   {
    "duration": 9,
    "start_time": "2022-09-18T22:57:44.286Z"
   },
   {
    "duration": 70,
    "start_time": "2022-09-18T22:58:53.675Z"
   },
   {
    "duration": 7,
    "start_time": "2022-09-18T23:03:48.740Z"
   },
   {
    "duration": 19,
    "start_time": "2022-09-18T23:04:32.070Z"
   },
   {
    "duration": 18,
    "start_time": "2022-09-18T23:08:30.751Z"
   },
   {
    "duration": 7,
    "start_time": "2022-09-18T23:09:15.864Z"
   },
   {
    "duration": 18,
    "start_time": "2022-09-18T23:11:05.226Z"
   },
   {
    "duration": 49,
    "start_time": "2022-09-18T23:12:53.595Z"
   },
   {
    "duration": 16,
    "start_time": "2022-09-18T23:12:59.681Z"
   },
   {
    "duration": 9,
    "start_time": "2022-09-18T23:14:16.089Z"
   },
   {
    "duration": 9,
    "start_time": "2022-09-18T23:14:35.548Z"
   },
   {
    "duration": 8,
    "start_time": "2022-09-18T23:15:23.443Z"
   },
   {
    "duration": 19,
    "start_time": "2022-09-18T23:15:33.226Z"
   },
   {
    "duration": 24,
    "start_time": "2022-09-18T23:15:58.030Z"
   },
   {
    "duration": 139,
    "start_time": "2022-09-18T23:17:56.249Z"
   },
   {
    "duration": 45,
    "start_time": "2022-09-18T23:19:51.823Z"
   },
   {
    "duration": 43,
    "start_time": "2022-09-18T23:20:01.129Z"
   },
   {
    "duration": 1114,
    "start_time": "2022-09-18T23:24:41.683Z"
   },
   {
    "duration": 234,
    "start_time": "2022-09-18T23:24:42.799Z"
   },
   {
    "duration": 60,
    "start_time": "2022-09-18T23:24:43.034Z"
   },
   {
    "duration": 79,
    "start_time": "2022-09-18T23:24:43.096Z"
   },
   {
    "duration": 153,
    "start_time": "2022-09-18T23:24:43.176Z"
   },
   {
    "duration": 12,
    "start_time": "2022-09-18T23:24:43.331Z"
   },
   {
    "duration": 28,
    "start_time": "2022-09-18T23:24:43.344Z"
   },
   {
    "duration": 83,
    "start_time": "2022-09-18T23:24:43.374Z"
   },
   {
    "duration": 24,
    "start_time": "2022-09-18T23:24:43.459Z"
   },
   {
    "duration": 10,
    "start_time": "2022-09-18T23:24:43.485Z"
   },
   {
    "duration": 6,
    "start_time": "2022-09-18T23:24:43.509Z"
   },
   {
    "duration": 90,
    "start_time": "2022-09-18T23:24:43.517Z"
   },
   {
    "duration": 0,
    "start_time": "2022-09-18T23:24:43.609Z"
   },
   {
    "duration": 0,
    "start_time": "2022-09-18T23:24:43.610Z"
   },
   {
    "duration": 0,
    "start_time": "2022-09-18T23:24:43.611Z"
   },
   {
    "duration": 0,
    "start_time": "2022-09-18T23:24:43.612Z"
   },
   {
    "duration": 0,
    "start_time": "2022-09-18T23:24:43.613Z"
   },
   {
    "duration": 0,
    "start_time": "2022-09-18T23:24:43.614Z"
   },
   {
    "duration": 0,
    "start_time": "2022-09-18T23:24:43.615Z"
   },
   {
    "duration": 0,
    "start_time": "2022-09-18T23:24:43.615Z"
   },
   {
    "duration": 0,
    "start_time": "2022-09-18T23:24:43.616Z"
   },
   {
    "duration": 0,
    "start_time": "2022-09-18T23:24:43.617Z"
   },
   {
    "duration": 0,
    "start_time": "2022-09-18T23:24:43.618Z"
   },
   {
    "duration": 0,
    "start_time": "2022-09-18T23:24:43.619Z"
   },
   {
    "duration": 0,
    "start_time": "2022-09-18T23:24:43.620Z"
   },
   {
    "duration": 0,
    "start_time": "2022-09-18T23:24:43.621Z"
   },
   {
    "duration": 0,
    "start_time": "2022-09-18T23:24:43.622Z"
   },
   {
    "duration": 0,
    "start_time": "2022-09-18T23:24:43.624Z"
   },
   {
    "duration": 0,
    "start_time": "2022-09-18T23:24:43.625Z"
   },
   {
    "duration": 0,
    "start_time": "2022-09-18T23:24:43.626Z"
   },
   {
    "duration": 0,
    "start_time": "2022-09-18T23:24:43.627Z"
   },
   {
    "duration": 0,
    "start_time": "2022-09-18T23:24:43.628Z"
   },
   {
    "duration": 1115,
    "start_time": "2022-09-18T23:25:28.877Z"
   },
   {
    "duration": 237,
    "start_time": "2022-09-18T23:25:29.993Z"
   },
   {
    "duration": 58,
    "start_time": "2022-09-18T23:25:30.231Z"
   },
   {
    "duration": 82,
    "start_time": "2022-09-18T23:25:30.291Z"
   },
   {
    "duration": 158,
    "start_time": "2022-09-18T23:25:30.375Z"
   },
   {
    "duration": 12,
    "start_time": "2022-09-18T23:25:30.534Z"
   },
   {
    "duration": 25,
    "start_time": "2022-09-18T23:25:30.547Z"
   },
   {
    "duration": 81,
    "start_time": "2022-09-18T23:25:30.573Z"
   },
   {
    "duration": 27,
    "start_time": "2022-09-18T23:25:30.655Z"
   },
   {
    "duration": 30,
    "start_time": "2022-09-18T23:25:30.684Z"
   },
   {
    "duration": 7,
    "start_time": "2022-09-18T23:25:30.715Z"
   },
   {
    "duration": 398,
    "start_time": "2022-09-18T23:25:30.724Z"
   },
   {
    "duration": 265,
    "start_time": "2022-09-18T23:25:31.124Z"
   },
   {
    "duration": 330,
    "start_time": "2022-09-18T23:25:31.392Z"
   },
   {
    "duration": 317,
    "start_time": "2022-09-18T23:25:31.723Z"
   },
   {
    "duration": 339,
    "start_time": "2022-09-18T23:25:32.042Z"
   },
   {
    "duration": 298,
    "start_time": "2022-09-18T23:25:32.383Z"
   },
   {
    "duration": 339,
    "start_time": "2022-09-18T23:25:32.684Z"
   },
   {
    "duration": 30,
    "start_time": "2022-09-18T23:25:33.025Z"
   },
   {
    "duration": 12,
    "start_time": "2022-09-18T23:25:33.057Z"
   },
   {
    "duration": 65,
    "start_time": "2022-09-18T23:25:33.070Z"
   },
   {
    "duration": 36,
    "start_time": "2022-09-18T23:25:33.137Z"
   },
   {
    "duration": 37,
    "start_time": "2022-09-18T23:25:33.174Z"
   },
   {
    "duration": 180,
    "start_time": "2022-09-18T23:25:33.213Z"
   },
   {
    "duration": 46,
    "start_time": "2022-09-18T23:25:33.395Z"
   },
   {
    "duration": 19,
    "start_time": "2022-09-18T23:25:33.442Z"
   },
   {
    "duration": 2,
    "start_time": "2022-09-18T23:25:33.462Z"
   },
   {
    "duration": 14,
    "start_time": "2022-09-18T23:25:33.466Z"
   },
   {
    "duration": 2,
    "start_time": "2022-09-18T23:25:33.482Z"
   },
   {
    "duration": 43,
    "start_time": "2022-09-18T23:25:33.508Z"
   },
   {
    "duration": 1459,
    "start_time": "2022-09-19T16:37:29.862Z"
   },
   {
    "duration": 965,
    "start_time": "2022-09-19T16:37:31.324Z"
   },
   {
    "duration": 75,
    "start_time": "2022-09-19T16:37:32.293Z"
   },
   {
    "duration": 108,
    "start_time": "2022-09-19T16:37:32.370Z"
   },
   {
    "duration": 190,
    "start_time": "2022-09-19T16:37:32.479Z"
   },
   {
    "duration": 22,
    "start_time": "2022-09-19T16:37:32.672Z"
   },
   {
    "duration": 26,
    "start_time": "2022-09-19T16:37:32.696Z"
   },
   {
    "duration": 92,
    "start_time": "2022-09-19T16:37:32.724Z"
   },
   {
    "duration": 24,
    "start_time": "2022-09-19T16:37:32.819Z"
   },
   {
    "duration": 11,
    "start_time": "2022-09-19T16:37:32.845Z"
   },
   {
    "duration": 4,
    "start_time": "2022-09-19T16:37:32.857Z"
   },
   {
    "duration": 420,
    "start_time": "2022-09-19T16:37:32.863Z"
   },
   {
    "duration": 308,
    "start_time": "2022-09-19T16:37:33.289Z"
   },
   {
    "duration": 441,
    "start_time": "2022-09-19T16:37:33.599Z"
   },
   {
    "duration": 346,
    "start_time": "2022-09-19T16:37:34.042Z"
   },
   {
    "duration": 376,
    "start_time": "2022-09-19T16:37:34.391Z"
   },
   {
    "duration": 304,
    "start_time": "2022-09-19T16:37:34.769Z"
   },
   {
    "duration": 395,
    "start_time": "2022-09-19T16:37:35.076Z"
   },
   {
    "duration": 45,
    "start_time": "2022-09-19T16:37:35.473Z"
   },
   {
    "duration": 14,
    "start_time": "2022-09-19T16:37:35.520Z"
   },
   {
    "duration": 54,
    "start_time": "2022-09-19T16:37:35.536Z"
   },
   {
    "duration": 40,
    "start_time": "2022-09-19T16:37:35.592Z"
   },
   {
    "duration": 220,
    "start_time": "2022-09-19T16:37:35.634Z"
   },
   {
    "duration": 55,
    "start_time": "2022-09-19T16:37:35.856Z"
   },
   {
    "duration": 16,
    "start_time": "2022-09-19T16:37:35.913Z"
   },
   {
    "duration": 3,
    "start_time": "2022-09-19T16:37:35.931Z"
   },
   {
    "duration": 134,
    "start_time": "2022-09-19T16:37:35.938Z"
   },
   {
    "duration": 0,
    "start_time": "2022-09-19T16:37:36.074Z"
   },
   {
    "duration": 0,
    "start_time": "2022-09-19T16:37:36.075Z"
   },
   {
    "duration": 1153,
    "start_time": "2022-09-19T17:14:33.866Z"
   },
   {
    "duration": 289,
    "start_time": "2022-09-19T17:14:35.021Z"
   },
   {
    "duration": 89,
    "start_time": "2022-09-19T17:14:35.312Z"
   },
   {
    "duration": 105,
    "start_time": "2022-09-19T17:14:35.404Z"
   },
   {
    "duration": 191,
    "start_time": "2022-09-19T17:14:35.511Z"
   },
   {
    "duration": 15,
    "start_time": "2022-09-19T17:14:35.704Z"
   },
   {
    "duration": 26,
    "start_time": "2022-09-19T17:14:35.720Z"
   },
   {
    "duration": 90,
    "start_time": "2022-09-19T17:14:35.748Z"
   },
   {
    "duration": 25,
    "start_time": "2022-09-19T17:14:35.839Z"
   },
   {
    "duration": 30,
    "start_time": "2022-09-19T17:14:35.867Z"
   },
   {
    "duration": 6,
    "start_time": "2022-09-19T17:14:35.898Z"
   },
   {
    "duration": 406,
    "start_time": "2022-09-19T17:14:35.905Z"
   },
   {
    "duration": 297,
    "start_time": "2022-09-19T17:14:36.312Z"
   },
   {
    "duration": 399,
    "start_time": "2022-09-19T17:14:36.610Z"
   },
   {
    "duration": 344,
    "start_time": "2022-09-19T17:14:37.011Z"
   },
   {
    "duration": 382,
    "start_time": "2022-09-19T17:14:37.357Z"
   },
   {
    "duration": 318,
    "start_time": "2022-09-19T17:14:37.741Z"
   },
   {
    "duration": 405,
    "start_time": "2022-09-19T17:14:38.061Z"
   },
   {
    "duration": 43,
    "start_time": "2022-09-19T17:14:38.469Z"
   },
   {
    "duration": 13,
    "start_time": "2022-09-19T17:14:38.513Z"
   },
   {
    "duration": 62,
    "start_time": "2022-09-19T17:14:38.528Z"
   },
   {
    "duration": 41,
    "start_time": "2022-09-19T17:14:38.592Z"
   },
   {
    "duration": 239,
    "start_time": "2022-09-19T17:14:38.635Z"
   },
   {
    "duration": 45,
    "start_time": "2022-09-19T17:14:38.876Z"
   },
   {
    "duration": 17,
    "start_time": "2022-09-19T17:14:38.922Z"
   },
   {
    "duration": 2,
    "start_time": "2022-09-19T17:14:38.941Z"
   },
   {
    "duration": 145,
    "start_time": "2022-09-19T17:14:38.945Z"
   },
   {
    "duration": 1,
    "start_time": "2022-09-19T17:14:39.091Z"
   },
   {
    "duration": 0,
    "start_time": "2022-09-19T17:14:39.093Z"
   },
   {
    "duration": 27,
    "start_time": "2022-09-19T17:20:28.104Z"
   },
   {
    "duration": 28,
    "start_time": "2022-09-19T17:22:18.959Z"
   },
   {
    "duration": 14,
    "start_time": "2022-09-19T17:22:47.193Z"
   },
   {
    "duration": 22,
    "start_time": "2022-09-19T17:23:13.190Z"
   },
   {
    "duration": 12,
    "start_time": "2022-09-19T17:24:08.733Z"
   },
   {
    "duration": 54,
    "start_time": "2022-09-19T17:24:55.368Z"
   },
   {
    "duration": 7,
    "start_time": "2022-09-19T17:33:28.736Z"
   },
   {
    "duration": 7,
    "start_time": "2022-09-19T17:33:37.701Z"
   },
   {
    "duration": 319,
    "start_time": "2022-09-19T17:36:04.393Z"
   },
   {
    "duration": 8,
    "start_time": "2022-09-19T17:38:18.187Z"
   },
   {
    "duration": 256,
    "start_time": "2022-09-19T17:39:47.368Z"
   },
   {
    "duration": 10,
    "start_time": "2022-09-19T18:01:27.568Z"
   },
   {
    "duration": 3,
    "start_time": "2022-09-19T18:15:34.196Z"
   },
   {
    "duration": 23,
    "start_time": "2022-09-19T18:23:51.145Z"
   },
   {
    "duration": 14,
    "start_time": "2022-09-19T18:31:59.600Z"
   },
   {
    "duration": 17,
    "start_time": "2022-09-19T19:29:49.049Z"
   },
   {
    "duration": 33,
    "start_time": "2022-09-19T19:32:47.675Z"
   },
   {
    "duration": 20,
    "start_time": "2022-09-19T19:36:08.664Z"
   },
   {
    "duration": 21,
    "start_time": "2022-09-19T19:39:23.721Z"
   },
   {
    "duration": 84,
    "start_time": "2022-09-19T19:57:25.595Z"
   },
   {
    "duration": 23,
    "start_time": "2022-09-19T19:57:32.395Z"
   },
   {
    "duration": 11,
    "start_time": "2022-09-19T19:58:07.743Z"
   },
   {
    "duration": 25,
    "start_time": "2022-09-19T19:58:13.397Z"
   },
   {
    "duration": 10,
    "start_time": "2022-09-19T20:00:22.873Z"
   },
   {
    "duration": 14,
    "start_time": "2022-09-19T20:00:33.365Z"
   },
   {
    "duration": 16,
    "start_time": "2022-09-19T20:04:32.721Z"
   },
   {
    "duration": 19,
    "start_time": "2022-09-19T20:04:48.048Z"
   },
   {
    "duration": 12,
    "start_time": "2022-09-19T20:08:26.148Z"
   },
   {
    "duration": 5,
    "start_time": "2022-09-19T20:09:27.039Z"
   },
   {
    "duration": 14,
    "start_time": "2022-09-19T20:09:34.184Z"
   },
   {
    "duration": 8,
    "start_time": "2022-09-19T20:09:56.997Z"
   },
   {
    "duration": 14,
    "start_time": "2022-09-19T20:10:11.269Z"
   },
   {
    "duration": 9,
    "start_time": "2022-09-19T20:10:23.789Z"
   },
   {
    "duration": 6,
    "start_time": "2022-09-19T20:10:41.747Z"
   },
   {
    "duration": 12,
    "start_time": "2022-09-19T20:18:34.757Z"
   },
   {
    "duration": 14,
    "start_time": "2022-09-19T20:19:41.619Z"
   },
   {
    "duration": 22,
    "start_time": "2022-09-19T20:20:00.867Z"
   },
   {
    "duration": 14,
    "start_time": "2022-09-19T20:25:24.506Z"
   },
   {
    "duration": 16,
    "start_time": "2022-09-19T20:25:38.295Z"
   },
   {
    "duration": 11,
    "start_time": "2022-09-19T20:25:49.998Z"
   },
   {
    "duration": 23,
    "start_time": "2022-09-19T20:29:35.040Z"
   },
   {
    "duration": 24,
    "start_time": "2022-09-19T20:29:42.321Z"
   },
   {
    "duration": 1222,
    "start_time": "2022-09-19T20:34:58.883Z"
   },
   {
    "duration": 284,
    "start_time": "2022-09-19T20:35:00.107Z"
   },
   {
    "duration": 73,
    "start_time": "2022-09-19T20:35:00.393Z"
   },
   {
    "duration": 109,
    "start_time": "2022-09-19T20:35:00.468Z"
   },
   {
    "duration": 206,
    "start_time": "2022-09-19T20:35:00.590Z"
   },
   {
    "duration": 20,
    "start_time": "2022-09-19T20:35:00.797Z"
   },
   {
    "duration": 46,
    "start_time": "2022-09-19T20:35:00.819Z"
   },
   {
    "duration": 82,
    "start_time": "2022-09-19T20:35:00.866Z"
   },
   {
    "duration": 43,
    "start_time": "2022-09-19T20:35:00.950Z"
   },
   {
    "duration": 11,
    "start_time": "2022-09-19T20:35:00.995Z"
   },
   {
    "duration": 19,
    "start_time": "2022-09-19T20:35:01.008Z"
   },
   {
    "duration": 443,
    "start_time": "2022-09-19T20:35:01.029Z"
   },
   {
    "duration": 342,
    "start_time": "2022-09-19T20:35:01.474Z"
   },
   {
    "duration": 426,
    "start_time": "2022-09-19T20:35:01.820Z"
   },
   {
    "duration": 345,
    "start_time": "2022-09-19T20:35:02.247Z"
   },
   {
    "duration": 395,
    "start_time": "2022-09-19T20:35:02.594Z"
   },
   {
    "duration": 327,
    "start_time": "2022-09-19T20:35:02.991Z"
   },
   {
    "duration": 396,
    "start_time": "2022-09-19T20:35:03.320Z"
   },
   {
    "duration": 37,
    "start_time": "2022-09-19T20:35:03.718Z"
   },
   {
    "duration": 33,
    "start_time": "2022-09-19T20:35:03.757Z"
   },
   {
    "duration": 58,
    "start_time": "2022-09-19T20:35:03.792Z"
   },
   {
    "duration": 55,
    "start_time": "2022-09-19T20:35:03.852Z"
   },
   {
    "duration": 243,
    "start_time": "2022-09-19T20:35:03.909Z"
   },
   {
    "duration": 53,
    "start_time": "2022-09-19T20:35:04.154Z"
   },
   {
    "duration": 17,
    "start_time": "2022-09-19T20:35:04.208Z"
   },
   {
    "duration": 2,
    "start_time": "2022-09-19T20:35:04.227Z"
   },
   {
    "duration": 23,
    "start_time": "2022-09-19T20:35:04.231Z"
   },
   {
    "duration": 2,
    "start_time": "2022-09-19T20:35:04.256Z"
   },
   {
    "duration": 81,
    "start_time": "2022-09-19T20:35:04.260Z"
   },
   {
    "duration": 342,
    "start_time": "2022-09-19T20:35:04.343Z"
   },
   {
    "duration": 291,
    "start_time": "2022-09-19T20:35:04.688Z"
   },
   {
    "duration": 9,
    "start_time": "2022-09-19T20:35:04.980Z"
   },
   {
    "duration": 21,
    "start_time": "2022-09-19T20:35:04.991Z"
   },
   {
    "duration": 632,
    "start_time": "2022-09-19T20:35:05.014Z"
   },
   {
    "duration": 1,
    "start_time": "2022-09-19T20:35:05.647Z"
   },
   {
    "duration": 0,
    "start_time": "2022-09-19T20:35:05.649Z"
   },
   {
    "duration": 0,
    "start_time": "2022-09-19T20:35:05.650Z"
   },
   {
    "duration": 0,
    "start_time": "2022-09-19T20:35:05.651Z"
   },
   {
    "duration": 0,
    "start_time": "2022-09-19T20:35:05.652Z"
   },
   {
    "duration": 12,
    "start_time": "2022-09-19T20:35:20.952Z"
   },
   {
    "duration": 19,
    "start_time": "2022-09-19T20:35:21.705Z"
   },
   {
    "duration": 18,
    "start_time": "2022-09-19T20:35:22.436Z"
   },
   {
    "duration": 5,
    "start_time": "2022-09-19T20:35:25.435Z"
   },
   {
    "duration": 16,
    "start_time": "2022-09-19T20:35:49.916Z"
   },
   {
    "duration": 12,
    "start_time": "2022-09-19T20:40:29.301Z"
   },
   {
    "duration": 61,
    "start_time": "2022-09-19T20:43:50.448Z"
   },
   {
    "duration": 58,
    "start_time": "2022-09-19T21:03:58.587Z"
   },
   {
    "duration": 59,
    "start_time": "2022-09-19T21:04:50.937Z"
   },
   {
    "duration": 57,
    "start_time": "2022-09-19T21:05:53.306Z"
   },
   {
    "duration": 5,
    "start_time": "2022-09-19T21:07:46.269Z"
   },
   {
    "duration": 15,
    "start_time": "2022-09-19T21:07:53.794Z"
   },
   {
    "duration": 19,
    "start_time": "2022-09-19T21:11:20.817Z"
   },
   {
    "duration": 18,
    "start_time": "2022-09-19T21:11:47.519Z"
   },
   {
    "duration": 120,
    "start_time": "2022-09-19T21:24:20.586Z"
   },
   {
    "duration": 164,
    "start_time": "2022-09-19T21:25:40.967Z"
   },
   {
    "duration": 161,
    "start_time": "2022-09-19T21:25:57.139Z"
   },
   {
    "duration": 104,
    "start_time": "2022-09-19T21:28:45.852Z"
   },
   {
    "duration": 191,
    "start_time": "2022-09-19T21:30:36.698Z"
   },
   {
    "duration": 206,
    "start_time": "2022-09-19T21:32:51.975Z"
   },
   {
    "duration": 7,
    "start_time": "2022-09-19T21:33:37.431Z"
   },
   {
    "duration": 14,
    "start_time": "2022-09-19T21:34:04.367Z"
   },
   {
    "duration": 90,
    "start_time": "2022-09-19T21:34:24.882Z"
   },
   {
    "duration": 76,
    "start_time": "2022-09-19T21:34:31.480Z"
   },
   {
    "duration": 153,
    "start_time": "2022-09-19T21:34:48.026Z"
   },
   {
    "duration": 16,
    "start_time": "2022-09-19T21:35:18.489Z"
   },
   {
    "duration": 16,
    "start_time": "2022-09-19T21:40:20.241Z"
   },
   {
    "duration": 17,
    "start_time": "2022-09-19T21:41:01.710Z"
   },
   {
    "duration": 5050,
    "start_time": "2022-09-19T21:42:24.757Z"
   },
   {
    "duration": 5213,
    "start_time": "2022-09-19T21:43:20.084Z"
   },
   {
    "duration": 1141,
    "start_time": "2022-09-19T21:47:34.556Z"
   },
   {
    "duration": 263,
    "start_time": "2022-09-19T21:47:35.699Z"
   },
   {
    "duration": 70,
    "start_time": "2022-09-19T21:47:35.963Z"
   },
   {
    "duration": 107,
    "start_time": "2022-09-19T21:47:36.035Z"
   },
   {
    "duration": 179,
    "start_time": "2022-09-19T21:47:36.144Z"
   },
   {
    "duration": 14,
    "start_time": "2022-09-19T21:47:36.325Z"
   },
   {
    "duration": 25,
    "start_time": "2022-09-19T21:47:36.340Z"
   },
   {
    "duration": 92,
    "start_time": "2022-09-19T21:47:36.366Z"
   },
   {
    "duration": 38,
    "start_time": "2022-09-19T21:47:36.461Z"
   },
   {
    "duration": 11,
    "start_time": "2022-09-19T21:47:36.502Z"
   },
   {
    "duration": 15,
    "start_time": "2022-09-19T21:47:36.514Z"
   },
   {
    "duration": 404,
    "start_time": "2022-09-19T21:47:36.531Z"
   },
   {
    "duration": 301,
    "start_time": "2022-09-19T21:47:36.937Z"
   },
   {
    "duration": 383,
    "start_time": "2022-09-19T21:47:37.240Z"
   },
   {
    "duration": 373,
    "start_time": "2022-09-19T21:47:37.625Z"
   },
   {
    "duration": 398,
    "start_time": "2022-09-19T21:47:38.000Z"
   },
   {
    "duration": 334,
    "start_time": "2022-09-19T21:47:38.400Z"
   },
   {
    "duration": 381,
    "start_time": "2022-09-19T21:47:38.735Z"
   },
   {
    "duration": 35,
    "start_time": "2022-09-19T21:47:39.118Z"
   },
   {
    "duration": 13,
    "start_time": "2022-09-19T21:47:39.155Z"
   },
   {
    "duration": 58,
    "start_time": "2022-09-19T21:47:39.169Z"
   },
   {
    "duration": 63,
    "start_time": "2022-09-19T21:47:39.229Z"
   },
   {
    "duration": 228,
    "start_time": "2022-09-19T21:47:39.294Z"
   },
   {
    "duration": 45,
    "start_time": "2022-09-19T21:47:39.524Z"
   },
   {
    "duration": 30,
    "start_time": "2022-09-19T21:47:39.570Z"
   },
   {
    "duration": 3,
    "start_time": "2022-09-19T21:47:39.601Z"
   },
   {
    "duration": 28,
    "start_time": "2022-09-19T21:47:39.605Z"
   },
   {
    "duration": 2,
    "start_time": "2022-09-19T21:47:39.637Z"
   },
   {
    "duration": 73,
    "start_time": "2022-09-19T21:47:39.641Z"
   },
   {
    "duration": 339,
    "start_time": "2022-09-19T21:47:39.716Z"
   },
   {
    "duration": 284,
    "start_time": "2022-09-19T21:47:40.057Z"
   },
   {
    "duration": 4,
    "start_time": "2022-09-19T21:47:40.342Z"
   },
   {
    "duration": 21,
    "start_time": "2022-09-19T21:47:40.348Z"
   },
   {
    "duration": 26,
    "start_time": "2022-09-19T21:47:40.371Z"
   },
   {
    "duration": 20,
    "start_time": "2022-09-19T21:47:40.399Z"
   },
   {
    "duration": 17,
    "start_time": "2022-09-19T21:47:40.420Z"
   },
   {
    "duration": 5,
    "start_time": "2022-09-19T21:47:40.439Z"
   },
   {
    "duration": 5708,
    "start_time": "2022-09-19T21:47:40.445Z"
   },
   {
    "duration": 19,
    "start_time": "2022-09-19T21:47:46.155Z"
   },
   {
    "duration": 13,
    "start_time": "2022-09-19T21:48:57.292Z"
   },
   {
    "duration": 27,
    "start_time": "2022-09-19T21:50:26.018Z"
   },
   {
    "duration": 98,
    "start_time": "2022-09-19T21:53:27.847Z"
   },
   {
    "duration": 18,
    "start_time": "2022-09-19T21:53:40.518Z"
   },
   {
    "duration": 10,
    "start_time": "2022-09-19T21:55:22.633Z"
   },
   {
    "duration": 1260,
    "start_time": "2022-09-20T13:44:53.995Z"
   },
   {
    "duration": 931,
    "start_time": "2022-09-20T13:44:55.257Z"
   },
   {
    "duration": 78,
    "start_time": "2022-09-20T13:44:56.190Z"
   },
   {
    "duration": 98,
    "start_time": "2022-09-20T13:44:56.270Z"
   },
   {
    "duration": 168,
    "start_time": "2022-09-20T13:44:56.370Z"
   },
   {
    "duration": 12,
    "start_time": "2022-09-20T13:44:56.540Z"
   },
   {
    "duration": 23,
    "start_time": "2022-09-20T13:44:56.553Z"
   },
   {
    "duration": 91,
    "start_time": "2022-09-20T13:44:56.577Z"
   },
   {
    "duration": 22,
    "start_time": "2022-09-20T13:44:56.670Z"
   },
   {
    "duration": 9,
    "start_time": "2022-09-20T13:44:56.694Z"
   },
   {
    "duration": 20,
    "start_time": "2022-09-20T13:44:56.705Z"
   },
   {
    "duration": 379,
    "start_time": "2022-09-20T13:44:56.729Z"
   },
   {
    "duration": 319,
    "start_time": "2022-09-20T13:44:57.109Z"
   },
   {
    "duration": 421,
    "start_time": "2022-09-20T13:44:57.432Z"
   },
   {
    "duration": 328,
    "start_time": "2022-09-20T13:44:57.855Z"
   },
   {
    "duration": 343,
    "start_time": "2022-09-20T13:44:58.185Z"
   },
   {
    "duration": 290,
    "start_time": "2022-09-20T13:44:58.532Z"
   },
   {
    "duration": 353,
    "start_time": "2022-09-20T13:44:58.824Z"
   },
   {
    "duration": 30,
    "start_time": "2022-09-20T13:44:59.179Z"
   },
   {
    "duration": 24,
    "start_time": "2022-09-20T13:44:59.210Z"
   },
   {
    "duration": 40,
    "start_time": "2022-09-20T13:44:59.236Z"
   },
   {
    "duration": 56,
    "start_time": "2022-09-20T13:44:59.278Z"
   },
   {
    "duration": 221,
    "start_time": "2022-09-20T13:44:59.344Z"
   },
   {
    "duration": 40,
    "start_time": "2022-09-20T13:44:59.567Z"
   },
   {
    "duration": 32,
    "start_time": "2022-09-20T13:44:59.608Z"
   },
   {
    "duration": 5,
    "start_time": "2022-09-20T13:44:59.642Z"
   },
   {
    "duration": 17,
    "start_time": "2022-09-20T13:44:59.648Z"
   },
   {
    "duration": 2,
    "start_time": "2022-09-20T13:44:59.668Z"
   },
   {
    "duration": 66,
    "start_time": "2022-09-20T13:44:59.671Z"
   },
   {
    "duration": 311,
    "start_time": "2022-09-20T13:44:59.739Z"
   },
   {
    "duration": 257,
    "start_time": "2022-09-20T13:45:00.052Z"
   },
   {
    "duration": 18,
    "start_time": "2022-09-20T13:45:00.310Z"
   },
   {
    "duration": 27,
    "start_time": "2022-09-20T13:45:00.329Z"
   },
   {
    "duration": 13,
    "start_time": "2022-09-20T13:45:00.357Z"
   },
   {
    "duration": 24,
    "start_time": "2022-09-20T13:45:00.371Z"
   },
   {
    "duration": 31,
    "start_time": "2022-09-20T13:45:00.397Z"
   },
   {
    "duration": 8,
    "start_time": "2022-09-20T13:45:00.432Z"
   },
   {
    "duration": 5151,
    "start_time": "2022-09-20T13:45:00.441Z"
   },
   {
    "duration": 16,
    "start_time": "2022-09-20T13:45:05.594Z"
   },
   {
    "duration": 29,
    "start_time": "2022-09-20T13:45:05.612Z"
   },
   {
    "duration": 30,
    "start_time": "2022-09-20T13:45:05.642Z"
   },
   {
    "duration": 12,
    "start_time": "2022-09-20T14:05:01.482Z"
   },
   {
    "duration": 21,
    "start_time": "2022-09-20T14:05:36.236Z"
   },
   {
    "duration": 113,
    "start_time": "2022-09-20T14:08:44.620Z"
   },
   {
    "duration": 9,
    "start_time": "2022-09-20T14:09:47.097Z"
   },
   {
    "duration": 3,
    "start_time": "2022-09-20T17:02:36.243Z"
   },
   {
    "duration": 9,
    "start_time": "2022-09-20T17:54:58.767Z"
   },
   {
    "duration": 3,
    "start_time": "2022-09-20T17:55:25.460Z"
   },
   {
    "duration": 4,
    "start_time": "2022-09-20T17:55:37.658Z"
   },
   {
    "duration": 5,
    "start_time": "2022-09-20T18:06:35.360Z"
   },
   {
    "duration": 4,
    "start_time": "2022-09-20T18:06:37.038Z"
   },
   {
    "duration": 4,
    "start_time": "2022-09-20T18:07:47.234Z"
   },
   {
    "duration": 6,
    "start_time": "2022-09-20T18:09:38.676Z"
   },
   {
    "duration": 6,
    "start_time": "2022-09-20T18:09:52.394Z"
   },
   {
    "duration": 21,
    "start_time": "2022-09-20T18:29:39.800Z"
   },
   {
    "duration": 17,
    "start_time": "2022-09-20T18:32:09.869Z"
   },
   {
    "duration": 12,
    "start_time": "2022-09-20T18:48:21.040Z"
   },
   {
    "duration": 3559,
    "start_time": "2022-09-20T19:31:35.097Z"
   },
   {
    "duration": 18,
    "start_time": "2022-09-20T19:31:47.172Z"
   },
   {
    "duration": 106,
    "start_time": "2022-09-20T19:32:34.112Z"
   },
   {
    "duration": 112,
    "start_time": "2022-09-20T19:34:48.799Z"
   },
   {
    "duration": 11,
    "start_time": "2022-09-20T19:58:16.746Z"
   },
   {
    "duration": 209,
    "start_time": "2022-09-20T21:19:19.253Z"
   },
   {
    "duration": 94,
    "start_time": "2022-09-20T21:21:47.065Z"
   },
   {
    "duration": 104,
    "start_time": "2022-09-20T21:22:02.208Z"
   },
   {
    "duration": 92,
    "start_time": "2022-09-20T21:22:12.140Z"
   },
   {
    "duration": 78,
    "start_time": "2022-09-20T21:22:29.805Z"
   },
   {
    "duration": 1403,
    "start_time": "2022-09-20T21:25:16.935Z"
   },
   {
    "duration": 12,
    "start_time": "2022-09-20T21:35:38.695Z"
   },
   {
    "duration": 2,
    "start_time": "2022-09-20T23:10:18.916Z"
   },
   {
    "duration": 1090,
    "start_time": "2022-09-20T23:13:09.562Z"
   },
   {
    "duration": 3,
    "start_time": "2022-09-20T23:13:10.654Z"
   },
   {
    "duration": 247,
    "start_time": "2022-09-20T23:13:10.659Z"
   },
   {
    "duration": 68,
    "start_time": "2022-09-20T23:13:10.908Z"
   },
   {
    "duration": 99,
    "start_time": "2022-09-20T23:13:10.978Z"
   },
   {
    "duration": 161,
    "start_time": "2022-09-20T23:13:11.079Z"
   },
   {
    "duration": 12,
    "start_time": "2022-09-20T23:13:11.241Z"
   },
   {
    "duration": 23,
    "start_time": "2022-09-20T23:13:11.255Z"
   },
   {
    "duration": 88,
    "start_time": "2022-09-20T23:13:11.280Z"
   },
   {
    "duration": 23,
    "start_time": "2022-09-20T23:13:11.371Z"
   },
   {
    "duration": 10,
    "start_time": "2022-09-20T23:13:11.395Z"
   },
   {
    "duration": 4,
    "start_time": "2022-09-20T23:13:11.421Z"
   },
   {
    "duration": 402,
    "start_time": "2022-09-20T23:13:11.426Z"
   },
   {
    "duration": 267,
    "start_time": "2022-09-20T23:13:11.830Z"
   },
   {
    "duration": 324,
    "start_time": "2022-09-20T23:13:12.099Z"
   },
   {
    "duration": 312,
    "start_time": "2022-09-20T23:13:12.425Z"
   },
   {
    "duration": 335,
    "start_time": "2022-09-20T23:13:12.739Z"
   },
   {
    "duration": 279,
    "start_time": "2022-09-20T23:13:13.076Z"
   },
   {
    "duration": 354,
    "start_time": "2022-09-20T23:13:13.359Z"
   },
   {
    "duration": 35,
    "start_time": "2022-09-20T23:13:13.715Z"
   },
   {
    "duration": 20,
    "start_time": "2022-09-20T23:13:13.752Z"
   },
   {
    "duration": 52,
    "start_time": "2022-09-20T23:13:13.774Z"
   },
   {
    "duration": 33,
    "start_time": "2022-09-20T23:13:13.827Z"
   },
   {
    "duration": 139,
    "start_time": "2022-09-20T23:13:13.861Z"
   },
   {
    "duration": 42,
    "start_time": "2022-09-20T23:13:14.001Z"
   },
   {
    "duration": 14,
    "start_time": "2022-09-20T23:13:14.045Z"
   },
   {
    "duration": 2,
    "start_time": "2022-09-20T23:13:14.060Z"
   },
   {
    "duration": 15,
    "start_time": "2022-09-20T23:13:14.067Z"
   },
   {
    "duration": 2,
    "start_time": "2022-09-20T23:13:14.083Z"
   },
   {
    "duration": 75,
    "start_time": "2022-09-20T23:13:14.087Z"
   },
   {
    "duration": 302,
    "start_time": "2022-09-20T23:13:14.164Z"
   },
   {
    "duration": 305,
    "start_time": "2022-09-20T23:13:14.468Z"
   },
   {
    "duration": 3,
    "start_time": "2022-09-20T23:13:14.774Z"
   },
   {
    "duration": 20,
    "start_time": "2022-09-20T23:13:14.779Z"
   },
   {
    "duration": 8,
    "start_time": "2022-09-20T23:13:14.800Z"
   },
   {
    "duration": 17,
    "start_time": "2022-09-20T23:13:14.822Z"
   },
   {
    "duration": 14,
    "start_time": "2022-09-20T23:13:14.840Z"
   },
   {
    "duration": 4,
    "start_time": "2022-09-20T23:13:14.855Z"
   },
   {
    "duration": 5014,
    "start_time": "2022-09-20T23:13:14.860Z"
   },
   {
    "duration": 16,
    "start_time": "2022-09-20T23:13:19.875Z"
   },
   {
    "duration": 8,
    "start_time": "2022-09-20T23:13:19.892Z"
   },
   {
    "duration": 41,
    "start_time": "2022-09-20T23:13:19.901Z"
   },
   {
    "duration": 12,
    "start_time": "2022-09-20T23:13:19.944Z"
   },
   {
    "duration": 108,
    "start_time": "2022-09-20T23:13:19.958Z"
   },
   {
    "duration": 9,
    "start_time": "2022-09-20T23:13:20.068Z"
   },
   {
    "duration": 10,
    "start_time": "2022-09-20T23:13:20.078Z"
   },
   {
    "duration": 5,
    "start_time": "2022-09-20T23:13:20.090Z"
   },
   {
    "duration": 26,
    "start_time": "2022-09-20T23:13:20.096Z"
   },
   {
    "duration": 4,
    "start_time": "2022-09-20T23:13:20.124Z"
   },
   {
    "duration": 14,
    "start_time": "2022-09-20T23:13:20.130Z"
   },
   {
    "duration": 42,
    "start_time": "2022-09-21T11:50:26.557Z"
   },
   {
    "duration": 1275,
    "start_time": "2022-09-21T11:50:46.390Z"
   },
   {
    "duration": 860,
    "start_time": "2022-09-21T11:50:47.667Z"
   },
   {
    "duration": 65,
    "start_time": "2022-09-21T11:50:48.528Z"
   },
   {
    "duration": 92,
    "start_time": "2022-09-21T11:50:48.595Z"
   },
   {
    "duration": 158,
    "start_time": "2022-09-21T11:50:48.689Z"
   },
   {
    "duration": 13,
    "start_time": "2022-09-21T11:50:48.848Z"
   },
   {
    "duration": 26,
    "start_time": "2022-09-21T11:50:48.862Z"
   },
   {
    "duration": 78,
    "start_time": "2022-09-21T11:50:48.889Z"
   },
   {
    "duration": 22,
    "start_time": "2022-09-21T11:50:48.969Z"
   },
   {
    "duration": 29,
    "start_time": "2022-09-21T11:50:48.994Z"
   },
   {
    "duration": 4,
    "start_time": "2022-09-21T11:50:49.024Z"
   },
   {
    "duration": 357,
    "start_time": "2022-09-21T11:50:49.029Z"
   },
   {
    "duration": 259,
    "start_time": "2022-09-21T11:50:49.387Z"
   },
   {
    "duration": 386,
    "start_time": "2022-09-21T11:50:49.648Z"
   },
   {
    "duration": 289,
    "start_time": "2022-09-21T11:50:50.035Z"
   },
   {
    "duration": 322,
    "start_time": "2022-09-21T11:50:50.326Z"
   },
   {
    "duration": 264,
    "start_time": "2022-09-21T11:50:50.650Z"
   },
   {
    "duration": 352,
    "start_time": "2022-09-21T11:50:50.922Z"
   },
   {
    "duration": 31,
    "start_time": "2022-09-21T11:50:51.276Z"
   },
   {
    "duration": 22,
    "start_time": "2022-09-21T11:50:51.309Z"
   },
   {
    "duration": 42,
    "start_time": "2022-09-21T11:50:51.333Z"
   },
   {
    "duration": 47,
    "start_time": "2022-09-21T11:50:51.376Z"
   },
   {
    "duration": 123,
    "start_time": "2022-09-21T11:50:51.424Z"
   },
   {
    "duration": 33,
    "start_time": "2022-09-21T11:50:51.548Z"
   },
   {
    "duration": 14,
    "start_time": "2022-09-21T11:50:51.583Z"
   },
   {
    "duration": 2,
    "start_time": "2022-09-21T11:50:51.598Z"
   },
   {
    "duration": 12,
    "start_time": "2022-09-21T11:50:51.621Z"
   },
   {
    "duration": 3,
    "start_time": "2022-09-21T11:50:51.635Z"
   },
   {
    "duration": 47,
    "start_time": "2022-09-21T11:50:51.639Z"
   },
   {
    "duration": 280,
    "start_time": "2022-09-21T11:50:51.688Z"
   },
   {
    "duration": 311,
    "start_time": "2022-09-21T11:50:51.969Z"
   },
   {
    "duration": 4,
    "start_time": "2022-09-21T11:50:52.282Z"
   },
   {
    "duration": 28,
    "start_time": "2022-09-21T11:50:52.288Z"
   },
   {
    "duration": 8,
    "start_time": "2022-09-21T11:50:52.322Z"
   },
   {
    "duration": 27,
    "start_time": "2022-09-21T11:50:52.332Z"
   },
   {
    "duration": 14,
    "start_time": "2022-09-21T11:50:52.360Z"
   },
   {
    "duration": 4,
    "start_time": "2022-09-21T11:50:52.375Z"
   },
   {
    "duration": 4554,
    "start_time": "2022-09-21T11:50:52.380Z"
   },
   {
    "duration": 15,
    "start_time": "2022-09-21T11:50:56.935Z"
   },
   {
    "duration": 21,
    "start_time": "2022-09-21T11:50:56.952Z"
   },
   {
    "duration": 21,
    "start_time": "2022-09-21T11:50:56.974Z"
   },
   {
    "duration": 8,
    "start_time": "2022-09-21T11:50:56.996Z"
   },
   {
    "duration": 91,
    "start_time": "2022-09-21T11:50:57.005Z"
   },
   {
    "duration": 8,
    "start_time": "2022-09-21T11:50:57.098Z"
   },
   {
    "duration": 12,
    "start_time": "2022-09-21T11:50:57.107Z"
   },
   {
    "duration": 4,
    "start_time": "2022-09-21T11:50:57.120Z"
   },
   {
    "duration": 7,
    "start_time": "2022-09-21T11:50:57.125Z"
   },
   {
    "duration": 8,
    "start_time": "2022-09-21T11:50:57.133Z"
   },
   {
    "duration": 11,
    "start_time": "2022-09-21T11:50:57.143Z"
   },
   {
    "duration": 64,
    "start_time": "2022-09-21T11:51:42.244Z"
   },
   {
    "duration": 69,
    "start_time": "2022-09-21T11:51:51.165Z"
   },
   {
    "duration": 37,
    "start_time": "2022-09-21T12:02:23.646Z"
   },
   {
    "duration": 33,
    "start_time": "2022-09-21T12:05:29.796Z"
   },
   {
    "duration": 1603,
    "start_time": "2022-09-22T07:35:27.847Z"
   },
   {
    "duration": 944,
    "start_time": "2022-09-22T07:35:30.670Z"
   },
   {
    "duration": 70,
    "start_time": "2022-09-22T07:35:32.600Z"
   },
   {
    "duration": 92,
    "start_time": "2022-09-22T07:35:41.040Z"
   },
   {
    "duration": 115,
    "start_time": "2022-09-22T07:35:51.437Z"
   },
   {
    "duration": 95,
    "start_time": "2022-09-22T07:36:13.566Z"
   },
   {
    "duration": 203,
    "start_time": "2022-09-22T07:36:45.182Z"
   },
   {
    "duration": 48,
    "start_time": "2022-09-22T07:36:47.545Z"
   },
   {
    "duration": 93,
    "start_time": "2022-09-22T07:40:58.521Z"
   },
   {
    "duration": 48,
    "start_time": "2022-09-22T07:43:12.835Z"
   },
   {
    "duration": 12,
    "start_time": "2022-09-22T07:43:27.883Z"
   },
   {
    "duration": 5,
    "start_time": "2022-09-22T07:43:57.533Z"
   },
   {
    "duration": 4,
    "start_time": "2022-09-22T08:07:39.761Z"
   },
   {
    "duration": 388,
    "start_time": "2022-09-22T08:08:36.932Z"
   },
   {
    "duration": 289,
    "start_time": "2022-09-22T08:08:55.511Z"
   },
   {
    "duration": 313,
    "start_time": "2022-09-22T08:10:04.344Z"
   },
   {
    "duration": 19,
    "start_time": "2022-09-22T08:10:31.581Z"
   },
   {
    "duration": 327,
    "start_time": "2022-09-22T08:11:39.180Z"
   },
   {
    "duration": 166,
    "start_time": "2022-09-22T08:13:56.743Z"
   },
   {
    "duration": 327,
    "start_time": "2022-09-22T08:14:21.247Z"
   },
   {
    "duration": 317,
    "start_time": "2022-09-22T08:18:34.697Z"
   },
   {
    "duration": 323,
    "start_time": "2022-09-22T08:18:58.529Z"
   },
   {
    "duration": 317,
    "start_time": "2022-09-22T08:26:18.150Z"
   },
   {
    "duration": 373,
    "start_time": "2022-09-22T08:28:16.009Z"
   },
   {
    "duration": 327,
    "start_time": "2022-09-22T08:39:23.635Z"
   },
   {
    "duration": 298,
    "start_time": "2022-09-22T08:41:53.885Z"
   },
   {
    "duration": 298,
    "start_time": "2022-09-22T08:42:05.663Z"
   },
   {
    "duration": 3,
    "start_time": "2022-09-22T08:43:09.563Z"
   },
   {
    "duration": 278,
    "start_time": "2022-09-22T08:43:13.808Z"
   },
   {
    "duration": 335,
    "start_time": "2022-09-22T08:43:40.069Z"
   },
   {
    "duration": 458,
    "start_time": "2022-09-22T08:50:12.846Z"
   },
   {
    "duration": 387,
    "start_time": "2022-09-22T08:50:31.872Z"
   },
   {
    "duration": 333,
    "start_time": "2022-09-22T08:53:31.334Z"
   },
   {
    "duration": 486,
    "start_time": "2022-09-22T08:58:36.065Z"
   },
   {
    "duration": 434,
    "start_time": "2022-09-22T08:58:59.307Z"
   },
   {
    "duration": 525,
    "start_time": "2022-09-22T09:01:05.240Z"
   },
   {
    "duration": 435,
    "start_time": "2022-09-22T09:01:15.612Z"
   },
   {
    "duration": 407,
    "start_time": "2022-09-22T09:01:20.252Z"
   },
   {
    "duration": 464,
    "start_time": "2022-09-22T09:08:56.032Z"
   },
   {
    "duration": 458,
    "start_time": "2022-09-22T09:14:33.676Z"
   },
   {
    "duration": 273,
    "start_time": "2022-09-22T10:12:20.173Z"
   },
   {
    "duration": 278,
    "start_time": "2022-09-22T10:13:41.972Z"
   },
   {
    "duration": 81,
    "start_time": "2022-09-22T10:14:15.185Z"
   },
   {
    "duration": 339,
    "start_time": "2022-09-22T10:14:27.378Z"
   },
   {
    "duration": 379,
    "start_time": "2022-09-22T10:15:20.877Z"
   },
   {
    "duration": 380,
    "start_time": "2022-09-22T10:23:26.242Z"
   },
   {
    "duration": 378,
    "start_time": "2022-09-22T10:24:43.226Z"
   },
   {
    "duration": 485,
    "start_time": "2022-09-22T10:24:57.200Z"
   },
   {
    "duration": 332,
    "start_time": "2022-09-22T10:25:07.165Z"
   },
   {
    "duration": 375,
    "start_time": "2022-09-22T10:36:05.533Z"
   },
   {
    "duration": 362,
    "start_time": "2022-09-22T10:36:47.864Z"
   },
   {
    "duration": 353,
    "start_time": "2022-09-22T10:38:04.972Z"
   },
   {
    "duration": 355,
    "start_time": "2022-09-22T10:38:23.104Z"
   },
   {
    "duration": 358,
    "start_time": "2022-09-22T10:44:56.114Z"
   },
   {
    "duration": 380,
    "start_time": "2022-09-22T10:45:09.434Z"
   },
   {
    "duration": 378,
    "start_time": "2022-09-22T10:47:41.864Z"
   },
   {
    "duration": 1462,
    "start_time": "2022-09-22T13:43:26.530Z"
   },
   {
    "duration": 727,
    "start_time": "2022-09-22T13:43:27.995Z"
   },
   {
    "duration": 88,
    "start_time": "2022-09-22T13:43:29.089Z"
   },
   {
    "duration": 101,
    "start_time": "2022-09-22T13:43:30.908Z"
   },
   {
    "duration": 231,
    "start_time": "2022-09-22T13:43:35.630Z"
   },
   {
    "duration": 41,
    "start_time": "2022-09-22T13:43:38.185Z"
   },
   {
    "duration": 85,
    "start_time": "2022-09-22T13:43:40.920Z"
   },
   {
    "duration": 27,
    "start_time": "2022-09-22T13:43:42.724Z"
   },
   {
    "duration": 15,
    "start_time": "2022-09-22T13:43:43.569Z"
   },
   {
    "duration": 6,
    "start_time": "2022-09-22T13:43:44.648Z"
   },
   {
    "duration": 678,
    "start_time": "2022-09-22T13:43:48.831Z"
   },
   {
    "duration": 511,
    "start_time": "2022-09-22T13:43:50.822Z"
   },
   {
    "duration": 429,
    "start_time": "2022-09-22T13:43:52.317Z"
   },
   {
    "duration": 400,
    "start_time": "2022-09-22T13:43:54.727Z"
   },
   {
    "duration": 439,
    "start_time": "2022-09-22T13:59:59.307Z"
   },
   {
    "duration": 391,
    "start_time": "2022-09-22T14:00:14.068Z"
   },
   {
    "duration": 24,
    "start_time": "2022-09-22T14:01:55.690Z"
   },
   {
    "duration": 65,
    "start_time": "2022-09-22T14:03:23.888Z"
   },
   {
    "duration": 76,
    "start_time": "2022-09-22T14:04:08.568Z"
   },
   {
    "duration": 380,
    "start_time": "2022-09-22T14:10:57.239Z"
   },
   {
    "duration": 265,
    "start_time": "2022-09-22T14:11:37.172Z"
   },
   {
    "duration": 458,
    "start_time": "2022-09-22T14:12:04.554Z"
   },
   {
    "duration": 385,
    "start_time": "2022-09-22T14:12:18.857Z"
   },
   {
    "duration": 422,
    "start_time": "2022-09-22T14:12:34.121Z"
   },
   {
    "duration": 357,
    "start_time": "2022-09-22T14:12:39.894Z"
   },
   {
    "duration": 1420,
    "start_time": "2022-09-22T16:40:00.995Z"
   },
   {
    "duration": 684,
    "start_time": "2022-09-22T16:40:02.417Z"
   },
   {
    "duration": 71,
    "start_time": "2022-09-22T16:40:03.102Z"
   },
   {
    "duration": 98,
    "start_time": "2022-09-22T16:40:03.175Z"
   },
   {
    "duration": 182,
    "start_time": "2022-09-22T16:40:03.275Z"
   },
   {
    "duration": 34,
    "start_time": "2022-09-22T16:40:03.459Z"
   },
   {
    "duration": 92,
    "start_time": "2022-09-22T16:40:03.495Z"
   },
   {
    "duration": 26,
    "start_time": "2022-09-22T16:40:03.589Z"
   },
   {
    "duration": 28,
    "start_time": "2022-09-22T16:40:03.617Z"
   },
   {
    "duration": 20,
    "start_time": "2022-09-22T16:40:03.650Z"
   },
   {
    "duration": 611,
    "start_time": "2022-09-22T16:40:03.671Z"
   },
   {
    "duration": 460,
    "start_time": "2022-09-22T16:40:04.284Z"
   },
   {
    "duration": 442,
    "start_time": "2022-09-22T16:40:04.746Z"
   },
   {
    "duration": 321,
    "start_time": "2022-09-22T16:40:05.190Z"
   },
   {
    "duration": 310,
    "start_time": "2022-09-22T16:40:05.513Z"
   },
   {
    "duration": 46,
    "start_time": "2022-09-22T16:40:05.825Z"
   },
   {
    "duration": 39,
    "start_time": "2022-09-22T16:40:05.872Z"
   },
   {
    "duration": 60,
    "start_time": "2022-09-22T16:40:05.913Z"
   },
   {
    "duration": 154,
    "start_time": "2022-09-22T16:40:05.974Z"
   },
   {
    "duration": 57,
    "start_time": "2022-09-22T16:40:06.130Z"
   },
   {
    "duration": 17,
    "start_time": "2022-09-22T16:40:06.189Z"
   },
   {
    "duration": 3,
    "start_time": "2022-09-22T16:40:06.208Z"
   },
   {
    "duration": 34,
    "start_time": "2022-09-22T16:40:06.233Z"
   },
   {
    "duration": 3,
    "start_time": "2022-09-22T16:40:06.270Z"
   },
   {
    "duration": 84,
    "start_time": "2022-09-22T16:40:06.276Z"
   },
   {
    "duration": 398,
    "start_time": "2022-09-22T16:40:06.362Z"
   },
   {
    "duration": 273,
    "start_time": "2022-09-22T16:40:06.762Z"
   },
   {
    "duration": 5,
    "start_time": "2022-09-22T16:40:07.041Z"
   },
   {
    "duration": 28,
    "start_time": "2022-09-22T16:40:07.048Z"
   },
   {
    "duration": 8,
    "start_time": "2022-09-22T16:40:07.078Z"
   },
   {
    "duration": 20,
    "start_time": "2022-09-22T16:40:07.088Z"
   },
   {
    "duration": 44,
    "start_time": "2022-09-22T16:40:07.110Z"
   },
   {
    "duration": 5,
    "start_time": "2022-09-22T16:40:07.156Z"
   },
   {
    "duration": 5638,
    "start_time": "2022-09-22T16:40:07.162Z"
   },
   {
    "duration": 17,
    "start_time": "2022-09-22T16:40:12.802Z"
   },
   {
    "duration": 22,
    "start_time": "2022-09-22T16:40:12.821Z"
   },
   {
    "duration": 28,
    "start_time": "2022-09-22T16:40:12.845Z"
   },
   {
    "duration": 9,
    "start_time": "2022-09-22T16:40:12.875Z"
   },
   {
    "duration": 111,
    "start_time": "2022-09-22T16:40:12.885Z"
   },
   {
    "duration": 9,
    "start_time": "2022-09-22T16:40:12.998Z"
   },
   {
    "duration": 9,
    "start_time": "2022-09-22T16:40:13.008Z"
   },
   {
    "duration": 18,
    "start_time": "2022-09-22T16:40:13.018Z"
   },
   {
    "duration": 18,
    "start_time": "2022-09-22T16:40:13.038Z"
   },
   {
    "duration": 19,
    "start_time": "2022-09-22T16:40:13.057Z"
   },
   {
    "duration": 11,
    "start_time": "2022-09-22T16:40:13.078Z"
   },
   {
    "duration": 327,
    "start_time": "2022-09-22T16:57:11.030Z"
   },
   {
    "duration": 323,
    "start_time": "2022-09-22T16:57:36.478Z"
   },
   {
    "duration": 177,
    "start_time": "2022-09-22T17:02:28.949Z"
   },
   {
    "duration": 51,
    "start_time": "2022-09-22T17:03:58.206Z"
   },
   {
    "duration": 45,
    "start_time": "2022-09-22T17:04:02.725Z"
   },
   {
    "duration": 50,
    "start_time": "2022-09-22T17:07:58.879Z"
   },
   {
    "duration": 53,
    "start_time": "2022-09-22T17:08:19.444Z"
   },
   {
    "duration": 42,
    "start_time": "2022-09-22T17:24:29.366Z"
   },
   {
    "duration": 43,
    "start_time": "2022-09-22T17:25:10.348Z"
   },
   {
    "duration": 41,
    "start_time": "2022-09-22T17:25:51.170Z"
   },
   {
    "duration": 43,
    "start_time": "2022-09-22T17:28:52.945Z"
   },
   {
    "duration": 42,
    "start_time": "2022-09-22T17:32:04.050Z"
   },
   {
    "duration": 45,
    "start_time": "2022-09-22T17:32:32.882Z"
   },
   {
    "duration": 50,
    "start_time": "2022-09-22T17:34:36.740Z"
   },
   {
    "duration": 43,
    "start_time": "2022-09-22T17:35:57.748Z"
   },
   {
    "duration": 37,
    "start_time": "2022-09-22T17:36:12.574Z"
   },
   {
    "duration": 46,
    "start_time": "2022-09-22T17:36:31.678Z"
   },
   {
    "duration": 66,
    "start_time": "2022-09-22T17:37:13.049Z"
   },
   {
    "duration": 66,
    "start_time": "2022-09-22T17:37:41.256Z"
   },
   {
    "duration": 23,
    "start_time": "2022-09-22T18:36:11.726Z"
   },
   {
    "duration": 16,
    "start_time": "2022-09-22T18:37:05.975Z"
   },
   {
    "duration": 19,
    "start_time": "2022-09-22T18:43:05.569Z"
   },
   {
    "duration": 31,
    "start_time": "2022-09-22T18:43:17.557Z"
   },
   {
    "duration": 31,
    "start_time": "2022-09-22T18:43:44.068Z"
   },
   {
    "duration": 9,
    "start_time": "2022-09-22T21:05:47.069Z"
   },
   {
    "duration": 2,
    "start_time": "2022-09-22T21:09:27.926Z"
   },
   {
    "duration": 129,
    "start_time": "2022-09-22T21:12:47.739Z"
   },
   {
    "duration": 61,
    "start_time": "2022-09-22T21:13:27.124Z"
   },
   {
    "duration": 720,
    "start_time": "2022-09-22T21:14:20.065Z"
   },
   {
    "duration": 40,
    "start_time": "2022-09-22T21:16:29.182Z"
   },
   {
    "duration": 18,
    "start_time": "2022-09-22T21:19:46.488Z"
   },
   {
    "duration": 1024,
    "start_time": "2022-09-22T21:41:24.799Z"
   },
   {
    "duration": 254,
    "start_time": "2022-09-22T21:41:25.826Z"
   },
   {
    "duration": 61,
    "start_time": "2022-09-22T21:41:26.082Z"
   },
   {
    "duration": 106,
    "start_time": "2022-09-22T21:41:26.146Z"
   },
   {
    "duration": 179,
    "start_time": "2022-09-22T21:41:26.254Z"
   },
   {
    "duration": 32,
    "start_time": "2022-09-22T21:41:26.435Z"
   },
   {
    "duration": 81,
    "start_time": "2022-09-22T21:41:26.468Z"
   },
   {
    "duration": 22,
    "start_time": "2022-09-22T21:41:26.551Z"
   },
   {
    "duration": 11,
    "start_time": "2022-09-22T21:41:26.574Z"
   },
   {
    "duration": 4,
    "start_time": "2022-09-22T21:41:26.587Z"
   },
   {
    "duration": 244,
    "start_time": "2022-09-22T21:41:26.593Z"
   },
   {
    "duration": 0,
    "start_time": "2022-09-22T21:41:26.840Z"
   },
   {
    "duration": 0,
    "start_time": "2022-09-22T21:41:26.841Z"
   },
   {
    "duration": 0,
    "start_time": "2022-09-22T21:41:26.842Z"
   },
   {
    "duration": 0,
    "start_time": "2022-09-22T21:41:26.843Z"
   },
   {
    "duration": 1,
    "start_time": "2022-09-22T21:41:26.844Z"
   },
   {
    "duration": 0,
    "start_time": "2022-09-22T21:41:26.846Z"
   },
   {
    "duration": 0,
    "start_time": "2022-09-22T21:41:26.848Z"
   },
   {
    "duration": 0,
    "start_time": "2022-09-22T21:41:26.849Z"
   },
   {
    "duration": 0,
    "start_time": "2022-09-22T21:41:26.850Z"
   },
   {
    "duration": 0,
    "start_time": "2022-09-22T21:41:26.851Z"
   },
   {
    "duration": 0,
    "start_time": "2022-09-22T21:41:26.852Z"
   },
   {
    "duration": 0,
    "start_time": "2022-09-22T21:41:26.853Z"
   },
   {
    "duration": 0,
    "start_time": "2022-09-22T21:41:26.854Z"
   },
   {
    "duration": 0,
    "start_time": "2022-09-22T21:41:26.856Z"
   },
   {
    "duration": 0,
    "start_time": "2022-09-22T21:41:26.857Z"
   },
   {
    "duration": 0,
    "start_time": "2022-09-22T21:41:26.858Z"
   },
   {
    "duration": 0,
    "start_time": "2022-09-22T21:41:26.859Z"
   },
   {
    "duration": 0,
    "start_time": "2022-09-22T21:41:26.860Z"
   },
   {
    "duration": 0,
    "start_time": "2022-09-22T21:41:26.862Z"
   },
   {
    "duration": 0,
    "start_time": "2022-09-22T21:41:26.862Z"
   },
   {
    "duration": 0,
    "start_time": "2022-09-22T21:41:26.863Z"
   },
   {
    "duration": 0,
    "start_time": "2022-09-22T21:41:26.864Z"
   },
   {
    "duration": 0,
    "start_time": "2022-09-22T21:41:26.865Z"
   },
   {
    "duration": 0,
    "start_time": "2022-09-22T21:41:26.866Z"
   },
   {
    "duration": 0,
    "start_time": "2022-09-22T21:41:26.867Z"
   },
   {
    "duration": 0,
    "start_time": "2022-09-22T21:41:26.868Z"
   },
   {
    "duration": 0,
    "start_time": "2022-09-22T21:41:26.869Z"
   },
   {
    "duration": 0,
    "start_time": "2022-09-22T21:41:26.869Z"
   },
   {
    "duration": 0,
    "start_time": "2022-09-22T21:41:26.870Z"
   },
   {
    "duration": 0,
    "start_time": "2022-09-22T21:41:26.872Z"
   },
   {
    "duration": 0,
    "start_time": "2022-09-22T21:41:26.873Z"
   },
   {
    "duration": 0,
    "start_time": "2022-09-22T21:41:26.874Z"
   },
   {
    "duration": 119,
    "start_time": "2022-09-22T21:42:35.765Z"
   },
   {
    "duration": 40,
    "start_time": "2022-09-22T21:42:42.913Z"
   },
   {
    "duration": 17,
    "start_time": "2022-09-22T21:42:58.596Z"
   },
   {
    "duration": 1101,
    "start_time": "2022-09-22T21:43:12.116Z"
   },
   {
    "duration": 246,
    "start_time": "2022-09-22T21:43:13.219Z"
   },
   {
    "duration": 60,
    "start_time": "2022-09-22T21:43:13.467Z"
   },
   {
    "duration": 79,
    "start_time": "2022-09-22T21:43:13.529Z"
   },
   {
    "duration": 170,
    "start_time": "2022-09-22T21:43:13.610Z"
   },
   {
    "duration": 32,
    "start_time": "2022-09-22T21:43:13.782Z"
   },
   {
    "duration": 81,
    "start_time": "2022-09-22T21:43:13.816Z"
   },
   {
    "duration": 38,
    "start_time": "2022-09-22T21:43:13.898Z"
   },
   {
    "duration": 11,
    "start_time": "2022-09-22T21:43:13.937Z"
   },
   {
    "duration": 8,
    "start_time": "2022-09-22T21:43:13.950Z"
   },
   {
    "duration": 144,
    "start_time": "2022-09-22T21:43:13.960Z"
   },
   {
    "duration": 50,
    "start_time": "2022-09-22T21:43:14.106Z"
   },
   {
    "duration": 18,
    "start_time": "2022-09-22T21:43:14.158Z"
   },
   {
    "duration": 11,
    "start_time": "2022-09-22T21:43:14.178Z"
   },
   {
    "duration": 19,
    "start_time": "2022-09-22T21:43:14.191Z"
   },
   {
    "duration": 35,
    "start_time": "2022-09-22T21:43:14.211Z"
   },
   {
    "duration": 7,
    "start_time": "2022-09-22T21:43:14.248Z"
   },
   {
    "duration": 4939,
    "start_time": "2022-09-22T21:43:14.257Z"
   },
   {
    "duration": 16,
    "start_time": "2022-09-22T21:43:19.198Z"
   },
   {
    "duration": 489,
    "start_time": "2022-09-22T21:43:19.216Z"
   },
   {
    "duration": 395,
    "start_time": "2022-09-22T21:43:19.707Z"
   },
   {
    "duration": 371,
    "start_time": "2022-09-22T21:43:20.104Z"
   },
   {
    "duration": 296,
    "start_time": "2022-09-22T21:43:20.476Z"
   },
   {
    "duration": 287,
    "start_time": "2022-09-22T21:43:20.774Z"
   },
   {
    "duration": 34,
    "start_time": "2022-09-22T21:43:21.063Z"
   },
   {
    "duration": 90,
    "start_time": "2022-09-22T21:43:21.099Z"
   },
   {
    "duration": 11,
    "start_time": "2022-09-22T21:43:21.191Z"
   },
   {
    "duration": 3,
    "start_time": "2022-09-22T21:43:21.205Z"
   },
   {
    "duration": 69,
    "start_time": "2022-09-22T21:43:21.209Z"
   },
   {
    "duration": 300,
    "start_time": "2022-09-22T21:43:21.280Z"
   },
   {
    "duration": 242,
    "start_time": "2022-09-22T21:43:21.582Z"
   },
   {
    "duration": 3,
    "start_time": "2022-09-22T21:43:21.826Z"
   },
   {
    "duration": 21,
    "start_time": "2022-09-22T21:43:21.831Z"
   },
   {
    "duration": 9,
    "start_time": "2022-09-22T21:43:21.854Z"
   },
   {
    "duration": 17,
    "start_time": "2022-09-22T21:43:21.865Z"
   },
   {
    "duration": 10,
    "start_time": "2022-09-22T21:43:21.883Z"
   },
   {
    "duration": 140,
    "start_time": "2022-09-22T21:43:21.894Z"
   },
   {
    "duration": 10,
    "start_time": "2022-09-22T21:43:22.036Z"
   },
   {
    "duration": 96,
    "start_time": "2022-09-22T21:43:22.047Z"
   },
   {
    "duration": 4,
    "start_time": "2022-09-22T21:43:22.145Z"
   },
   {
    "duration": 13,
    "start_time": "2022-09-22T21:43:22.150Z"
   },
   {
    "duration": 7,
    "start_time": "2022-09-22T21:43:22.164Z"
   },
   {
    "duration": 11,
    "start_time": "2022-09-22T21:43:22.173Z"
   },
   {
    "duration": 93,
    "start_time": "2022-09-22T21:46:40.994Z"
   },
   {
    "duration": 12,
    "start_time": "2022-09-22T21:47:30.186Z"
   },
   {
    "duration": 34,
    "start_time": "2022-09-22T21:49:20.794Z"
   },
   {
    "duration": 29,
    "start_time": "2022-09-22T21:49:31.544Z"
   },
   {
    "duration": 7,
    "start_time": "2022-09-22T21:50:38.209Z"
   },
   {
    "duration": 13,
    "start_time": "2022-09-22T21:50:45.231Z"
   },
   {
    "duration": 9,
    "start_time": "2022-09-22T21:52:24.663Z"
   },
   {
    "duration": 277,
    "start_time": "2022-09-22T22:30:27.376Z"
   },
   {
    "duration": 211,
    "start_time": "2022-09-22T22:40:31.375Z"
   },
   {
    "duration": 256,
    "start_time": "2022-09-22T22:40:51.527Z"
   },
   {
    "duration": 12,
    "start_time": "2022-09-22T22:45:46.359Z"
   },
   {
    "duration": 12,
    "start_time": "2022-09-22T22:48:33.168Z"
   },
   {
    "duration": 50,
    "start_time": "2022-09-22T23:03:12.690Z"
   },
   {
    "duration": 91,
    "start_time": "2022-09-22T23:05:28.786Z"
   },
   {
    "duration": 56,
    "start_time": "2022-09-22T23:06:12.688Z"
   },
   {
    "duration": 88,
    "start_time": "2022-09-22T23:06:30.948Z"
   },
   {
    "duration": 46,
    "start_time": "2022-09-22T23:08:15.479Z"
   },
   {
    "duration": 4,
    "start_time": "2022-09-22T23:08:48.710Z"
   },
   {
    "duration": 275,
    "start_time": "2022-09-22T23:08:49.476Z"
   },
   {
    "duration": 236,
    "start_time": "2022-09-22T23:09:17.384Z"
   },
   {
    "duration": 89,
    "start_time": "2022-09-22T23:10:17.024Z"
   },
   {
    "duration": 81,
    "start_time": "2022-09-22T23:12:59.298Z"
   },
   {
    "duration": 273,
    "start_time": "2022-09-22T23:13:27.207Z"
   },
   {
    "duration": 278,
    "start_time": "2022-09-22T23:15:25.254Z"
   },
   {
    "duration": 11,
    "start_time": "2022-09-22T23:15:53.156Z"
   },
   {
    "duration": 42,
    "start_time": "2022-09-22T23:16:10.092Z"
   },
   {
    "duration": 46,
    "start_time": "2022-09-22T23:16:31.377Z"
   },
   {
    "duration": 10,
    "start_time": "2022-09-22T23:17:13.931Z"
   },
   {
    "duration": 1090,
    "start_time": "2022-09-22T23:18:45.454Z"
   },
   {
    "duration": 254,
    "start_time": "2022-09-22T23:18:46.545Z"
   },
   {
    "duration": 69,
    "start_time": "2022-09-22T23:18:46.800Z"
   },
   {
    "duration": 88,
    "start_time": "2022-09-22T23:18:46.871Z"
   },
   {
    "duration": 152,
    "start_time": "2022-09-22T23:18:46.960Z"
   },
   {
    "duration": 42,
    "start_time": "2022-09-22T23:18:47.113Z"
   },
   {
    "duration": 79,
    "start_time": "2022-09-22T23:18:47.157Z"
   },
   {
    "duration": 24,
    "start_time": "2022-09-22T23:18:47.237Z"
   },
   {
    "duration": 10,
    "start_time": "2022-09-22T23:18:47.263Z"
   },
   {
    "duration": 4,
    "start_time": "2022-09-22T23:18:47.275Z"
   },
   {
    "duration": 148,
    "start_time": "2022-09-22T23:18:47.280Z"
   },
   {
    "duration": 40,
    "start_time": "2022-09-22T23:18:47.430Z"
   },
   {
    "duration": 16,
    "start_time": "2022-09-22T23:18:47.471Z"
   },
   {
    "duration": 11,
    "start_time": "2022-09-22T23:18:47.488Z"
   },
   {
    "duration": 43,
    "start_time": "2022-09-22T23:18:47.500Z"
   },
   {
    "duration": 14,
    "start_time": "2022-09-22T23:18:47.545Z"
   },
   {
    "duration": 4,
    "start_time": "2022-09-22T23:18:47.561Z"
   },
   {
    "duration": 5045,
    "start_time": "2022-09-22T23:18:47.567Z"
   },
   {
    "duration": 22,
    "start_time": "2022-09-22T23:18:52.613Z"
   },
   {
    "duration": 501,
    "start_time": "2022-09-22T23:18:52.636Z"
   },
   {
    "duration": 416,
    "start_time": "2022-09-22T23:18:53.138Z"
   },
   {
    "duration": 402,
    "start_time": "2022-09-22T23:18:53.555Z"
   },
   {
    "duration": 304,
    "start_time": "2022-09-22T23:18:53.959Z"
   },
   {
    "duration": 278,
    "start_time": "2022-09-22T23:18:54.265Z"
   },
   {
    "duration": 34,
    "start_time": "2022-09-22T23:18:54.544Z"
   },
   {
    "duration": 81,
    "start_time": "2022-09-22T23:18:54.579Z"
   },
   {
    "duration": 10,
    "start_time": "2022-09-22T23:18:54.661Z"
   },
   {
    "duration": 331,
    "start_time": "2022-09-22T23:18:54.674Z"
   },
   {
    "duration": 13,
    "start_time": "2022-09-22T23:18:55.006Z"
   },
   {
    "duration": 5,
    "start_time": "2022-09-22T23:18:55.020Z"
   },
   {
    "duration": 272,
    "start_time": "2022-09-22T23:18:55.026Z"
   },
   {
    "duration": 307,
    "start_time": "2022-09-22T23:18:55.300Z"
   },
   {
    "duration": 4,
    "start_time": "2022-09-22T23:18:55.608Z"
   },
   {
    "duration": 30,
    "start_time": "2022-09-22T23:18:55.614Z"
   },
   {
    "duration": 8,
    "start_time": "2022-09-22T23:18:55.645Z"
   },
   {
    "duration": 16,
    "start_time": "2022-09-22T23:18:55.655Z"
   },
   {
    "duration": 10,
    "start_time": "2022-09-22T23:18:55.672Z"
   },
   {
    "duration": 119,
    "start_time": "2022-09-22T23:18:55.683Z"
   },
   {
    "duration": 8,
    "start_time": "2022-09-22T23:18:55.804Z"
   },
   {
    "duration": 21,
    "start_time": "2022-09-22T23:18:55.814Z"
   },
   {
    "duration": 3,
    "start_time": "2022-09-22T23:18:55.837Z"
   },
   {
    "duration": 7,
    "start_time": "2022-09-22T23:18:55.842Z"
   },
   {
    "duration": 6,
    "start_time": "2022-09-22T23:18:55.850Z"
   },
   {
    "duration": 10,
    "start_time": "2022-09-22T23:18:55.858Z"
   },
   {
    "duration": 6,
    "start_time": "2022-09-22T23:19:38.187Z"
   },
   {
    "duration": 7,
    "start_time": "2022-09-22T23:19:52.333Z"
   },
   {
    "duration": 1077,
    "start_time": "2022-09-22T23:30:02.670Z"
   },
   {
    "duration": 266,
    "start_time": "2022-09-22T23:30:03.748Z"
   },
   {
    "duration": 63,
    "start_time": "2022-09-22T23:30:04.016Z"
   },
   {
    "duration": 113,
    "start_time": "2022-09-22T23:30:04.081Z"
   },
   {
    "duration": 173,
    "start_time": "2022-09-22T23:30:04.196Z"
   },
   {
    "duration": 33,
    "start_time": "2022-09-22T23:30:04.370Z"
   },
   {
    "duration": 88,
    "start_time": "2022-09-22T23:30:04.405Z"
   },
   {
    "duration": 39,
    "start_time": "2022-09-22T23:30:04.494Z"
   },
   {
    "duration": 11,
    "start_time": "2022-09-22T23:30:04.534Z"
   },
   {
    "duration": 4,
    "start_time": "2022-09-22T23:30:04.548Z"
   },
   {
    "duration": 150,
    "start_time": "2022-09-22T23:30:04.553Z"
   },
   {
    "duration": 50,
    "start_time": "2022-09-22T23:30:04.705Z"
   },
   {
    "duration": 15,
    "start_time": "2022-09-22T23:30:04.757Z"
   },
   {
    "duration": 10,
    "start_time": "2022-09-22T23:30:04.773Z"
   },
   {
    "duration": 22,
    "start_time": "2022-09-22T23:30:04.784Z"
   },
   {
    "duration": 31,
    "start_time": "2022-09-22T23:30:04.808Z"
   },
   {
    "duration": 4,
    "start_time": "2022-09-22T23:30:04.841Z"
   },
   {
    "duration": 5228,
    "start_time": "2022-09-22T23:30:04.847Z"
   },
   {
    "duration": 17,
    "start_time": "2022-09-22T23:30:10.077Z"
   },
   {
    "duration": 540,
    "start_time": "2022-09-22T23:30:10.095Z"
   },
   {
    "duration": 403,
    "start_time": "2022-09-22T23:30:10.637Z"
   },
   {
    "duration": 377,
    "start_time": "2022-09-22T23:30:11.042Z"
   },
   {
    "duration": 314,
    "start_time": "2022-09-22T23:30:11.420Z"
   },
   {
    "duration": 286,
    "start_time": "2022-09-22T23:30:11.736Z"
   },
   {
    "duration": 38,
    "start_time": "2022-09-22T23:30:12.023Z"
   },
   {
    "duration": 74,
    "start_time": "2022-09-22T23:30:12.063Z"
   },
   {
    "duration": 10,
    "start_time": "2022-09-22T23:30:12.139Z"
   },
   {
    "duration": 349,
    "start_time": "2022-09-22T23:30:12.152Z"
   },
   {
    "duration": 239,
    "start_time": "2022-09-22T23:30:12.503Z"
   },
   {
    "duration": 3,
    "start_time": "2022-09-22T23:30:12.744Z"
   },
   {
    "duration": 20,
    "start_time": "2022-09-22T23:30:12.749Z"
   },
   {
    "duration": 9,
    "start_time": "2022-09-22T23:30:12.771Z"
   },
   {
    "duration": 16,
    "start_time": "2022-09-22T23:30:12.781Z"
   },
   {
    "duration": 38,
    "start_time": "2022-09-22T23:30:12.798Z"
   },
   {
    "duration": 113,
    "start_time": "2022-09-22T23:30:12.837Z"
   },
   {
    "duration": 9,
    "start_time": "2022-09-22T23:30:12.952Z"
   },
   {
    "duration": 8,
    "start_time": "2022-09-22T23:30:12.962Z"
   },
   {
    "duration": 4,
    "start_time": "2022-09-22T23:30:12.972Z"
   },
   {
    "duration": 14,
    "start_time": "2022-09-22T23:30:12.977Z"
   },
   {
    "duration": 7,
    "start_time": "2022-09-22T23:30:12.993Z"
   },
   {
    "duration": 105,
    "start_time": "2022-09-22T23:30:13.002Z"
   },
   {
    "duration": 106,
    "start_time": "2022-09-22T23:39:02.346Z"
   },
   {
    "duration": 22,
    "start_time": "2022-09-22T23:40:12.521Z"
   },
   {
    "duration": 22,
    "start_time": "2022-09-22T23:40:48.589Z"
   },
   {
    "duration": 19,
    "start_time": "2022-09-22T23:42:32.497Z"
   },
   {
    "duration": 21,
    "start_time": "2022-09-22T23:42:48.132Z"
   },
   {
    "duration": 18,
    "start_time": "2022-09-22T23:45:06.906Z"
   },
   {
    "duration": 1383,
    "start_time": "2022-09-23T15:56:12.605Z"
   },
   {
    "duration": 843,
    "start_time": "2022-09-23T15:56:13.990Z"
   },
   {
    "duration": 73,
    "start_time": "2022-09-23T15:56:14.835Z"
   },
   {
    "duration": 116,
    "start_time": "2022-09-23T15:56:14.911Z"
   },
   {
    "duration": 202,
    "start_time": "2022-09-23T15:56:15.029Z"
   },
   {
    "duration": 55,
    "start_time": "2022-09-23T15:56:15.233Z"
   },
   {
    "duration": 91,
    "start_time": "2022-09-23T15:56:15.290Z"
   },
   {
    "duration": 27,
    "start_time": "2022-09-23T15:56:15.383Z"
   },
   {
    "duration": 12,
    "start_time": "2022-09-23T15:56:15.412Z"
   },
   {
    "duration": 9,
    "start_time": "2022-09-23T15:56:15.453Z"
   },
   {
    "duration": 174,
    "start_time": "2022-09-23T15:56:15.463Z"
   },
   {
    "duration": 54,
    "start_time": "2022-09-23T15:56:15.639Z"
   },
   {
    "duration": 16,
    "start_time": "2022-09-23T15:56:15.695Z"
   },
   {
    "duration": 11,
    "start_time": "2022-09-23T15:56:15.713Z"
   },
   {
    "duration": 50,
    "start_time": "2022-09-23T15:56:15.726Z"
   },
   {
    "duration": 17,
    "start_time": "2022-09-23T15:56:15.777Z"
   },
   {
    "duration": 4,
    "start_time": "2022-09-23T15:56:15.796Z"
   },
   {
    "duration": 5833,
    "start_time": "2022-09-23T15:56:15.802Z"
   },
   {
    "duration": 29,
    "start_time": "2022-09-23T15:56:21.639Z"
   },
   {
    "duration": 654,
    "start_time": "2022-09-23T15:56:21.672Z"
   },
   {
    "duration": 461,
    "start_time": "2022-09-23T15:56:22.328Z"
   },
   {
    "duration": 435,
    "start_time": "2022-09-23T15:56:22.791Z"
   },
   {
    "duration": 355,
    "start_time": "2022-09-23T15:56:23.228Z"
   },
   {
    "duration": 341,
    "start_time": "2022-09-23T15:56:23.585Z"
   },
   {
    "duration": 50,
    "start_time": "2022-09-23T15:56:23.928Z"
   },
   {
    "duration": 92,
    "start_time": "2022-09-23T15:56:23.979Z"
   },
   {
    "duration": 15,
    "start_time": "2022-09-23T15:56:24.074Z"
   },
   {
    "duration": 379,
    "start_time": "2022-09-23T15:56:24.094Z"
   },
   {
    "duration": 312,
    "start_time": "2022-09-23T15:56:24.475Z"
   },
   {
    "duration": 4,
    "start_time": "2022-09-23T15:56:24.789Z"
   },
   {
    "duration": 24,
    "start_time": "2022-09-23T15:56:24.794Z"
   },
   {
    "duration": 12,
    "start_time": "2022-09-23T15:56:24.820Z"
   },
   {
    "duration": 23,
    "start_time": "2022-09-23T15:56:24.854Z"
   },
   {
    "duration": 11,
    "start_time": "2022-09-23T15:56:24.878Z"
   },
   {
    "duration": 139,
    "start_time": "2022-09-23T15:56:24.891Z"
   },
   {
    "duration": 10,
    "start_time": "2022-09-23T15:56:25.032Z"
   },
   {
    "duration": 26,
    "start_time": "2022-09-23T15:56:25.044Z"
   },
   {
    "duration": 7,
    "start_time": "2022-09-23T15:56:25.072Z"
   },
   {
    "duration": 11,
    "start_time": "2022-09-23T15:56:25.081Z"
   },
   {
    "duration": 107,
    "start_time": "2022-09-23T15:56:25.094Z"
   },
   {
    "duration": 15,
    "start_time": "2022-09-23T15:56:25.203Z"
   },
   {
    "duration": 13,
    "start_time": "2022-09-23T16:51:22.998Z"
   },
   {
    "duration": 14,
    "start_time": "2022-09-23T16:51:27.572Z"
   },
   {
    "duration": 121,
    "start_time": "2022-09-23T16:51:57.415Z"
   },
   {
    "duration": 15,
    "start_time": "2022-09-23T16:52:46.878Z"
   },
   {
    "duration": 14,
    "start_time": "2022-09-23T16:55:28.516Z"
   },
   {
    "duration": 11,
    "start_time": "2022-09-23T16:55:36.206Z"
   },
   {
    "duration": 15,
    "start_time": "2022-09-23T16:55:36.393Z"
   },
   {
    "duration": 68,
    "start_time": "2022-09-23T16:57:32.685Z"
   },
   {
    "duration": 22,
    "start_time": "2022-09-23T16:57:55.488Z"
   },
   {
    "duration": 22,
    "start_time": "2022-09-23T16:58:47.709Z"
   },
   {
    "duration": 16,
    "start_time": "2022-09-23T17:00:37.892Z"
   },
   {
    "duration": 110,
    "start_time": "2022-09-23T17:05:00.828Z"
   },
   {
    "duration": 1301,
    "start_time": "2022-09-23T17:05:44.918Z"
   },
   {
    "duration": 284,
    "start_time": "2022-09-23T17:05:46.221Z"
   },
   {
    "duration": 70,
    "start_time": "2022-09-23T17:05:46.507Z"
   },
   {
    "duration": 115,
    "start_time": "2022-09-23T17:05:46.580Z"
   },
   {
    "duration": 222,
    "start_time": "2022-09-23T17:05:46.698Z"
   },
   {
    "duration": 62,
    "start_time": "2022-09-23T17:05:46.922Z"
   },
   {
    "duration": 124,
    "start_time": "2022-09-23T17:05:46.988Z"
   },
   {
    "duration": 47,
    "start_time": "2022-09-23T17:05:47.114Z"
   },
   {
    "duration": 14,
    "start_time": "2022-09-23T17:05:47.163Z"
   },
   {
    "duration": 8,
    "start_time": "2022-09-23T17:05:47.181Z"
   },
   {
    "duration": 199,
    "start_time": "2022-09-23T17:05:47.191Z"
   },
   {
    "duration": 65,
    "start_time": "2022-09-23T17:05:47.393Z"
   },
   {
    "duration": 22,
    "start_time": "2022-09-23T17:05:47.460Z"
   },
   {
    "duration": 17,
    "start_time": "2022-09-23T17:05:47.484Z"
   },
   {
    "duration": 21,
    "start_time": "2022-09-23T17:05:47.503Z"
   },
   {
    "duration": 45,
    "start_time": "2022-09-23T17:05:47.526Z"
   },
   {
    "duration": 7,
    "start_time": "2022-09-23T17:05:47.573Z"
   },
   {
    "duration": 6293,
    "start_time": "2022-09-23T17:05:47.582Z"
   },
   {
    "duration": 23,
    "start_time": "2022-09-23T17:05:53.878Z"
   },
   {
    "duration": 598,
    "start_time": "2022-09-23T17:05:53.903Z"
   },
   {
    "duration": 489,
    "start_time": "2022-09-23T17:05:54.502Z"
   },
   {
    "duration": 446,
    "start_time": "2022-09-23T17:05:54.994Z"
   },
   {
    "duration": 404,
    "start_time": "2022-09-23T17:05:55.442Z"
   },
   {
    "duration": 353,
    "start_time": "2022-09-23T17:05:55.854Z"
   },
   {
    "duration": 48,
    "start_time": "2022-09-23T17:05:56.209Z"
   },
   {
    "duration": 81,
    "start_time": "2022-09-23T17:05:56.259Z"
   },
   {
    "duration": 16,
    "start_time": "2022-09-23T17:05:56.354Z"
   },
   {
    "duration": 403,
    "start_time": "2022-09-23T17:05:56.374Z"
   },
   {
    "duration": 293,
    "start_time": "2022-09-23T17:05:56.779Z"
   },
   {
    "duration": 5,
    "start_time": "2022-09-23T17:05:57.075Z"
   },
   {
    "duration": 50,
    "start_time": "2022-09-23T17:05:57.082Z"
   },
   {
    "duration": 9,
    "start_time": "2022-09-23T17:05:57.134Z"
   },
   {
    "duration": 20,
    "start_time": "2022-09-23T17:05:57.144Z"
   },
   {
    "duration": 137,
    "start_time": "2022-09-23T17:05:57.166Z"
   },
   {
    "duration": 14,
    "start_time": "2022-09-23T17:05:57.307Z"
   },
   {
    "duration": 131,
    "start_time": "2022-09-23T17:05:57.324Z"
   },
   {
    "duration": 14,
    "start_time": "2022-09-23T17:05:57.457Z"
   },
   {
    "duration": 14,
    "start_time": "2022-09-23T17:05:57.473Z"
   },
   {
    "duration": 5,
    "start_time": "2022-09-23T17:05:57.489Z"
   },
   {
    "duration": 9,
    "start_time": "2022-09-23T17:05:57.496Z"
   },
   {
    "duration": 8,
    "start_time": "2022-09-23T17:05:57.507Z"
   },
   {
    "duration": 47,
    "start_time": "2022-09-23T17:05:57.517Z"
   },
   {
    "duration": 12,
    "start_time": "2022-09-23T17:07:33.228Z"
   },
   {
    "duration": 6,
    "start_time": "2022-09-23T20:03:23.750Z"
   },
   {
    "duration": 6,
    "start_time": "2022-09-23T20:03:37.270Z"
   },
   {
    "duration": 50,
    "start_time": "2022-09-23T20:05:41.429Z"
   },
   {
    "duration": 51,
    "start_time": "2022-09-23T20:08:41.189Z"
   },
   {
    "duration": 7,
    "start_time": "2022-09-23T20:08:48.789Z"
   },
   {
    "duration": 6,
    "start_time": "2022-09-23T20:08:49.602Z"
   },
   {
    "duration": 6,
    "start_time": "2022-09-23T20:09:40.005Z"
   },
   {
    "duration": 1229,
    "start_time": "2022-09-23T20:10:13.345Z"
   },
   {
    "duration": 290,
    "start_time": "2022-09-23T20:10:14.576Z"
   },
   {
    "duration": 69,
    "start_time": "2022-09-23T20:10:14.870Z"
   },
   {
    "duration": 111,
    "start_time": "2022-09-23T20:10:14.957Z"
   },
   {
    "duration": 209,
    "start_time": "2022-09-23T20:10:15.070Z"
   },
   {
    "duration": 41,
    "start_time": "2022-09-23T20:10:15.281Z"
   },
   {
    "duration": 99,
    "start_time": "2022-09-23T20:10:15.324Z"
   },
   {
    "duration": 45,
    "start_time": "2022-09-23T20:10:15.425Z"
   },
   {
    "duration": 11,
    "start_time": "2022-09-23T20:10:15.472Z"
   },
   {
    "duration": 30,
    "start_time": "2022-09-23T20:10:15.486Z"
   },
   {
    "duration": 227,
    "start_time": "2022-09-23T20:10:15.518Z"
   },
   {
    "duration": 53,
    "start_time": "2022-09-23T20:10:15.747Z"
   },
   {
    "duration": 18,
    "start_time": "2022-09-23T20:10:15.802Z"
   },
   {
    "duration": 35,
    "start_time": "2022-09-23T20:10:15.822Z"
   },
   {
    "duration": 47,
    "start_time": "2022-09-23T20:10:15.862Z"
   },
   {
    "duration": 33,
    "start_time": "2022-09-23T20:10:15.910Z"
   },
   {
    "duration": 35,
    "start_time": "2022-09-23T20:10:15.945Z"
   },
   {
    "duration": 6295,
    "start_time": "2022-09-23T20:10:15.982Z"
   },
   {
    "duration": 21,
    "start_time": "2022-09-23T20:10:22.279Z"
   },
   {
    "duration": 609,
    "start_time": "2022-09-23T20:10:22.302Z"
   },
   {
    "duration": 460,
    "start_time": "2022-09-23T20:10:22.913Z"
   },
   {
    "duration": 443,
    "start_time": "2022-09-23T20:10:23.376Z"
   },
   {
    "duration": 352,
    "start_time": "2022-09-23T20:10:23.821Z"
   },
   {
    "duration": 345,
    "start_time": "2022-09-23T20:10:24.175Z"
   },
   {
    "duration": 49,
    "start_time": "2022-09-23T20:10:24.522Z"
   },
   {
    "duration": 83,
    "start_time": "2022-09-23T20:10:24.573Z"
   },
   {
    "duration": 18,
    "start_time": "2022-09-23T20:10:24.664Z"
   },
   {
    "duration": 377,
    "start_time": "2022-09-23T20:10:24.685Z"
   },
   {
    "duration": 270,
    "start_time": "2022-09-23T20:10:25.069Z"
   },
   {
    "duration": 21,
    "start_time": "2022-09-23T20:10:25.341Z"
   },
   {
    "duration": 35,
    "start_time": "2022-09-23T20:10:25.365Z"
   },
   {
    "duration": 12,
    "start_time": "2022-09-23T20:10:25.402Z"
   },
   {
    "duration": 27,
    "start_time": "2022-09-23T20:10:25.416Z"
   },
   {
    "duration": 29,
    "start_time": "2022-09-23T20:10:25.445Z"
   },
   {
    "duration": 136,
    "start_time": "2022-09-23T20:10:25.476Z"
   },
   {
    "duration": 33,
    "start_time": "2022-09-23T20:10:25.614Z"
   },
   {
    "duration": 17,
    "start_time": "2022-09-23T20:10:25.649Z"
   },
   {
    "duration": 144,
    "start_time": "2022-09-23T20:10:25.668Z"
   },
   {
    "duration": 4,
    "start_time": "2022-09-23T20:10:25.814Z"
   },
   {
    "duration": 9,
    "start_time": "2022-09-23T20:10:25.820Z"
   },
   {
    "duration": 13,
    "start_time": "2022-09-23T20:10:25.830Z"
   },
   {
    "duration": 20,
    "start_time": "2022-09-23T20:10:25.855Z"
   },
   {
    "duration": 4,
    "start_time": "2022-09-23T20:30:34.448Z"
   },
   {
    "duration": 5,
    "start_time": "2022-09-23T20:30:57.826Z"
   },
   {
    "duration": 7,
    "start_time": "2022-09-23T20:31:11.574Z"
   },
   {
    "duration": 5,
    "start_time": "2022-09-23T20:35:00.705Z"
   },
   {
    "duration": 140,
    "start_time": "2022-09-23T20:35:13.105Z"
   },
   {
    "duration": 8,
    "start_time": "2022-09-23T20:35:46.210Z"
   },
   {
    "duration": 209,
    "start_time": "2022-09-23T20:38:34.529Z"
   },
   {
    "duration": 5,
    "start_time": "2022-09-23T20:44:17.474Z"
   },
   {
    "duration": 19,
    "start_time": "2022-09-23T20:45:22.900Z"
   },
   {
    "duration": 1381,
    "start_time": "2022-09-23T20:46:00.470Z"
   },
   {
    "duration": 310,
    "start_time": "2022-09-23T20:46:01.855Z"
   },
   {
    "duration": 94,
    "start_time": "2022-09-23T20:46:02.169Z"
   },
   {
    "duration": 125,
    "start_time": "2022-09-23T20:46:02.274Z"
   },
   {
    "duration": 222,
    "start_time": "2022-09-23T20:46:02.402Z"
   },
   {
    "duration": 55,
    "start_time": "2022-09-23T20:46:02.626Z"
   },
   {
    "duration": 105,
    "start_time": "2022-09-23T20:46:02.684Z"
   },
   {
    "duration": 27,
    "start_time": "2022-09-23T20:46:02.791Z"
   },
   {
    "duration": 48,
    "start_time": "2022-09-23T20:46:02.820Z"
   },
   {
    "duration": 19,
    "start_time": "2022-09-23T20:46:02.870Z"
   },
   {
    "duration": 183,
    "start_time": "2022-09-23T20:46:02.890Z"
   },
   {
    "duration": 51,
    "start_time": "2022-09-23T20:46:03.074Z"
   },
   {
    "duration": 45,
    "start_time": "2022-09-23T20:46:03.127Z"
   },
   {
    "duration": 13,
    "start_time": "2022-09-23T20:46:03.175Z"
   },
   {
    "duration": 31,
    "start_time": "2022-09-23T20:46:03.190Z"
   },
   {
    "duration": 18,
    "start_time": "2022-09-23T20:46:03.223Z"
   },
   {
    "duration": 26,
    "start_time": "2022-09-23T20:46:03.243Z"
   },
   {
    "duration": 6049,
    "start_time": "2022-09-23T20:46:03.270Z"
   },
   {
    "duration": 20,
    "start_time": "2022-09-23T20:46:09.321Z"
   },
   {
    "duration": 665,
    "start_time": "2022-09-23T20:46:09.343Z"
   },
   {
    "duration": 478,
    "start_time": "2022-09-23T20:46:10.010Z"
   },
   {
    "duration": 464,
    "start_time": "2022-09-23T20:46:10.490Z"
   },
   {
    "duration": 368,
    "start_time": "2022-09-23T20:46:10.956Z"
   },
   {
    "duration": 444,
    "start_time": "2022-09-23T20:46:11.326Z"
   },
   {
    "duration": 60,
    "start_time": "2022-09-23T20:46:11.773Z"
   },
   {
    "duration": 128,
    "start_time": "2022-09-23T20:46:11.836Z"
   },
   {
    "duration": 17,
    "start_time": "2022-09-23T20:46:11.965Z"
   },
   {
    "duration": 428,
    "start_time": "2022-09-23T20:46:11.985Z"
   },
   {
    "duration": 321,
    "start_time": "2022-09-23T20:46:12.415Z"
   },
   {
    "duration": 4,
    "start_time": "2022-09-23T20:46:12.738Z"
   },
   {
    "duration": 68,
    "start_time": "2022-09-23T20:46:12.754Z"
   },
   {
    "duration": 28,
    "start_time": "2022-09-23T20:46:12.824Z"
   },
   {
    "duration": 44,
    "start_time": "2022-09-23T20:46:12.853Z"
   },
   {
    "duration": 31,
    "start_time": "2022-09-23T20:46:12.899Z"
   },
   {
    "duration": 255,
    "start_time": "2022-09-23T20:46:12.933Z"
   },
   {
    "duration": 11,
    "start_time": "2022-09-23T20:46:13.190Z"
   },
   {
    "duration": 36,
    "start_time": "2022-09-23T20:46:13.203Z"
   },
   {
    "duration": 60,
    "start_time": "2022-09-23T20:46:13.241Z"
   },
   {
    "duration": 5,
    "start_time": "2022-09-23T20:46:13.303Z"
   },
   {
    "duration": 35,
    "start_time": "2022-09-23T20:46:13.310Z"
   },
   {
    "duration": 63,
    "start_time": "2022-09-23T20:46:13.349Z"
   },
   {
    "duration": 37,
    "start_time": "2022-09-23T21:06:14.297Z"
   },
   {
    "duration": 167,
    "start_time": "2022-09-23T21:06:35.546Z"
   },
   {
    "duration": 11,
    "start_time": "2022-09-23T21:06:45.199Z"
   },
   {
    "duration": 1202,
    "start_time": "2022-09-23T21:27:45.983Z"
   },
   {
    "duration": 267,
    "start_time": "2022-09-23T21:27:47.188Z"
   },
   {
    "duration": 74,
    "start_time": "2022-09-23T21:27:47.457Z"
   },
   {
    "duration": 104,
    "start_time": "2022-09-23T21:27:47.534Z"
   },
   {
    "duration": 206,
    "start_time": "2022-09-23T21:27:47.640Z"
   },
   {
    "duration": 36,
    "start_time": "2022-09-23T21:27:47.854Z"
   },
   {
    "duration": 94,
    "start_time": "2022-09-23T21:27:47.891Z"
   },
   {
    "duration": 27,
    "start_time": "2022-09-23T21:27:47.987Z"
   },
   {
    "duration": 12,
    "start_time": "2022-09-23T21:27:48.016Z"
   },
   {
    "duration": 28,
    "start_time": "2022-09-23T21:27:48.030Z"
   },
   {
    "duration": 163,
    "start_time": "2022-09-23T21:27:48.060Z"
   },
   {
    "duration": 59,
    "start_time": "2022-09-23T21:27:48.225Z"
   },
   {
    "duration": 19,
    "start_time": "2022-09-23T21:27:48.286Z"
   },
   {
    "duration": 17,
    "start_time": "2022-09-23T21:27:48.307Z"
   },
   {
    "duration": 59,
    "start_time": "2022-09-23T21:27:48.326Z"
   },
   {
    "duration": 26,
    "start_time": "2022-09-23T21:27:48.387Z"
   },
   {
    "duration": 6,
    "start_time": "2022-09-23T21:27:48.414Z"
   },
   {
    "duration": 5507,
    "start_time": "2022-09-23T21:27:48.422Z"
   },
   {
    "duration": 27,
    "start_time": "2022-09-23T21:27:53.931Z"
   },
   {
    "duration": 579,
    "start_time": "2022-09-23T21:27:53.959Z"
   },
   {
    "duration": 454,
    "start_time": "2022-09-23T21:27:54.540Z"
   },
   {
    "duration": 439,
    "start_time": "2022-09-23T21:27:54.996Z"
   },
   {
    "duration": 362,
    "start_time": "2022-09-23T21:27:55.437Z"
   },
   {
    "duration": 327,
    "start_time": "2022-09-23T21:27:55.800Z"
   },
   {
    "duration": 43,
    "start_time": "2022-09-23T21:27:56.128Z"
   },
   {
    "duration": 87,
    "start_time": "2022-09-23T21:27:56.173Z"
   },
   {
    "duration": 12,
    "start_time": "2022-09-23T21:27:56.262Z"
   },
   {
    "duration": 363,
    "start_time": "2022-09-23T21:27:56.277Z"
   },
   {
    "duration": 273,
    "start_time": "2022-09-23T21:27:56.642Z"
   },
   {
    "duration": 4,
    "start_time": "2022-09-23T21:27:56.917Z"
   },
   {
    "duration": 39,
    "start_time": "2022-09-23T21:27:56.922Z"
   },
   {
    "duration": 11,
    "start_time": "2022-09-23T21:27:56.963Z"
   },
   {
    "duration": 19,
    "start_time": "2022-09-23T21:27:56.975Z"
   },
   {
    "duration": 11,
    "start_time": "2022-09-23T21:27:56.996Z"
   },
   {
    "duration": 148,
    "start_time": "2022-09-23T21:27:57.009Z"
   },
   {
    "duration": 12,
    "start_time": "2022-09-23T21:27:57.158Z"
   },
   {
    "duration": 8,
    "start_time": "2022-09-23T21:27:57.171Z"
   },
   {
    "duration": 149,
    "start_time": "2022-09-23T21:27:57.181Z"
   },
   {
    "duration": 4,
    "start_time": "2022-09-23T21:27:57.332Z"
   },
   {
    "duration": 13,
    "start_time": "2022-09-23T21:27:57.355Z"
   },
   {
    "duration": 13,
    "start_time": "2022-09-23T21:27:57.371Z"
   },
   {
    "duration": 40,
    "start_time": "2022-09-23T21:27:57.386Z"
   },
   {
    "duration": 28,
    "start_time": "2022-09-23T21:27:57.427Z"
   },
   {
    "duration": 8,
    "start_time": "2022-09-23T21:27:57.457Z"
   },
   {
    "duration": 16,
    "start_time": "2022-09-23T22:01:45.611Z"
   },
   {
    "duration": 22,
    "start_time": "2022-09-23T22:01:54.010Z"
   },
   {
    "duration": 22,
    "start_time": "2022-09-23T22:02:27.916Z"
   },
   {
    "duration": 176,
    "start_time": "2022-09-23T23:43:21.785Z"
   },
   {
    "duration": 170,
    "start_time": "2022-09-23T23:43:46.878Z"
   },
   {
    "duration": 10,
    "start_time": "2022-09-23T23:46:31.006Z"
   },
   {
    "duration": 250,
    "start_time": "2022-09-23T23:50:09.220Z"
   },
   {
    "duration": 166,
    "start_time": "2022-09-23T23:50:34.800Z"
   },
   {
    "duration": 298,
    "start_time": "2022-09-23T23:51:33.495Z"
   },
   {
    "duration": 310,
    "start_time": "2022-09-23T23:52:40.620Z"
   },
   {
    "duration": 294,
    "start_time": "2022-09-23T23:54:55.714Z"
   },
   {
    "duration": 13,
    "start_time": "2022-09-24T00:31:23.709Z"
   },
   {
    "duration": 30,
    "start_time": "2022-09-24T00:35:13.538Z"
   },
   {
    "duration": 53,
    "start_time": "2022-09-24T00:35:53.160Z"
   },
   {
    "duration": 14,
    "start_time": "2022-09-24T00:36:07.851Z"
   },
   {
    "duration": 28,
    "start_time": "2022-09-24T00:37:24.656Z"
   },
   {
    "duration": 21,
    "start_time": "2022-09-24T00:38:19.951Z"
   },
   {
    "duration": 855,
    "start_time": "2022-09-24T00:38:32.714Z"
   },
   {
    "duration": 22,
    "start_time": "2022-09-24T00:39:32.265Z"
   },
   {
    "duration": 21,
    "start_time": "2022-09-24T00:39:38.028Z"
   },
   {
    "duration": 11,
    "start_time": "2022-09-24T00:52:15.828Z"
   },
   {
    "duration": 14,
    "start_time": "2022-09-24T00:52:45.468Z"
   },
   {
    "duration": 144,
    "start_time": "2022-09-24T00:53:12.576Z"
   },
   {
    "duration": 138,
    "start_time": "2022-09-24T01:04:29.281Z"
   },
   {
    "duration": 137,
    "start_time": "2022-09-24T01:06:45.847Z"
   },
   {
    "duration": 16,
    "start_time": "2022-09-24T01:08:49.098Z"
   },
   {
    "duration": 15,
    "start_time": "2022-09-24T01:10:27.467Z"
   },
   {
    "duration": 138,
    "start_time": "2022-09-24T01:12:11.756Z"
   },
   {
    "duration": 215,
    "start_time": "2022-09-24T01:12:39.850Z"
   },
   {
    "duration": 129,
    "start_time": "2022-09-24T01:13:55.358Z"
   },
   {
    "duration": 124,
    "start_time": "2022-09-24T01:14:12.984Z"
   },
   {
    "duration": 137,
    "start_time": "2022-09-24T01:15:06.723Z"
   },
   {
    "duration": 148,
    "start_time": "2022-09-24T01:17:03.630Z"
   },
   {
    "duration": 1334,
    "start_time": "2022-09-24T08:34:48.708Z"
   },
   {
    "duration": 663,
    "start_time": "2022-09-24T08:34:50.047Z"
   },
   {
    "duration": 73,
    "start_time": "2022-09-24T08:34:50.711Z"
   },
   {
    "duration": 98,
    "start_time": "2022-09-24T08:34:50.785Z"
   },
   {
    "duration": 172,
    "start_time": "2022-09-24T08:34:50.885Z"
   },
   {
    "duration": 31,
    "start_time": "2022-09-24T08:34:51.059Z"
   },
   {
    "duration": 88,
    "start_time": "2022-09-24T08:34:51.092Z"
   },
   {
    "duration": 24,
    "start_time": "2022-09-24T08:34:51.182Z"
   },
   {
    "duration": 12,
    "start_time": "2022-09-24T08:34:51.207Z"
   },
   {
    "duration": 7,
    "start_time": "2022-09-24T08:34:51.234Z"
   },
   {
    "duration": 142,
    "start_time": "2022-09-24T08:34:51.245Z"
   },
   {
    "duration": 37,
    "start_time": "2022-09-24T08:34:51.389Z"
   },
   {
    "duration": 18,
    "start_time": "2022-09-24T08:34:51.437Z"
   },
   {
    "duration": 9,
    "start_time": "2022-09-24T08:34:51.457Z"
   },
   {
    "duration": 21,
    "start_time": "2022-09-24T08:34:51.467Z"
   },
   {
    "duration": 13,
    "start_time": "2022-09-24T08:34:51.490Z"
   },
   {
    "duration": 19,
    "start_time": "2022-09-24T08:34:51.504Z"
   },
   {
    "duration": 5419,
    "start_time": "2022-09-24T08:34:51.533Z"
   },
   {
    "duration": 16,
    "start_time": "2022-09-24T08:34:56.953Z"
   },
   {
    "duration": 580,
    "start_time": "2022-09-24T08:34:56.970Z"
   },
   {
    "duration": 430,
    "start_time": "2022-09-24T08:34:57.553Z"
   },
   {
    "duration": 398,
    "start_time": "2022-09-24T08:34:57.985Z"
   },
   {
    "duration": 326,
    "start_time": "2022-09-24T08:34:58.385Z"
   },
   {
    "duration": 311,
    "start_time": "2022-09-24T08:34:58.713Z"
   },
   {
    "duration": 47,
    "start_time": "2022-09-24T08:34:59.025Z"
   },
   {
    "duration": 81,
    "start_time": "2022-09-24T08:34:59.074Z"
   },
   {
    "duration": 10,
    "start_time": "2022-09-24T08:34:59.157Z"
   },
   {
    "duration": 404,
    "start_time": "2022-09-24T08:34:59.169Z"
   },
   {
    "duration": 271,
    "start_time": "2022-09-24T08:34:59.575Z"
   },
   {
    "duration": 5,
    "start_time": "2022-09-24T08:34:59.847Z"
   },
   {
    "duration": 22,
    "start_time": "2022-09-24T08:34:59.854Z"
   },
   {
    "duration": 10,
    "start_time": "2022-09-24T08:34:59.877Z"
   },
   {
    "duration": 18,
    "start_time": "2022-09-24T08:34:59.888Z"
   },
   {
    "duration": 36,
    "start_time": "2022-09-24T08:34:59.907Z"
   },
   {
    "duration": 104,
    "start_time": "2022-09-24T08:34:59.945Z"
   },
   {
    "duration": 12,
    "start_time": "2022-09-24T08:35:00.051Z"
   },
   {
    "duration": 104,
    "start_time": "2022-09-24T08:35:00.064Z"
   },
   {
    "duration": 31,
    "start_time": "2022-09-24T08:35:00.170Z"
   },
   {
    "duration": 12,
    "start_time": "2022-09-24T08:35:00.202Z"
   },
   {
    "duration": 23,
    "start_time": "2022-09-24T08:35:00.216Z"
   },
   {
    "duration": 45,
    "start_time": "2022-09-24T08:35:00.249Z"
   },
   {
    "duration": 36,
    "start_time": "2022-09-24T08:35:00.296Z"
   },
   {
    "duration": 48,
    "start_time": "2022-09-24T08:35:00.337Z"
   },
   {
    "duration": 6,
    "start_time": "2022-09-24T08:35:00.387Z"
   },
   {
    "duration": 44,
    "start_time": "2022-09-24T08:35:00.395Z"
   },
   {
    "duration": 1126,
    "start_time": "2022-09-24T08:53:05.003Z"
   },
   {
    "duration": 286,
    "start_time": "2022-09-24T08:53:06.131Z"
   },
   {
    "duration": 80,
    "start_time": "2022-09-24T08:53:06.418Z"
   },
   {
    "duration": 115,
    "start_time": "2022-09-24T08:53:06.501Z"
   },
   {
    "duration": 170,
    "start_time": "2022-09-24T08:53:06.618Z"
   },
   {
    "duration": 43,
    "start_time": "2022-09-24T08:53:06.790Z"
   },
   {
    "duration": 68,
    "start_time": "2022-09-24T08:53:06.835Z"
   },
   {
    "duration": 40,
    "start_time": "2022-09-24T08:53:06.904Z"
   },
   {
    "duration": 10,
    "start_time": "2022-09-24T08:53:06.945Z"
   },
   {
    "duration": 9,
    "start_time": "2022-09-24T08:53:06.957Z"
   },
   {
    "duration": 144,
    "start_time": "2022-09-24T08:53:06.967Z"
   },
   {
    "duration": 44,
    "start_time": "2022-09-24T08:53:07.113Z"
   },
   {
    "duration": 15,
    "start_time": "2022-09-24T08:53:07.159Z"
   },
   {
    "duration": 10,
    "start_time": "2022-09-24T08:53:07.175Z"
   },
   {
    "duration": 16,
    "start_time": "2022-09-24T08:53:07.186Z"
   },
   {
    "duration": 40,
    "start_time": "2022-09-24T08:53:07.204Z"
   },
   {
    "duration": 5,
    "start_time": "2022-09-24T08:53:07.245Z"
   },
   {
    "duration": 5043,
    "start_time": "2022-09-24T08:53:07.251Z"
   },
   {
    "duration": 16,
    "start_time": "2022-09-24T08:53:12.296Z"
   },
   {
    "duration": 514,
    "start_time": "2022-09-24T08:53:12.314Z"
   },
   {
    "duration": 404,
    "start_time": "2022-09-24T08:53:12.829Z"
   },
   {
    "duration": 372,
    "start_time": "2022-09-24T08:53:13.235Z"
   },
   {
    "duration": 311,
    "start_time": "2022-09-24T08:53:13.609Z"
   },
   {
    "duration": 295,
    "start_time": "2022-09-24T08:53:13.922Z"
   },
   {
    "duration": 42,
    "start_time": "2022-09-24T08:53:14.218Z"
   },
   {
    "duration": 94,
    "start_time": "2022-09-24T08:53:14.262Z"
   },
   {
    "duration": 11,
    "start_time": "2022-09-24T08:53:14.358Z"
   },
   {
    "duration": 345,
    "start_time": "2022-09-24T08:53:14.372Z"
   },
   {
    "duration": 255,
    "start_time": "2022-09-24T08:53:14.719Z"
   },
   {
    "duration": 4,
    "start_time": "2022-09-24T08:53:14.976Z"
   },
   {
    "duration": 25,
    "start_time": "2022-09-24T08:53:14.981Z"
   },
   {
    "duration": 26,
    "start_time": "2022-09-24T08:53:15.008Z"
   },
   {
    "duration": 21,
    "start_time": "2022-09-24T08:53:15.036Z"
   },
   {
    "duration": 11,
    "start_time": "2022-09-24T08:53:15.058Z"
   },
   {
    "duration": 127,
    "start_time": "2022-09-24T08:53:15.071Z"
   },
   {
    "duration": 11,
    "start_time": "2022-09-24T08:53:15.200Z"
   },
   {
    "duration": 97,
    "start_time": "2022-09-24T08:53:15.212Z"
   },
   {
    "duration": 34,
    "start_time": "2022-09-24T08:53:15.311Z"
   },
   {
    "duration": 4,
    "start_time": "2022-09-24T08:53:15.347Z"
   },
   {
    "duration": 7,
    "start_time": "2022-09-24T08:53:15.352Z"
   },
   {
    "duration": 10,
    "start_time": "2022-09-24T08:53:15.360Z"
   },
   {
    "duration": 33,
    "start_time": "2022-09-24T08:53:15.372Z"
   },
   {
    "duration": 26,
    "start_time": "2022-09-24T08:53:15.407Z"
   }
  ],
  "kernelspec": {
   "display_name": "Python 3 (ipykernel)",
   "language": "python",
   "name": "python3"
  },
  "language_info": {
   "codemirror_mode": {
    "name": "ipython",
    "version": 3
   },
   "file_extension": ".py",
   "mimetype": "text/x-python",
   "name": "python",
   "nbconvert_exporter": "python",
   "pygments_lexer": "ipython3",
   "version": "3.9.13"
  },
  "toc": {
   "base_numbering": 1,
   "nav_menu": {},
   "number_sections": true,
   "sideBar": true,
   "skip_h1_title": true,
   "title_cell": "Содержание",
   "title_sidebar": "Contents",
   "toc_cell": true,
   "toc_position": {
    "height": "calc(100% - 180px)",
    "left": "10px",
    "top": "150px",
    "width": "188px"
   },
   "toc_section_display": true,
   "toc_window_display": true
  }
 },
 "nbformat": 4,
 "nbformat_minor": 2
}
